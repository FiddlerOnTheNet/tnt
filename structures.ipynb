{
 "cells": [
  {
   "cell_type": "code",
   "execution_count": 9,
   "metadata": {},
   "outputs": [
    {
     "name": "stdout",
     "output_type": "stream",
     "text": [
      "The autoreload extension is already loaded. To reload it, use:\n",
      "  %reload_ext autoreload\n"
     ]
    }
   ],
   "source": [
    "import sys, os, time\n",
    "import numpy as np\n",
    "import gc\n",
    "import pickle\n",
    "%load_ext autoreload\n",
    "%autoreload 2\n",
    "%matplotlib inline\n",
    "#%matplotlib tk\n",
    "import matplotlib.pyplot as plt\n",
    "import networkx as nx\n",
    "import tnt_util as util\n",
    "from structures import xset, adict, idict, tdict, tset, tlist, Transactionable, AbortTransaction, get_table"
   ]
  },
  {
   "cell_type": "code",
   "execution_count": 10,
   "metadata": {},
   "outputs": [
    {
     "data": {
      "text/plain": [
       "{'test':'asdf', 'b':10, 'x':[3, 3], 'm':90}"
      ]
     },
     "execution_count": 10,
     "metadata": {},
     "output_type": "execute_result"
    }
   ],
   "source": [
    "a = adict()\n",
    "a['test'] = 'asdf'\n",
    "a['b'] = 10\n",
    "a['x'] = [3,3]\n",
    "a.m = 100 - a.b\n",
    "a"
   ]
  },
  {
   "cell_type": "code",
   "execution_count": 11,
   "metadata": {},
   "outputs": [
    {
     "name": "stdout",
     "output_type": "stream",
     "text": [
      "idict[0](test:asdf, b:10, x:[3, 3]) [0]\n",
      "[]\n"
     ]
    }
   ],
   "source": [
    "def makeI():\n",
    "    b = idict()\n",
    "    b['test'] = 'asdf'\n",
    "    b['b'] = 10\n",
    "    b['x'] = [3,3]\n",
    "    print(b, list(get_table()))\n",
    "    del b\n",
    "    print(list(get_table()))\n",
    "makeI()"
   ]
  },
  {
   "cell_type": "code",
   "execution_count": 12,
   "metadata": {},
   "outputs": [
    {
     "data": {
      "text/plain": [
       "{'t':10, 'ls':[]}"
      ]
     },
     "execution_count": 12,
     "metadata": {},
     "output_type": "execute_result"
    }
   ],
   "source": [
    "a = tdict(t=10)\n",
    "a.ls = tlist()\n",
    "a"
   ]
  },
  {
   "cell_type": "code",
   "execution_count": 13,
   "metadata": {},
   "outputs": [
    {
     "data": {
      "text/plain": [
       "(True, True)"
      ]
     },
     "execution_count": 13,
     "metadata": {},
     "output_type": "execute_result"
    }
   ],
   "source": [
    "a.begin()\n",
    "a.in_transaction(), a.ls.in_transaction()"
   ]
  },
  {
   "cell_type": "code",
   "execution_count": 7,
   "metadata": {},
   "outputs": [
    {
     "data": {
      "text/plain": [
       "{'t':10, 'ls':[0, 1, 2, 3, 4, 5, 6, 7, 8, 9]}"
      ]
     },
     "execution_count": 7,
     "metadata": {},
     "output_type": "execute_result"
    }
   ],
   "source": [
    "a.ls.extend(range(10))\n",
    "a"
   ]
  },
  {
   "cell_type": "code",
   "execution_count": 8,
   "metadata": {},
   "outputs": [
    {
     "data": {
      "text/plain": [
       "{'t':10, 'ls':[0, 1, 2, 3, 4, 5, 6, 7, 8, 9], 'v':23.3}"
      ]
     },
     "execution_count": 8,
     "metadata": {},
     "output_type": "execute_result"
    }
   ],
   "source": [
    "a.v = 23.3\n",
    "a"
   ]
  },
  {
   "cell_type": "code",
   "execution_count": 9,
   "metadata": {},
   "outputs": [
    {
     "data": {
      "text/plain": [
       "{'t':10, 'ls':[]}"
      ]
     },
     "execution_count": 9,
     "metadata": {},
     "output_type": "execute_result"
    }
   ],
   "source": [
    "a.abort()\n",
    "a"
   ]
  },
  {
   "cell_type": "code",
   "execution_count": 48,
   "metadata": {},
   "outputs": [
    {
     "data": {
      "text/plain": [
       "[6]"
      ]
     },
     "execution_count": 48,
     "metadata": {},
     "output_type": "execute_result"
    }
   ],
   "source": [
    "a = tlist()\n",
    "a.append(6)\n",
    "a"
   ]
  },
  {
   "cell_type": "code",
   "execution_count": 49,
   "metadata": {},
   "outputs": [
    {
     "data": {
      "text/plain": [
       "[6, []]"
      ]
     },
     "execution_count": 49,
     "metadata": {},
     "output_type": "execute_result"
    }
   ],
   "source": [
    "a.append(tlist())\n",
    "a"
   ]
  },
  {
   "cell_type": "code",
   "execution_count": 50,
   "metadata": {},
   "outputs": [
    {
     "name": "stdout",
     "output_type": "stream",
     "text": [
      "[6, ['all'], 1, 3, 4] 5\n"
     ]
    },
    {
     "data": {
      "text/plain": [
       "[6, []]"
      ]
     },
     "execution_count": 50,
     "metadata": {},
     "output_type": "execute_result"
    }
   ],
   "source": [
    "with a:\n",
    "    a[-1].append('all')\n",
    "    a.extend([1,3,4])\n",
    "    print(a, len(a))\n",
    "    raise AbortTransaction\n",
    "a"
   ]
  },
  {
   "cell_type": "code",
   "execution_count": 21,
   "metadata": {},
   "outputs": [
    {
     "name": "stdout",
     "output_type": "stream",
     "text": [
      "[6, []]\n"
     ]
    }
   ],
   "source": [
    "a.begin()"
   ]
  },
  {
   "cell_type": "code",
   "execution_count": 22,
   "metadata": {
    "collapsed": true
   },
   "outputs": [],
   "source": [
    "from itertools import chain"
   ]
  },
  {
   "cell_type": "code",
   "execution_count": 23,
   "metadata": {
    "collapsed": true
   },
   "outputs": [],
   "source": [
    "x = [1,2]\n",
    "y = [3,4]"
   ]
  },
  {
   "cell_type": "code",
   "execution_count": 26,
   "metadata": {},
   "outputs": [
    {
     "data": {
      "text/plain": [
       "[1, 2, 3, 4]"
      ]
     },
     "execution_count": 26,
     "metadata": {},
     "output_type": "execute_result"
    }
   ],
   "source": [
    "list(chain(*[iter(i) for i in [x,y]]))"
   ]
  },
  {
   "cell_type": "code",
   "execution_count": null,
   "metadata": {
    "collapsed": true
   },
   "outputs": [],
   "source": []
  },
  {
   "cell_type": "code",
   "execution_count": 10,
   "metadata": {},
   "outputs": [
    {
     "name": "stdout",
     "output_type": "stream",
     "text": [
      "[['all', 'all'], 1, 3, 4] 4\n"
     ]
    }
   ],
   "source": [
    "a.begin()\n",
    "a[0].append('all')\n",
    "a.extend([1,3,4])\n",
    "print(a, len(a))\n",
    "a.abort()"
   ]
  },
  {
   "cell_type": "code",
   "execution_count": 11,
   "metadata": {},
   "outputs": [
    {
     "data": {
      "text/plain": [
       "[['all', 'all']]"
      ]
     },
     "execution_count": 11,
     "metadata": {},
     "output_type": "execute_result"
    }
   ],
   "source": [
    "a"
   ]
  },
  {
   "cell_type": "code",
   "execution_count": 62,
   "metadata": {
    "collapsed": true
   },
   "outputs": [],
   "source": []
  },
  {
   "cell_type": "code",
   "execution_count": 4,
   "metadata": {
    "scrolled": true
   },
   "outputs": [
    {
     "name": "stdout",
     "output_type": "stream",
     "text": [
      "True\n"
     ]
    },
    {
     "data": {
      "text/plain": [
       "{'c':3.4, 'test':'asdf', 'x':[3, 3]}"
      ]
     },
     "execution_count": 4,
     "metadata": {},
     "output_type": "execute_result"
    }
   ],
   "source": [
    "a = tdict()\n",
    "a['test'] = 'asdf'\n",
    "a.c = 3.4\n",
    "a['b'] = 10\n",
    "a['x'] = [3,3]\n",
    "print('c' in a)\n",
    "del a.b\n",
    "a"
   ]
  },
  {
   "cell_type": "code",
   "execution_count": 7,
   "metadata": {},
   "outputs": [
    {
     "name": "stdout",
     "output_type": "stream",
     "text": [
      "adict(c:3.4, test:asdf, x:[3, 3])\n",
      "adict(c:3.4, test:asdf, x:[3, 3])\n",
      "adict(c:3.4, dd:10000, test:asdf, x:[3, 3])\n",
      "adict(c:3.4, dd:10000, test:asdf)\n",
      "False\n",
      "adict(c:3.4, dd:10000, test:asdf)\n",
      "True\n",
      "adict(c:3.4, dd:10000, test:asdf)\n",
      "adict(c:3.4, test:asdf, x:[3, 3])\n",
      "True\n",
      "False\n"
     ]
    },
    {
     "data": {
      "text/plain": [
       "{'c':3.4, 'test':'asdf', 'x':[3, 3]}"
      ]
     },
     "execution_count": 7,
     "metadata": {},
     "output_type": "execute_result"
    }
   ],
   "source": [
    "print(a)\n",
    "a.begin()\n",
    "print(a)\n",
    "a['dd'] = 10000\n",
    "print(a)\n",
    "del a.x\n",
    "print(a)\n",
    "print('x' in a)\n",
    "print(a)\n",
    "print('dd' in a)\n",
    "print(a)\n",
    "a.abort()\n",
    "print(a)\n",
    "print('x' in a)\n",
    "print('dd' in a)\n",
    "a"
   ]
  },
  {
   "cell_type": "code",
   "execution_count": null,
   "metadata": {
    "collapsed": true
   },
   "outputs": [],
   "source": [
    "class tlist(transactionable, list):\n",
    "    def __init__(self, *args, **kwargs):\n",
    "        super().__init__(*args, **kwargs)\n",
    "        self._transaction = None\n",
    "        \n",
    "    def __getattribute__(self, key):\n",
    "        try:\n",
    "            return super().__getattribute__('_transaction').__getattribute__(key)\n",
    "        except:\n",
    "            return super().__getattribute__(key)\n",
    "    \n",
    "    def begin(self):\n",
    "        self._transaction = self.copy()\n",
    "        \n",
    "        for item in self:\n",
    "            if isinstance(item, transactionable):\n",
    "                item.begin()\n",
    "        \n",
    "    def in_transaction(self):\n",
    "        return self._transaction is not None\n",
    "    def commit(self):\n",
    "        \n",
    "        for item in self:\n",
    "            if isinstance(item, transactionable):\n",
    "                item.commit()\n",
    "        \n",
    "        changes = self._transaction\n",
    "        self._transaction = None\n",
    "        if self._transaction is not None:\n",
    "            self.clear()\n",
    "            self.extend(changes)\n",
    "    def abort(self):\n",
    "        for item in self:\n",
    "            if isinstance(item, transactionable):\n",
    "                item.abort()\n",
    "        self._transaction = None"
   ]
  },
  {
   "cell_type": "code",
   "execution_count": 48,
   "metadata": {},
   "outputs": [],
   "source": [
    "class __Empty_Transaction(object):\n",
    "    pass\n",
    "\n",
    "_reserved_attributes = {'begin', 'in_transaction', 'commit', 'abort', '__class__', '_Transactionable__enter__', '_Transactionable__exit__', \n",
    "                   '_original', '_transaction', '_iteration_fns', '_original_type_name'}\n",
    "class Transactionable(object):\n",
    "    def __init__(self, original, iterations=None):\n",
    "        if iterations is None:\n",
    "            iterations = [lambda x: x.__dict__.items()]\n",
    "        self._iteration_fns = iterations\n",
    "        \n",
    "        self._original_type_name = type(original).__name__\n",
    "        \n",
    "        assert original is not None, 'Cant create transactions for None'\n",
    "        #global __reserved_attributes\n",
    "        for key in _reserved_attributes:\n",
    "            try:\n",
    "                original.__getattribute__(key)\n",
    "            except AttributeError:\n",
    "                pass\n",
    "            else:\n",
    "                print('WARNING: Transactionable will make attribute {}.{} unavailable'.format(self._original_type_name, key))\n",
    "        \n",
    "        self._original = original\n",
    "        self._transaction = None #__Empty_Transaction\n",
    "        \n",
    "        self.__class__ = original.__class__\n",
    "        \n",
    "        \n",
    "    def __getattribute__(self, key):\n",
    "        if key in _reserved_attributes:\n",
    "            return super().__getattribute__(key)\n",
    "        try:\n",
    "            return self._transaction.__getattribute__(key)\n",
    "        except:\n",
    "            return self._original.__getattribute__(key)\n",
    "        \n",
    "    def __setattr__(self, key, value):\n",
    "        if key in _reserved_attributes:\n",
    "            return super().__setattr__(key, value)\n",
    "        try:\n",
    "            return self._transaction.__setattr__(key, value)\n",
    "        except:\n",
    "            return self._original.__setattr__(key, value)\n",
    "        \n",
    "    def begin(self):\n",
    "        if self.in_transaction():\n",
    "            self.abort()\n",
    "        self._transaction = self._original.copy()\n",
    "        \n",
    "        for itr_fn in self._iteration_fns:\n",
    "            for vals in itr_fn(self._transaction):\n",
    "                if isinstance(vals, Transactionable):\n",
    "                    vals.begin()\n",
    "                else:\n",
    "                    try:\n",
    "                        for v in vals:\n",
    "                            if isinstance(v, Transactionable):\n",
    "                                v.begin()\n",
    "                    except AttributeError:\n",
    "                        pass\n",
    "        \n",
    "    def in_transaction(self):\n",
    "        return self._transaction is not None\n",
    "    def commit(self):\n",
    "        if not self.in_transaction():\n",
    "            return\n",
    "        for itr_fn in self._iteration_fns:\n",
    "            for vals in itr_fn(self._transaction):\n",
    "                if isinstance(vals, Transactionable):\n",
    "                    vals.commit()\n",
    "                else:\n",
    "                    try:\n",
    "                        for v in vals:\n",
    "                            if isinstance(v, Transactionable):\n",
    "                                v.commit()\n",
    "                    except AttributeError:\n",
    "                        pass\n",
    "        \n",
    "        self._original = self._transaction\n",
    "        self._transaction = None\n",
    "    def abort(self):\n",
    "        if not self.in_transaction():\n",
    "            return\n",
    "        for itr_fn in self._iteration_fns:\n",
    "            for vals in itr_fn(self._transaction):\n",
    "                if isinstance(vals, Transactionable):\n",
    "                    vals.abort()\n",
    "                else:\n",
    "                    try:\n",
    "                        for v in vals:\n",
    "                            if isinstance(v, Transactionable):\n",
    "                                v.abort()\n",
    "                    except AttributeError:\n",
    "                        pass\n",
    "        \n",
    "        self._transaction = None\n",
    "    \n",
    "#     def __str__(self):\n",
    "#         if self._transaction is not None:\n",
    "#             return str(self._transaction)\n",
    "#         return str(self._original)\n",
    "    \n",
    "#     def __repr__(self):\n",
    "#         if self._transaction is not None:\n",
    "#             return repr(self._transaction)\n",
    "#         return repr(self._original)\n",
    "    \n",
    "    def __repr__(self):\n",
    "        return 'Failure'\n",
    "    \n",
    "    def __enter__(self):\n",
    "        self.begin()\n",
    "    def __exit__(self, type, *args):\n",
    "        if type is None:\n",
    "            self.commit()\n",
    "        else:\n",
    "            self.abort()"
   ]
  },
  {
   "cell_type": "code",
   "execution_count": 9,
   "metadata": {
    "collapsed": true
   },
   "outputs": [],
   "source": [
    "from wrapt import ObjectProxy\n",
    "from itertools import chain"
   ]
  },
  {
   "cell_type": "code",
   "execution_count": 89,
   "metadata": {
    "collapsed": true
   },
   "outputs": [],
   "source": [
    "class ToggleObjects(ObjectProxy):\n",
    "    def __init__(self, obj):\n",
    "        super().__init__(obj)\n",
    "        self._self_o1 = obj\n",
    "        self._self_o2 = obj.copy()\n",
    "        self._self_ind = True\n",
    "    def switch(self):\n",
    "        if self._self_ind:\n",
    "            self.__wrapped__ = self._self_o2\n",
    "        else:\n",
    "            self.__wrapped__ = self._self_o1\n",
    "        self._self_ind = not self._self_ind\n",
    "    def __repr__(self):\n",
    "        return self.__wrapped__.__repr__()\n",
    "    \n"
   ]
  },
  {
   "cell_type": "code",
   "execution_count": 19,
   "metadata": {},
   "outputs": [],
   "source": [
    "class Transactionable(ObjectProxy):\n",
    "    def __init__(self, original, iterations=None):\n",
    "        \n",
    "        super().__init__(original)\n",
    "        \n",
    "        if iterations is None:\n",
    "            iterations = [lambda x: chain(x.__dict__.items())]\n",
    "        self._self_iteration_fns = iterations if isinstance(iterations, list) else [iterations]\n",
    "        \n",
    "        \n",
    "        assert original is not None, 'Cant create transactions for None'\n",
    "        \n",
    "        self._self_original = original\n",
    "        self._self_transaction = None\n",
    "        \n",
    "    def begin(self):\n",
    "        if self.in_transaction():\n",
    "            self.abort()\n",
    "        self._self_transaction = self._self_original.copy()\n",
    "        self.__wrapped__ = self._self_transaction\n",
    "        \n",
    "        for val in chain(itr_fn(self._self_transaction) for itr_fn in self._self_iteration_fns):\n",
    "            if isinstance(val, Transactionable):\n",
    "                val.begin()\n",
    "        \n",
    "    def in_transaction(self):\n",
    "        return self._self_transaction is not None\n",
    "    def commit(self):\n",
    "        if not self.in_transaction():\n",
    "            return\n",
    "        for val in chain(itr_fn(self._self_transaction) for itr_fn in self._self_iteration_fns):\n",
    "            if isinstance(val, Transactionable):\n",
    "                val.commit()\n",
    "        \n",
    "        self._self_original = self._self_transaction\n",
    "        \n",
    "        self._self_transaction = None\n",
    "        self.__wrapped__ = self._self_original\n",
    "        \n",
    "    def abort(self):\n",
    "        if not self.in_transaction():\n",
    "            return\n",
    "        for val in chain(itr_fn(self._self_transaction) for itr_fn in self._self_iteration_fns):\n",
    "            if isinstance(val, Transactionable):\n",
    "                val.abort()\n",
    "        \n",
    "        self._self_transaction = None\n",
    "        self.__wrapped__ = self._self_original\n",
    "    \n",
    "    def __repr__(self):\n",
    "        return self.__wrapped__.__repr__()\n",
    "    def __str__(self):\n",
    "        return self.__wrapped__.__str__()\n",
    "    \n",
    "    def __enter__(self):\n",
    "        self.begin()\n",
    "    def __exit__(self, type, *args):\n",
    "        if type is None:\n",
    "            self.commit()\n",
    "        else:\n",
    "            self.abort()"
   ]
  },
  {
   "cell_type": "code",
   "execution_count": 20,
   "metadata": {
    "collapsed": true
   },
   "outputs": [],
   "source": [
    "class Test(object):\n",
    "    x = 10\n",
    "    _original = -5\n",
    "    \n",
    "    def copy(self):\n",
    "        copy = Test()\n",
    "        copy.__dict__ = self.__dict__.copy()\n",
    "        return copy\n",
    "    \n",
    "    def __len__(self):\n",
    "        return len(self.__dict__)\n",
    "    \n",
    "    def __str__(self):\n",
    "        return str(self.__dict__)\n",
    "    def __repr__(self):\n",
    "        return 'Test({})'.format(repr(self.__dict__))"
   ]
  },
  {
   "cell_type": "code",
   "execution_count": 31,
   "metadata": {},
   "outputs": [
    {
     "data": {
      "text/plain": [
       "Test({'test': 10})"
      ]
     },
     "execution_count": 31,
     "metadata": {},
     "output_type": "execute_result"
    }
   ],
   "source": [
    "x = Test()#[1,2]\n",
    "a = Transactionable(x)\n",
    "a.test = 10\n",
    "a"
   ]
  },
  {
   "cell_type": "code",
   "execution_count": 36,
   "metadata": {},
   "outputs": [],
   "source": [
    "a.begin()"
   ]
  },
  {
   "cell_type": "code",
   "execution_count": 37,
   "metadata": {},
   "outputs": [
    {
     "data": {
      "text/plain": [
       "Test({'x': 2304})"
      ]
     },
     "execution_count": 37,
     "metadata": {},
     "output_type": "execute_result"
    }
   ],
   "source": [
    "a.x = 2304\n",
    "del a.test\n",
    "a"
   ]
  },
  {
   "cell_type": "code",
   "execution_count": 34,
   "metadata": {},
   "outputs": [
    {
     "data": {
      "text/plain": [
       "Test({'test': 10})"
      ]
     },
     "execution_count": 34,
     "metadata": {},
     "output_type": "execute_result"
    }
   ],
   "source": [
    "a.abort()\n",
    "a"
   ]
  },
  {
   "cell_type": "code",
   "execution_count": 38,
   "metadata": {},
   "outputs": [
    {
     "data": {
      "text/plain": [
       "Test({'x': 2304})"
      ]
     },
     "execution_count": 38,
     "metadata": {},
     "output_type": "execute_result"
    }
   ],
   "source": [
    "a.commit()\n",
    "a"
   ]
  },
  {
   "cell_type": "code",
   "execution_count": 49,
   "metadata": {
    "collapsed": true
   },
   "outputs": [],
   "source": [
    "class Test(object):\n",
    "    x = 10\n",
    "    _original = -5\n",
    "    \n",
    "    def copy(self):\n",
    "        copy = Test()\n",
    "        copy.__dict__ = self.__dict__.copy()\n",
    "        return copy\n",
    "    \n",
    "    def __len__(self):\n",
    "        return 10\n",
    "    \n",
    "    def __str__(self):\n",
    "        return 'Success'\n",
    "        return str(self.__dict__)\n",
    "    def __repr__(self):\n",
    "        return 'Success'\n",
    "        return 'Test({})'.format(repr(self.__dict__))"
   ]
  },
  {
   "cell_type": "code",
   "execution_count": 10,
   "metadata": {},
   "outputs": [
    {
     "name": "stdout",
     "output_type": "stream",
     "text": [
      "None (None, None)\n"
     ]
    },
    {
     "data": {
      "text/plain": [
       "{'test':'asdf', 'b':10, 'x':[3, 3]}"
      ]
     },
     "execution_count": 10,
     "metadata": {},
     "output_type": "execute_result"
    }
   ],
   "source": [
    "with a:\n",
    "    a.x = 10\n",
    "a"
   ]
  },
  {
   "cell_type": "code",
   "execution_count": 1,
   "metadata": {
    "collapsed": true
   },
   "outputs": [],
   "source": [
    "a = slice(10,20,3)"
   ]
  },
  {
   "cell_type": "code",
   "execution_count": 3,
   "metadata": {},
   "outputs": [
    {
     "data": {
      "text/plain": [
       "10"
      ]
     },
     "execution_count": 3,
     "metadata": {},
     "output_type": "execute_result"
    }
   ],
   "source": [
    "a.start"
   ]
  },
  {
   "cell_type": "code",
   "execution_count": 11,
   "metadata": {
    "collapsed": true
   },
   "outputs": [],
   "source": [
    "a._transaction"
   ]
  },
  {
   "cell_type": "code",
   "execution_count": 22,
   "metadata": {
    "collapsed": true
   },
   "outputs": [],
   "source": [
    "a.m = 'dsf'"
   ]
  },
  {
   "cell_type": "code",
   "execution_count": 23,
   "metadata": {},
   "outputs": [
    {
     "data": {
      "text/plain": [
       "{'test':'asdf', 'b':10, 'x':[3, 3], 'm':'dsf'}"
      ]
     },
     "execution_count": 23,
     "metadata": {},
     "output_type": "execute_result"
    }
   ],
   "source": [
    "a"
   ]
  },
  {
   "cell_type": "code",
   "execution_count": 25,
   "metadata": {
    "collapsed": true
   },
   "outputs": [],
   "source": [
    "a._transaction"
   ]
  },
  {
   "cell_type": "code",
   "execution_count": 30,
   "metadata": {
    "collapsed": true
   },
   "outputs": [],
   "source": [
    "a = _DeleteItemFlag"
   ]
  },
  {
   "cell_type": "code",
   "execution_count": 33,
   "metadata": {},
   "outputs": [
    {
     "data": {
      "text/plain": [
       "False"
      ]
     },
     "execution_count": 33,
     "metadata": {},
     "output_type": "execute_result"
    }
   ],
   "source": [
    "a is _DeleteItemFlag"
   ]
  },
  {
   "cell_type": "code",
   "execution_count": null,
   "metadata": {
    "collapsed": true
   },
   "outputs": [],
   "source": []
  }
 ],
 "metadata": {
  "kernelspec": {
   "display_name": "Python 3",
   "language": "python",
   "name": "python3"
  },
  "language_info": {
   "codemirror_mode": {
    "name": "ipython",
    "version": 3
   },
   "file_extension": ".py",
   "mimetype": "text/x-python",
   "name": "python",
   "nbconvert_exporter": "python",
   "pygments_lexer": "ipython3",
   "version": "3.6.6"
  }
 },
 "nbformat": 4,
 "nbformat_minor": 2
}
