{
 "cells": [
  {
   "cell_type": "code",
   "execution_count": 1,
   "metadata": {},
   "outputs": [],
   "source": [
    "from IPython import embed\n",
    "import sys, os, time\n",
    "import numpy as np\n",
    "from multiprocessing.managers import BaseManager\n",
    "from tnt_errors import TestManager\n",
    "from tnt_util import xdict, render_dict, load"
   ]
  },
  {
   "cell_type": "code",
   "execution_count": 2,
   "metadata": {},
   "outputs": [
    {
     "name": "stdout",
     "output_type": "stream",
     "text": [
      "Connected\n"
     ]
    }
   ],
   "source": [
    "io = TestManager(reverse=True, send_ids=False)\n",
    "print('Connected')"
   ]
  },
  {
   "cell_type": "code",
   "execution_count": 11,
   "metadata": {},
   "outputs": [
    {
     "data": {
      "text/plain": [
       "{'test':'asdf', 'b':10, 'x':[3, 3]}"
      ]
     },
     "execution_count": 11,
     "metadata": {},
     "output_type": "execute_result"
    }
   ],
   "source": [
    "a = xdict()\n",
    "a['test'] = 'asdf'\n",
    "a['b'] = 10\n",
    "a['x'] = [3,3]\n",
    "a#.full_items()"
   ]
  },
  {
   "cell_type": "code",
   "execution_count": 12,
   "metadata": {},
   "outputs": [
    {
     "data": {
      "text/plain": [
       "6"
      ]
     },
     "execution_count": 12,
     "metadata": {},
     "output_type": "execute_result"
    }
   ],
   "source": [
    "a._id"
   ]
  },
  {
   "cell_type": "code",
   "execution_count": 20,
   "metadata": {},
   "outputs": [
    {
     "name": "stdout",
     "output_type": "stream",
     "text": [
      "Waiting for message... received\n"
     ]
    },
    {
     "data": {
      "text/plain": [
       "{'error':'Invalid_Action', 'msg':'Tile_Berlin_not_available_for_placement'}"
      ]
     },
     "execution_count": 20,
     "metadata": {},
     "output_type": "execute_result"
    }
   ],
   "source": [
    "#io.put(a)\n",
    "io.get()"
   ]
  },
  {
   "cell_type": "code",
   "execution_count": null,
   "metadata": {},
   "outputs": [],
   "source": []
  },
  {
   "cell_type": "code",
   "execution_count": 3,
   "metadata": {},
   "outputs": [
    {
     "data": {
      "text/plain": [
       "['Fortress',\n",
       " 'AirForce',\n",
       " 'Carrier',\n",
       " 'Submarine',\n",
       " 'Fleet',\n",
       " 'Tank',\n",
       " 'Infantry',\n",
       " 'Convoy']"
      ]
     },
     "execution_count": 3,
     "metadata": {},
     "output_type": "execute_result"
    }
   ],
   "source": [
    "unit_types = list(load('config/units.yml').keys())\n",
    "unit_types"
   ]
  },
  {
   "cell_type": "code",
   "execution_count": 4,
   "metadata": {},
   "outputs": [],
   "source": [
    "setup = xdict()"
   ]
  },
  {
   "cell_type": "code",
   "execution_count": 5,
   "metadata": {},
   "outputs": [
    {
     "name": "stdout",
     "output_type": "stream",
     "text": [
      "Waiting for message... received\n",
      "Waiting for message... received\n",
      "Waiting for message... received\n"
     ]
    }
   ],
   "source": [
    "for _ in range(3-len(setup)):\n",
    "    msg = io.get()\n",
    "    try:\n",
    "        setup[msg.player] = msg.info\n",
    "    except AttributeError:\n",
    "        print(msg.keys())"
   ]
  },
  {
   "cell_type": "code",
   "execution_count": 6,
   "metadata": {
    "scrolled": true
   },
   "outputs": [
    {
     "data": {
      "text/html": [
       "<div id=\"dcf18f05-fc8b-4401-9723-ad440ad70933\" style=\"height: 600px; width:100%;\"></div>"
      ]
     },
     "metadata": {},
     "output_type": "display_data"
    },
    {
     "data": {
      "application/javascript": [
       "\n",
       "\t\trequire([\"https://rawgit.com/caldwell/renderjson/master/renderjson.js\"], function() {\n",
       "\t\t  renderjson.set_show_to_level(1)\n",
       "\t\t  document.getElementById('dcf18f05-fc8b-4401-9723-ad440ad70933').appendChild(renderjson({'Axis': {'Germany': {'Berlin': '6', 'Ruhr': '4', 'Munich': '2', 'Konigsberg': '2'}, 'Italy': {'Rome': '4', 'Milan': '2', 'Tripoli': '2'}}, 'USSR': {'USSR': {'Moscow': '3', 'Leningrad': '2', 'Baku': '2', 'Kiev': '1', 'Kharkov': '1', 'Odessa': '1', 'Stalingrad': '1', 'Urals': '1'}}, 'West': {'Britain': {'London': '3', 'Delhi': '2', 'Glasgow': '1', 'Bombay': '1', 'Suez': '1'}, 'France': {'Paris': '2', 'Marseille': '1', 'Algiers': '1'}}}))\n",
       "\t\t});\n",
       "\t\t"
      ]
     },
     "metadata": {},
     "output_type": "display_data"
    }
   ],
   "source": [
    "render_dict(setup)"
   ]
  },
  {
   "cell_type": "code",
   "execution_count": 7,
   "metadata": {},
   "outputs": [
    {
     "data": {
      "text/plain": [
       "True"
      ]
     },
     "execution_count": 7,
     "metadata": {},
     "output_type": "execute_result"
    }
   ],
   "source": [
    "io.empty()"
   ]
  },
  {
   "cell_type": "code",
   "execution_count": 8,
   "metadata": {},
   "outputs": [
    {
     "data": {
      "text/plain": [
       "46"
      ]
     },
     "execution_count": 8,
     "metadata": {},
     "output_type": "execute_result"
    }
   ],
   "source": [
    "picks = []\n",
    "for faction, options in setup.items():\n",
    "    for nationality, tiles in options.items():\n",
    "        for tile, num in tiles.items():\n",
    "            for _ in range(num):\n",
    "                unit = xdict()\n",
    "                unit.nationality = nationality\n",
    "                unit.player = faction\n",
    "                unit.tile = tile\n",
    "                unit.type = np.random.choice(unit_types)\n",
    "                picks.append(unit)\n",
    "np.random.shuffle(picks)\n",
    "len(picks)"
   ]
  },
  {
   "cell_type": "code",
   "execution_count": 9,
   "metadata": {},
   "outputs": [
    {
     "data": {
      "text/plain": [
       "{'nationality':'Germany', 'player':'Axis', 'tile':'Berlin', 'type':'Fortress'}"
      ]
     },
     "execution_count": 9,
     "metadata": {},
     "output_type": "execute_result"
    }
   ],
   "source": [
    "picks[-1]"
   ]
  },
  {
   "cell_type": "code",
   "execution_count": 10,
   "metadata": {},
   "outputs": [
    {
     "data": {
      "text/plain": [
       "{'nationality':'Germany', 'player':'Axis', 'tile':'Berlin', 'type':'Fortress'}"
      ]
     },
     "execution_count": 10,
     "metadata": {},
     "output_type": "execute_result"
    }
   ],
   "source": [
    "msg = picks.pop()\n",
    "msg"
   ]
  },
  {
   "cell_type": "code",
   "execution_count": 18,
   "metadata": {},
   "outputs": [
    {
     "name": "stdout",
     "output_type": "stream",
     "text": [
      "Sent message\n"
     ]
    }
   ],
   "source": [
    "io.put(msg)"
   ]
  },
  {
   "cell_type": "code",
   "execution_count": null,
   "metadata": {},
   "outputs": [],
   "source": []
  }
 ],
 "metadata": {
  "kernelspec": {
   "display_name": "Python 3",
   "language": "python",
   "name": "python3"
  },
  "language_info": {
   "codemirror_mode": {
    "name": "ipython",
    "version": 3
   },
   "file_extension": ".py",
   "mimetype": "text/x-python",
   "name": "python",
   "nbconvert_exporter": "python",
   "pygments_lexer": "ipython3",
   "version": "3.7.2"
  }
 },
 "nbformat": 4,
 "nbformat_minor": 2
}
