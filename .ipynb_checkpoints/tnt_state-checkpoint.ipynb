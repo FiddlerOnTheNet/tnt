{
 "cells": [
  {
   "cell_type": "code",
   "execution_count": 1,
   "metadata": {},
   "outputs": [],
   "source": [
    "import sys, os, time\n",
    "import numpy as np\n",
    "%load_ext autoreload\n",
    "%autoreload 2\n",
    "%matplotlib inline\n",
    "#%matplotlib tk\n",
    "import matplotlib.pyplot as plt\n",
    "import networkx as nx\n",
    "import tnt_util as util\n",
    "from tnt_util import xdict, xset, collate, load\n",
    "from collections import namedtuple"
   ]
  },
  {
   "cell_type": "code",
   "execution_count": 2,
   "metadata": {},
   "outputs": [],
   "source": [
    "G = util.load_map()"
   ]
  },
  {
   "cell_type": "code",
   "execution_count": 4,
   "metadata": {},
   "outputs": [],
   "source": [
    "units = load('config/units.yml')\n",
    "nations = collate({v['alligence'] for k,v in G.nodes.items() if 'alligence' in v})\n",
    "teams = collate({\n",
    "    'West': {'UK', 'India', 'Middle East', 'Canada', \n",
    "             'France', 'French North Africa', },\n",
    "    'Axis': {'Germany', 'Italy'},\n",
    "    'USSR': {'USSR'},\n",
    "    'USA': {'USA'},\n",
    "})\n",
    "_nonindependent = xset()\n",
    "for v in teams.values():\n",
    "    _nonindependent.update(v)\n",
    "teams['Independent'] = {n for n in nations if n not in _nonindependent}"
   ]
  },
  {
   "cell_type": "code",
   "execution_count": 4,
   "metadata": {},
   "outputs": [
    {
     "data": {
      "text/plain": [
       "{'Afghanistan',\n",
       " 'Albania',\n",
       " 'Austria',\n",
       " 'Baltic States',\n",
       " 'Britain',\n",
       " 'Bulgaria',\n",
       " 'Czechoslovakia',\n",
       " 'Denmark',\n",
       " 'Finland',\n",
       " 'Gibraltar',\n",
       " 'Greece',\n",
       " 'Hungary',\n",
       " 'Ireland',\n",
       " 'Latin America',\n",
       " 'Libya',\n",
       " 'Low Countries',\n",
       " 'Malta',\n",
       " 'Norway',\n",
       " 'Persia',\n",
       " 'Poland',\n",
       " 'Portugal',\n",
       " 'Rumania',\n",
       " 'Spain',\n",
       " 'Sweden',\n",
       " 'Syria',\n",
       " 'Turkey',\n",
       " 'Yugoslavia'}"
      ]
     },
     "execution_count": 4,
     "metadata": {},
     "output_type": "execute_result"
    }
   ],
   "source": [
    "teams['Independent']"
   ]
  },
  {
   "cell_type": "code",
   "execution_count": 5,
   "metadata": {},
   "outputs": [
    {
     "data": {
      "text/plain": [
       "(36,\n",
       " {'Afghanistan',\n",
       "  'Albania',\n",
       "  'Austria',\n",
       "  'Baltic States',\n",
       "  'Britain',\n",
       "  'Bulgaria',\n",
       "  'Canada',\n",
       "  'Czechoslovakia',\n",
       "  'Denmark',\n",
       "  'Finland',\n",
       "  'France',\n",
       "  'French North Africa',\n",
       "  'Germany',\n",
       "  'Gibraltar',\n",
       "  'Greece',\n",
       "  'Hungary',\n",
       "  'India',\n",
       "  'Ireland',\n",
       "  'Italy',\n",
       "  'Latin America',\n",
       "  'Libya',\n",
       "  'Low Countries',\n",
       "  'Malta',\n",
       "  'Middle East',\n",
       "  'Norway',\n",
       "  'Persia',\n",
       "  'Poland',\n",
       "  'Portugal',\n",
       "  'Rumania',\n",
       "  'Spain',\n",
       "  'Sweden',\n",
       "  'Syria',\n",
       "  'Turkey',\n",
       "  'USA',\n",
       "  'USSR',\n",
       "  'Yugoslavia'})"
      ]
     },
     "execution_count": 5,
     "metadata": {},
     "output_type": "execute_result"
    }
   ],
   "source": [
    "len(nations), nations"
   ]
  },
  {
   "cell_type": "code",
   "execution_count": 6,
   "metadata": {},
   "outputs": [
    {
     "data": {
      "text/plain": [
       "38"
      ]
     },
     "execution_count": 6,
     "metadata": {},
     "output_type": "execute_result"
    }
   ],
   "source": [
    "tile_types = nations.copy()\n",
    "tile_types.add('Ocean')\n",
    "tile_types.add('Sea')\n",
    "len(tile_types)"
   ]
  },
  {
   "cell_type": "code",
   "execution_count": 7,
   "metadata": {},
   "outputs": [
    {
     "data": {
      "text/plain": [
       "{'type': 'land', 'alligence': 'Austria', 'res': 0, 'pop': 1, 'muster': 2}"
      ]
     },
     "execution_count": 7,
     "metadata": {},
     "output_type": "execute_result"
    }
   ],
   "source": [
    "G.nodes['Vienna']"
   ]
  },
  {
   "cell_type": "code",
   "execution_count": 8,
   "metadata": {},
   "outputs": [
    {
     "data": {
      "text/plain": [
       "{'type': 'land', 'alligence': 'Canada', 'res': 1, 'pop': 0, 'muster': 1}"
      ]
     },
     "execution_count": 8,
     "metadata": {},
     "output_type": "execute_result"
    }
   ],
   "source": [
    "G.nodes['Ottawa']"
   ]
  },
  {
   "cell_type": "code",
   "execution_count": 9,
   "metadata": {},
   "outputs": [
    {
     "data": {
      "text/plain": [
       "{'Axis': {'members': {'Germany': {'type': 'Great Power',\n",
       "    'HomeCapital': 'Berlin',\n",
       "    'SubCapitals': ['Ruhr']},\n",
       "   'Italy': {'type': 'Major Power',\n",
       "    'HomeCapital': 'Rome',\n",
       "    'Colonies': ['Lybia']}},\n",
       "  'MainCapital': 'Berlin',\n",
       "  'SubCapitals': ['Ruhr', 'Rome'],\n",
       "  'Handlimit': 7,\n",
       "  'FactoryCost': [5, 4, 3],\n",
       "  'EmergencyCommand': 4,\n",
       "  'setup': {'action_cards': 14,\n",
       "   'cadres': {'Germany': {'Berlin': 6,\n",
       "     'Ruhr': 4,\n",
       "     'Munich': 2,\n",
       "     'Konigsberg': 2},\n",
       "    'Italy': {'Rome': 4, 'Milan': 2, 'Tripoli': 2}}}},\n",
       " 'USSR': {'members': {'USSR': {'type': 'Great Power',\n",
       "    'HomeCapital': 'Moscow',\n",
       "    'SubCaptials': ['Leningrad', 'Baku']}},\n",
       "  'MainCapital': 'Moscow',\n",
       "  'SubCapitals': ['Leningrad', 'Baku'],\n",
       "  'Handlimit': 6,\n",
       "  'FactoryCost': [7, 5, 3],\n",
       "  'EmergencyCommand': 2,\n",
       "  'enable_Winter': True,\n",
       "  'setup': {'action_cards': 6,\n",
       "   'cadres': {'USSR': {'Moscow': 3,\n",
       "     'Leningrad': 2,\n",
       "     'Baku': 2,\n",
       "     'Kiev': 1,\n",
       "     'Kharkov': 1,\n",
       "     'Odessa': 1,\n",
       "     'Stalingrad': 1,\n",
       "     'Urals': 1}}}},\n",
       " 'West': {'members': {'Britain': {'type': 'Great Power',\n",
       "    'HomeCapital': 'London',\n",
       "    'SubCapitals': ['Delhi'],\n",
       "    'Colonies': ['Canada', 'Gibraltar', 'Malta', 'Middle East', 'India']},\n",
       "   'France': {'type': 'Major Power',\n",
       "    'HomeCapital': 'Paris',\n",
       "    'Colonies': ['French North Africa', 'Syria']},\n",
       "   'USA': {'type': 'Major Power', 'HomeCapital': 'Washington'}},\n",
       "  'MainCapital': 'London',\n",
       "  'SubCapitals': ['Delhi', 'Paris', 'Washington'],\n",
       "  'Handlimit': 8,\n",
       "  'FactoryCost': [6, 5, 4, 3],\n",
       "  'EmergencyCommand': 2,\n",
       "  'enable_USA': True,\n",
       "  'setup': {'action_cards': 8,\n",
       "   'units': [{'alligence': 'Britain',\n",
       "     'tile': 'London',\n",
       "     'type': 'Fleet',\n",
       "     'cv': 4},\n",
       "    {'alligence': 'Britain', 'tile': 'Gibraltar', 'type': 'Fortress', 'cv': 1},\n",
       "    {'alligence': 'Britain', 'tile': 'Karachi', 'type': 'Fortress', 'cv': 1},\n",
       "    {'alligence': 'France', 'tile': 'Lorraine', 'type': 'Fortress', 'cv': 3}],\n",
       "   'cadres': {'Britain': {'London': 3,\n",
       "     'Delhi': 2,\n",
       "     'Glasgow': 1,\n",
       "     'Bombay': 1,\n",
       "     'Suez': 1},\n",
       "    'France': {'Paris': 2, 'Marseilles': 1, 'Algiers': 1}}}}}"
      ]
     },
     "execution_count": 9,
     "metadata": {},
     "output_type": "execute_result"
    }
   ],
   "source": [
    "players_info = load(open('config/nation_setup.yml', 'r'))\n",
    "players_info"
   ]
  },
  {
   "cell_type": "code",
   "execution_count": 10,
   "metadata": {},
   "outputs": [
    {
     "ename": "NameError",
     "evalue": "name 'collate' is not defined",
     "output_type": "error",
     "traceback": [
      "\u001b[0;31m---------------------------------------------------------------------------\u001b[0m",
      "\u001b[0;31mNameError\u001b[0m                                 Traceback (most recent call last)",
      "\u001b[0;32m<ipython-input-10-26e9f33e2981>\u001b[0m in \u001b[0;36m<module>\u001b[0;34m()\u001b[0m\n\u001b[0;32m----> 1\u001b[0;31m \u001b[0minfo\u001b[0m \u001b[0;34m=\u001b[0m \u001b[0mcollate\u001b[0m\u001b[0;34m(\u001b[0m\u001b[0mplayers_info\u001b[0m\u001b[0;34m)\u001b[0m\u001b[0;34m\u001b[0m\u001b[0;34m\u001b[0m\u001b[0m\n\u001b[0m",
      "\u001b[0;31mNameError\u001b[0m: name 'collate' is not defined"
     ]
    }
   ],
   "source": [
    "info = collate(players_info)"
   ]
  },
  {
   "cell_type": "code",
   "execution_count": null,
   "metadata": {},
   "outputs": [],
   "source": []
  },
  {
   "cell_type": "code",
   "execution_count": null,
   "metadata": {},
   "outputs": [],
   "source": []
  },
  {
   "cell_type": "code",
   "execution_count": 14,
   "metadata": {
    "collapsed": true
   },
   "outputs": [],
   "source": [
    "class Fixed_Object(object):\n",
    "    def __init__(self):\n",
    "        pass\n",
    "    \n",
    "    def __eq__(self, other):\n",
    "        \n",
    "        for k in other.__dict__.keys():\n",
    "            if k not in self.__dict__:\n",
    "                return False\n",
    "        \n",
    "        for k, v in self.__dict__.items():\n",
    "            if k not in other.__dict__ or self.__dict__[k] != other.__dict__[k]:\n",
    "                return False\n",
    "        \n",
    "        return True\n",
    "    \n",
    "    def __neq__(self, other):\n",
    "        for k in other.__dict__.keys():\n",
    "            if k not in self.__dict__:\n",
    "                return True\n",
    "        \n",
    "        for k, v in self.__dict__.items():\n",
    "            if k not in other.__dict__ or self.__dict__[k] != other.__dict__[k]:\n",
    "                return True\n",
    "        \n",
    "        return False"
   ]
  },
  {
   "cell_type": "code",
   "execution_count": null,
   "metadata": {
    "collapsed": true
   },
   "outputs": [],
   "source": []
  },
  {
   "cell_type": "code",
   "execution_count": null,
   "metadata": {
    "collapsed": true
   },
   "outputs": [],
   "source": [
    "class Unit(FixedObject):\n",
    "    def __init__(self):\n",
    "        self.alligence = None\n",
    "        self.type = typ\n",
    "        self.pts = 1\n",
    "        self.tile = tile"
   ]
  },
  {
   "cell_type": "code",
   "execution_count": null,
   "metadata": {
    "collapsed": true
   },
   "outputs": [],
   "source": []
  },
  {
   "cell_type": "code",
   "execution_count": null,
   "metadata": {
    "collapsed": true
   },
   "outputs": [],
   "source": [
    "class Player(object):\n",
    "    def __init__(self, ):\n",
    "        super().__init__()\n",
    "        \n",
    "        self.owns = set()\n",
    "        self.units = set()\n",
    "        self.diplomacy = set()\n",
    "        self.cards = set()\n",
    "        \n",
    "class Independent_Nation(object):\n",
    "    def __init__(self):\n",
    "        self.name = None\n",
    "        self.influence = None\n",
    "        self.armed = False\n",
    "        self.satellite = False\n",
    "        \n",
    "class Tile(object):\n",
    "    def __init__(self, ):\n",
    "        self.name = None\n",
    "        self.alligence = None\n",
    "        self.units = set()\n",
    "\n",
    "class Card(object):\n",
    "    def __init__(self, ):\n",
    "        pass\n",
    "    \n",
    "class ActionCard(Card):\n",
    "    def __init__(self):\n",
    "        self.diplomacy = set()\n",
    "        self.special = False\n",
    "        self.command_value = None\n",
    "        self.command_priority = None\n",
    "        \n",
    "class FactoryCard(Card):\n",
    "    def __init__(self):\n",
    "        self.technologies = set()\n",
    "        self.factory_value = None\n",
    "        self.espionage = False\n",
    "\n",
    "class Units(object):\n",
    "    def __init__(self, ):\n",
    "        pass"
   ]
  },
  {
   "cell_type": "code",
   "execution_count": null,
   "metadata": {
    "collapsed": true
   },
   "outputs": [],
   "source": []
  },
  {
   "cell_type": "code",
   "execution_count": 8,
   "metadata": {},
   "outputs": [],
   "source": [
    "class Manager(object):\n",
    "    def __init__(self):\n",
    "        self.activate_player = None"
   ]
  },
  {
   "cell_type": "code",
   "execution_count": 9,
   "metadata": {},
   "outputs": [],
   "source": [
    "# engine - functional\n",
    "\n",
    "def setup()"
   ]
  },
  {
   "cell_type": "code",
   "execution_count": null,
   "metadata": {},
   "outputs": [],
   "source": []
  }
 ],
 "metadata": {
  "kernelspec": {
   "display_name": "Python 3",
   "language": "python",
   "name": "python3"
  },
  "language_info": {
   "codemirror_mode": {
    "name": "ipython",
    "version": 3
   },
   "file_extension": ".py",
   "mimetype": "text/x-python",
   "name": "python",
   "nbconvert_exporter": "python",
   "pygments_lexer": "ipython3",
   "version": "3.7.2"
  }
 },
 "nbformat": 4,
 "nbformat_minor": 2
}
