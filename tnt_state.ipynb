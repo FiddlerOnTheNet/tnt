{
 "cells": [
  {
   "cell_type": "code",
   "execution_count": 1,
   "metadata": {},
   "outputs": [],
   "source": [
    "import sys, os, time\n",
    "import numpy as np\n",
    "%load_ext autoreload\n",
    "%autoreload 2\n",
    "%matplotlib inline\n",
    "#%matplotlib tk\n",
    "import matplotlib.pyplot as plt\n",
    "import networkx as nx\n",
    "import tnt_util as util\n",
    "from tnt_util import xdict, xset, collate, load, load_map, render_dict\n",
    "from collections import namedtuple"
   ]
  },
  {
   "cell_type": "code",
   "execution_count": 3,
   "metadata": {},
   "outputs": [
    {
     "data": {
      "text/plain": [
       "xdict_keys('tiles')"
      ]
     },
     "execution_count": 3,
     "metadata": {},
     "output_type": "execute_result"
    }
   ],
   "source": [
    "G = load_map()\n",
    "G.keys()"
   ]
  },
  {
   "cell_type": "code",
   "execution_count": 4,
   "metadata": {
    "scrolled": true
   },
   "outputs": [
    {
     "data": {
      "text/html": [
       "<div id=\"441ce74e-41ec-4d81-bf8a-28ce578d3ae6\" style=\"height: 600px; width:100%;\"></div>"
      ]
     },
     "metadata": {},
     "output_type": "display_data"
    },
    {
     "data": {
      "application/javascript": [
       "\n",
       "        require([\"https://rawgit.com/caldwell/renderjson/master/renderjson.js\"], function() {\n",
       "          renderjson.set_show_to_level(1)\n",
       "          document.getElementById('441ce74e-41ec-4d81-bf8a-28ce578d3ae6').appendChild(renderjson({'tiles':{'Ottawa':{'type':'land', 'alligence':'Canada', 'res':1, 'pop':0, 'muster':1, 'borders':{'North_Atlantic_Ocean':'Coast', 'New_York':'Forest'}}, 'New_York':{'type':'land', 'alligence':'USA', 'res':2, 'pop':1, 'muster':2, 'borders':{'Ottawa':'Forest', 'North_Atlantic_Ocean':'Coast', 'Washington':'Plains'}}, 'Washington':{'type':'land', 'alligence':'USA', 'res':2, 'pop':2, 'muster':3, 'borders':{'New_York':'Plains', 'North_Atlantic_Ocean':'Coast'}}, 'Irish_Sea':{'type':'Sea', 'borders':{'Irminger_Sea':'Sea', 'North_Atlantic_Ocean':'Ocean', 'Bay_of_Biscay':'Sea', 'Norwegian_Sea':'Sea', 'English_Channel':'Sea', 'London':'Coast', 'Glasgow':'Coast', 'Dublin':'Coast', 'Iceland':'Coast'}}, 'North_Atlantic_Ocean':{'type':'Ocean', 'borders':{'Ottawa':'Coast', 'New_York':'Coast', 'Washington':'Coast', 'Irminger_Sea':'Ocean', 'Irish_Sea':'Ocean', 'Bay_of_Biscay':'Ocean', 'Azores':'Strait', 'Mid_Atlantic_Ocean':'Ocean'}}, 'Mid_Atlantic_Ocean':{'type':'Ocean', 'borders':{'North_Atlantic_Ocean':'Ocean', 'Azores':'Strait', 'South_Atlantic_Ocean':'Ocean', 'Rio_de_Janeiro':'Coast', 'Madeira_Sea':'Ocean', 'Dakar':'Coast', 'Morocco':'Coast'}}, 'South_Atlantic_Ocean':{'type':'Ocean', 'borders':{'Mid_Atlantic_Ocean':'Ocean', 'Rio_de_Janeiro':'Coast', 'Dakar':'Coast'}}, 'Rio_de_Janeiro':{'type':'land', 'alligence':'Latin_America', 'res':2, 'pop':0, 'muster':1, 'borders':{'South_Atlantic_Ocean':'Coast', 'Mid_Atlantic_Ocean':'Coast'}}, 'Dakar':{'type':'land', 'alligence':'French_North_Africa', 'res':0, 'pop':0, 'muster':0, 'borders':{'South_Atlantic_Ocean':'Coast', 'Mid_Atlantic_Ocean':'Coast', 'Morocco':'Plains'}}, 'Morocco':{'type':'land', 'alligence':'France', 'res':0, 'pop':0, 'muster':0, 'borders':{'Mid_Atlantic_Ocean':'Coast', 'Dakar':'Plains', 'Madeira_Sea':'Coast', 'Gibraltar':'Strait', 'Algiers':'Mountains'}}, 'Algiers':{'type':'land', 'alligence':'French_North_Africa', 'res':0, 'pop':1, 'muster':2, 'borders':{'Gibraltar':'Strait', 'Morocco':'Mountains', 'Tunisia':'Mountains', 'Western_Mediterranean':'Coast'}}, 'Tunisia':{'type':'land', 'alligence':'French_North_Africa', 'res':0, 'pop':0, 'muster':0, 'borders':{'Algiers':'Mountains', 'Western_Mediterranean':'Coast', 'Sfax':'Mountains', 'Malta':'Strait'}}, 'Sfax':{'type':'land', 'alligence':'French_North_Africa', 'res':0, 'pop':0, 'muster':0, 'borders':{'Tunisia':'Mountains', 'Tripoli':'Mountains', 'Malta':'Strait'}}, 'Gibraltar':{'type':'land', 'alligence':'Gibraltar', 'res':0, 'pop':0, 'muster':1, 'borders':{'Madeira_Sea':'Strait', 'Morocco':'Strait', 'Algiers':'Strait', 'Madrid':'Strait', 'Western_Mediterranean':'Strait', 'Barcelona':'Strait'}}, 'Madeira_Sea':{'type':'Sea', 'borders':{'Mid_Atlantic_Ocean':'Ocean', 'Bay_of_Biscay':'Sea', 'Azores':'Strait', 'Morocco':'Coast', 'Gibraltar':'Strait', 'Lisbon':'Coast', 'Leon':'Coast'}}, 'Lisbon':{'type':'land', 'alligence':'Portugal', 'res':1, 'pop':0, 'muster':1, 'borders':{'Madrid':'Plains', 'Madeira_Sea':'Coast', 'Leon':'Plains'}}, 'Madrid':{'type':'land', 'alligence':'Spain', 'res':0, 'pop':1, 'muster':3, 'borders':{'Gibraltar':'Strait', 'Lisbon':'Plains', 'Leon':'Coast', 'Barcelona':'Plains'}}, 'Leon':{'type':'land', 'alligence':'Spain', 'res':0, 'pop':0, 'muster':0, 'borders':{'Lisbon':'Plains', 'Madeira_Sea':'Coast', 'Bay_of_Biscay':'Coast', 'Madrid':'Coast', 'Barcelona':'Plains', 'Gascony':'Mountains'}}, 'Barcelona':{'type':'land', 'alligence':'Spain', 'res':0, 'pop':1, 'muster':0, 'borders':{'Gibraltar':'Strait', 'Madrid':'Plains', 'Leon':'Plains', 'Western_Mediterranean':'Coast', 'Gascony':'Mountains', 'Marseille':'Mountains'}}, 'Azores':{'type':'land', 'alligence':'Portugal', 'res':0, 'pop':0, 'muster':0, 'borders':{'North_Atlantic_Ocean':'Strait', 'Mid_Atlantic_Ocean':'Strait', 'Madeira_Sea':'Strait', 'Bay_of_Biscay':'Strait'}}, 'Bay_of_Biscay':{'type':'Sea', 'borders':{'North_Atlantic_Ocean':'Ocean', 'Madeira_Sea':'Sea', 'Azores':'Strait', 'Irish_Sea':'Sea', 'English_Channel':'Sea', 'Leon':'Coast', 'Paris':'coast', 'Gascony':'coast'}}, 'Dublin':{'type':'land', 'alligence':'Ireland', 'res':0, 'pop':0, 'muster':1, 'borders':{'Irish_Sea':'Coast'}}, 'Irminger_Sea':{'type':'Sea', 'borders':{'North_Atlantic_Ocean':'Ocean', 'Irish_Sea':'Sea', 'Iceland':'Coast', 'Greenland_Sea':'Sea'}}, 'Iceland':{'type':'land', 'alligence':'Denmark', 'res':0, 'pop':0, 'muster':0, 'borders':{'Irminger_Sea':'Coast', 'Greenland_Sea':'Coast', 'Norwegian_Sea':'Coast', 'Irish_Sea':'Coast'}}, 'Greenland_Sea':{'type':'Sea', 'borders':{'Irminger_Sea':'Sea', 'Norwegian_Sea':'Sea', 'Nordkapp_Sea':'Sea', 'Iceland':'Coast'}}, 'Norwegian_Sea':{'type':'Sea', 'borders':{'Greenland_Sea':'Sea', 'Irish_Sea':'Sea', 'Nordkapp_Sea':'Sea', 'Oslo':'Coast', 'North_Sea':'Sea', 'Glasgow':'Coast', 'Iceland':'Coast'}}, 'Nordkapp_Sea':{'type':'Sea', 'borders':{'Barents_Sea':'Sea', 'Narvik':'Coast', 'Oslo':'Coast', 'Norwegian_Sea':'Sea', 'Greenland_Sea':'Sea'}}, 'North_Sea':{'type':'Sea', 'borders':{'Copenhagen':'Strait', 'Oslo':'Coast', 'Ruhr':'Coast', 'Norwegian_Sea':'Sea', 'Amsterdam':'Sea', 'Glasgow':'Coast', 'London':'Coast', 'English_Channel':'Sea', 'Paris':'coast'}}, 'English_Channel':{'type':'Sea', 'borders':{'Irish_Sea':'Sea', 'Bay_of_Biscay':'Sea', 'North_Sea':'Sea', 'London':'Coast', 'Paris':'Coast'}}, 'Glasgow':{'type':'land', 'alligence':'Britain', 'res':1, 'pop':1, 'muster':2, 'borders':{'Norwegian_Sea':'Coast', 'North_Sea':'Coast', 'London':'Mountains', 'Irish_Sea':'Coast'}}, 'London':{'type':'land', 'alligence':'Britain', 'res':1, 'pop':3, 'muster':3, 'borders':{'North_Sea':'Coast', 'English_Channel':'Coast', 'Irish_Sea':'Coast', 'Glasgow':'Mountains'}}, 'Paris':{'type':'land', 'alligence':'France', 'res':0, 'pop':2, 'muster':3, 'borders':{'English_Channel':'Coast', 'Bay_of_Biscay':'coast', 'Gascony':'Plains', 'Lorraine':'Plains', 'Amsterdam':'Plains', 'North_Sea':'coast'}}, 'Lorraine':{'type':'land', 'alligence':'France', 'res':2, 'pop':0, 'muster':0, 'borders':{'Munich':'River', 'Paris':'Plains', 'Amsterdam':'Forest', 'Gascony':'Plains', 'Marseille':'Plains'}}, 'Gascony':{'type':'land', 'alligence':'France', 'res':0, 'pop':0, 'muster':0, 'borders':{'Leon':'Mountains', 'Barcelona':'Mountains', 'Bay_of_Biscay':'coast', 'Paris':'Plains', 'Lorraine':'Plains', 'Marseille':'Plains'}}, 'Marseille':{'type':'land', 'alligence':'France', 'res':0, 'pop':1, 'muster':2, 'borders':{'Barcelona':'Mountains', 'Western_Mediterranean':'Coast', 'Gascony':'Plains', 'Lorraine':'Plains', 'Milan':'Mountains'}}, 'Western_Mediterranean':{'type':'Sea', 'borders':{'Gibraltar':'Strait', 'Algiers':'Coast', 'Barcelona':'Coast', 'Tunisia':'Coast', 'Sardinia':'Coast', 'Tyrrhenian_Sea':'Sea', 'Milan':'Coast', 'Marseille':'Coast'}}, 'Sardinia':{'type':'land', 'alligence':'Italy', 'res':0, 'pop':0, 'muster':0, 'borders':{'Western_Mediterranean':'Coast', 'Tyrrhenian_Sea':'Coast'}}, 'Tyrrhenian_Sea':{'type':'Sea', 'borders':{'Western_Mediterranean':'Sea', 'Sardinia':'Coast', 'Malta':'Strait', 'Sicily':'Strait', 'Rome':'Coast', 'Milan':'Coast'}}, 'Malta':{'type':'land', 'alligence':'Malta', 'res':0, 'pop':0, 'muster':1, 'borders':{'Tunisia':'Strait', 'Sfax':'Strait', 'Tyrrhenian_Sea':'Strait', 'Central_Mediterranean':'Strait', 'Sicily':'Strait'}}, 'Sicily':{'type':'land', 'alligence':'Italy', 'res':0, 'pop':0, 'muster':0, 'borders':{'Malta':'Strait', 'Tyrrhenian_Sea':'Strait', 'Central_Mediterranean':'Strait', 'Rome':'Strait', 'Taranto':'Strait'}}, 'Central_Mediterranean':{'type':'Sea', 'borders':{'Malta':'Strait', 'Sicily':'Strait', 'Taranto':'Coast', 'Adriatic_Sea':'Sea', 'Tripoli':'Coast', 'Cyrenaica':'Coast', 'Albania':'Coast', 'Eastern_Mediterranean':'Sea', 'Aegean_Sea':'Sea', 'Athens':'Coast', 'Crete':'Coast'}}, 'Adriatic_Sea':{'type':'Sea', 'borders':{'Central_Mediterranean':'Sea', 'Venice':'Sea', 'Taranto':'Sea', 'Croatia':'Coast', 'Albania':'Coast'}}, 'Milan':{'type':'land', 'alligence':'Italy', 'res':1, 'pop':1, 'muster':2, 'borders':{'Tyrrhenian_Sea':'Coast', 'Rome':'Mountains', 'Western_Mediterranean':'Coast', 'Venice':'Plains', 'Marseille':'Mountains'}}, 'Rome':{'type':'land', 'alligence':'Italy', 'res':0, 'pop':2, 'muster':3, 'borders':{'Sicily':'Strait', 'Tyrrhenian_Sea':'Coast', 'Milan':'Mountains', 'Venice':'Mountains', 'Taranto':'Mountains'}}, 'Venice':{'type':'land', 'alligence':'Italy', 'res':1, 'pop':0, 'muster':0, 'borders':{'Milan':'Plains', 'Rome':'Mountains', 'Taranto':'Mountains', 'Adriatic_Sea':'Sea', 'Vienna':'Mountains', 'Croatia':'Mountains'}}, 'Taranto':{'type':'land', 'alligence':'Italy', 'res':0, 'pop':0, 'muster':0, 'borders':{'Sicily':'Strait', 'Rome':'Mountains', 'Venice':'Mountains', 'Central_Mediterranean':'Coast', 'Adriatic_Sea':'Sea'}}, 'Tripoli':{'type':'land', 'alligence':'Libya', 'res':0, 'pop':1, 'muster':2, 'borders':{'Sfax':'Mountains', 'Central_Mediterranean':'Coast', 'Cyrenaica':'Plains'}}, 'Cyrenaica':{'type':'land', 'alligence':'Libya', 'res':0, 'pop':0, 'muster':0, 'borders':{'Central_Mediterranean':'Coast', 'Tripoli':'Plains', 'Eastern_Mediterranean':'Coast', 'Egypt':'Plains'}}, 'Amsterdam':{'type':'land', 'alligence':'Low_Countries', 'res':0, 'pop':1, 'muster':2, 'borders':{'Ruhr':'River', 'Munich':'River', 'North_Sea':'Sea', 'Paris':'Plains', 'Lorraine':'Forest'}}, 'Vienna':{'type':'land', 'alligence':'Austria', 'res':0, 'pop':1, 'muster':2, 'borders':{'Prague':'Plains', 'Munich':'Plains', 'Venice':'Mountains', 'Croatia':'Mountains', 'Budapest':'Plains'}}, 'Munich':{'type':'land', 'alligence':'Germany', 'res':0, 'pop':1, 'muster':2, 'borders':{'Berlin':'Plains', 'Ruhr':'Plains', 'Prague':'Forest', 'Vienna':'Plains', 'Amsterdam':'River', 'Lorraine':'River'}}, 'Ruhr':{'type':'land', 'alligence':'Germany', 'res':3, 'pop':2, 'muster':3, 'borders':{'Copenhagen':'Strait', 'Baltic_Sea':'Coast', 'North_Sea':'Coast', 'Berlin':'Plains', 'Munich':'Plains', 'Amsterdam':'River'}}, 'Berlin':{'type':'land', 'alligence':'Germany', 'res':1, 'pop':3, 'muster':3, 'borders':{'Baltic_Sea':'Coast', 'Warsaw':'River', 'Ruhr':'Plains', 'Prague':'Forest', 'Munich':'Plains'}}, 'Copenhagen':{'type':'land', 'alligence':'Denmark', 'res':1, 'pop':0, 'muster':1, 'borders':{'Stockholm':'Strait', 'Baltic_Sea':'Strait', 'Oslo':'Strait', 'North_Sea':'Strait', 'Ruhr':'Strait'}}, 'Oslo':{'type':'land', 'alligence':'Norway', 'res':1, 'pop':0, 'muster':1, 'borders':{'Gallivare':'Mountains', 'Stockholm':'Forest', 'Narvik':'Mountains', 'Nordkapp_Sea':'Coast', 'Norwegian_Sea':'Coast', 'Copenhagen':'Strait', 'North_Sea':'Coast'}}, 'Narvik':{'type':'land', 'alligence':'Norway', 'res':0, 'pop':0, 'muster':0, 'borders':{'Petsamo':'Mountains', 'Barents_Sea':'Coast', 'Gallivare':'Mountains', 'Oslo':'Mountains', 'Nordkapp_Sea':'Coast'}}, 'Gallivare':{'type':'land', 'alligence':'Sweden', 'res':1, 'pop':0, 'muster':0, 'borders':{'Helsinki':'Forest', 'Petsamo':'Forest', 'Narvik':'Mountains', 'Oslo':'Mountains', 'Stockholm':'Forest', 'Gulf_of_Bothnia':'Coast'}}, 'Stockholm':{'type':'land', 'alligence':'Sweden', 'res':1, 'pop':1, 'muster':2, 'borders':{'Gallivare':'Forest', 'Gulf_of_Bothnia':'Coast', 'Baltic_Sea':'Coast', 'Oslo':'Forest', 'Copenhagen':'Strait'}}, 'Petsamo':{'type':'land', 'alligence':'Finland', 'res':1, 'pop':0, 'muster':0, 'borders':{'Murmansk':'Forest', 'Helsinki':'Forest', 'Narvik':'Mountains', 'Gallivare':'Forest'}}, 'Helsinki':{'type':'land', 'alligence':'Finland', 'res':0, 'pop':0, 'muster':1, 'borders':{'Leningrad':'Forest', 'Murmansk':'Forest', 'Petsamo':'Forest', 'Gulf_of_Bothnia':'Coast', 'Gallivare':'Forest'}}, 'Barents_Sea':{'type':'Sea', 'borders':{'Murmansk':'Coast', 'White_Sea':'Sea', 'Narvik':'Coast', 'Nordkapp_Sea':'Sea'}}, 'White_Sea':{'type':'Sea', 'borders':{'Archangel':'Coast', 'Murmansk':'Coast', 'Barents_Sea':'Sea'}}, 'Gulf_of_Bothnia':{'type':'Sea', 'borders':{'Helsinki':'Coast', 'Leningrad':'Coast', 'Gallivare':'Coast', 'Stockholm':'Coast', 'Riga':'Coast', 'Baltic_Sea':'Sea'}}, 'Baltic_Sea':{'type':'Sea', 'borders':{'Gulf_of_Bothnia':'Sea', 'Riga':'Coast', 'Stockholm':'Coast', 'Konigsberg':'Coast', 'Warsaw':'Coast', 'Copenhagen':'Strait', 'Berlin':'Coast', 'Ruhr':'Coast'}}, 'Riga':{'type':'land', 'alligence':'Baltic_States', 'res':0, 'pop':0, 'muster':1, 'borders':{'Leningrad':'Forest', 'Gulf_of_Bothnia':'Coast', 'Baltic_Sea':'Coast', 'Belorussia':'Plains', 'Vilna':'Plains', 'Konigsberg':'Plains'}}, 'Konigsberg':{'type':'land', 'alligence':'Germany', 'res':0, 'pop':1, 'muster':2, 'borders':{'Riga':'Plains', 'Vilna':'Forest', 'Baltic_Sea':'Coast', 'Warsaw':'River'}}, 'Warsaw':{'type':'land', 'alligence':'Poland', 'res':1, 'pop':1, 'muster':3, 'borders':{'Baltic_Sea':'Coast', 'Konigsberg':'River', 'Vilna':'River', 'Lvov':'River', 'Berlin':'River', 'Prague':'Forest'}}, 'Vilna':{'type':'land', 'alligence':'Poland', 'res':0, 'pop':0, 'muster':1, 'borders':{'Belorussia':'Plains', 'Riga':'Plains', 'Konigsberg':'Forest', 'Lvov':'Plains', 'Warsaw':'River'}}, 'Lvov':{'type':'land', 'alligence':'Poland', 'res':0, 'pop':1, 'muster':2, 'borders':{'Vilna':'Plains', 'Kiev':'Plains', 'Odessa':'Plains', 'Warsaw':'River', 'Prague':'Mountains', 'Budapest':'Mountains', 'Bucharest':'River'}}, 'Prague':{'type':'land', 'alligence':'Czechoslovakia', 'res':0, 'pop':1, 'muster':2, 'borders':{'Lvov':'Mountains', 'Warsaw':'Forest', 'Berlin':'Forest', 'Munich':'Forest', 'Budapest':'Mountains', 'Vienna':'Plains'}}, 'Budapest':{'type':'land', 'alligence':'Hungary', 'res':1, 'pop':1, 'muster':2, 'borders':{'Lvov':'Mountains', 'Prague':'Mountains', 'Croatia':'Plains', 'Belgrade':'Plains', 'Vienna':'Plains', 'Bucharest':'Mountains'}}, 'Croatia':{'type':'land', 'alligence':'Yugoslavia', 'res':1, 'pop':0, 'muster':0, 'borders':{'Adriatic_Sea':'Coast', 'Vienna':'Mountains', 'Venice':'Mountains', 'Budapest':'Plains', 'Belgrade':'Forest', 'Albania':'Mountains'}}, 'Belgrade':{'type':'land', 'alligence':'Yugoslavia', 'res':0, 'pop':0, 'muster':1, 'borders':{'Croatia':'Forest', 'Budapest':'Plains', 'Albania':'Mountains', 'Bucharest':'River', 'Sofia':'Mountains', 'Athens':'Mountains'}}, 'Albania':{'type':'land', 'alligence':'Albania', 'res':0, 'pop':0, 'muster':0, 'borders':{'Adriatic_Sea':'Coast', 'Central_Mediterranean':'Coast', 'Croatia':'Mountains', 'Belgrade':'Mountains', 'Athens':'Mountains'}}, 'Athens':{'type':'land', 'alligence':'Greece', 'res':1, 'pop':0, 'muster':1, 'borders':{'Central_Mediterranean':'Coast', 'Istanbul':'Strait', 'Sofia':'Mountains', 'Belgrade':'Mountains', 'Albania':'Mountains', 'Aegean_Sea':'coast'}}, 'Bucharest':{'type':'land', 'alligence':'Rumania', 'res':2, 'pop':1, 'muster':2, 'borders':{'Lvov':'River', 'Odessa':'River', 'Budapest':'Mountains', 'Belgrade':'River', 'Sofia':'River', 'Western_Black_Sea':'coast'}}, 'Sofia':{'type':'land', 'alligence':'Bulgaria', 'res':1, 'pop':0, 'muster':1, 'borders':{'Belgrade':'Mountains', 'Bucharest':'River', 'Western_Black_Sea':'coast', 'Istanbul':'Strait', 'Athens':'Mountains'}}, 'Aegean_Sea':{'type':'Sea', 'borders':{'Central_Mediterranean':'Sea', 'Crete':'Coast', 'Eastern_Mediterranean':'Sea', 'Izmir':'Coast', 'Istanbul':'Strait', 'Athens':'coast'}}, 'Crete':{'type':'Sea', 'borders':{'Central_Mediterranean':'Coast', 'Aegean_Sea':'Coast', 'Eastern_Mediterranean':'Coast'}}, 'Eastern_Mediterranean':{'type':'Sea', 'borders':{'Central_Mediterranean':'Sea', 'Cyrenaica':'Coast', 'Aegean_Sea':'Sea', 'Crete':'Coast', 'Suez':'Strait', 'Jordan':'Coast', 'Damascus':'Coast', 'Egypt':'Coast', 'Adana':'Coast', 'Izmir':'Coast'}}, 'Egypt':{'type':'land', 'alligence':'Middle_East', 'res':0, 'pop':0, 'muster':0, 'borders':{'Cyrenaica':'Plains', 'Suez':'Strait', 'Eastern_Mediterranean':'Coast'}}, 'Suez':{'type':'land', 'alligence':'Middle_East', 'res':0, 'pop':1, 'muster':2, 'borders':{'Egypt':'Strait', 'Eastern_Mediterranean':'Strait', 'Sudan':'Strait', 'Jordan':'Strait', 'Red_Sea':'Strait'}}, 'Sudan':{'type':'land', 'alligence':'Middle_East', 'res':0, 'pop':0, 'muster':0, 'borders':{'Suez':'Strait', 'Red_Sea':'Coast'}}, 'Jordan':{'type':'land', 'alligence':'Middle_East', 'res':0, 'pop':0, 'muster':0, 'borders':{'Suez':'Strait', 'Eastern_Mediterranean':'Coast', 'Damascus':'Plains', 'Iraq':'Plains'}}, 'Iraq':{'type':'land', 'alligence':'Middle_East', 'res':1, 'res-afr':1, 'pop':0, 'muster':0, 'borders':{'Persian_Gulf':'Coast', 'Damascus':'Plains', 'Jordan':'Plains', 'Abadan':'Plains'}}, 'Damascus':{'type':'land', 'alligence':'Syria', 'res':0, 'pop':0, 'muster':1, 'borders':{'Eastern_Mediterranean':'Coast', 'Jordan':'Plains', 'Iraq':'Plains', 'Adana':'Plains'}}, 'Red_Sea':{'type':'Sea', 'borders':{'Suez':'Strait', 'Sudan':'Coast', 'Gulf_of_Aden':'Sea'}}, 'Gulf_of_Aden':{'type':'Sea', 'borders':{'Red_Sea':'Sea', 'Arabian_Sea':'Sea', 'West_Indian_Ocean':'Ocean'}}, 'West_Indian_Ocean':{'type':'Sea', 'borders':{'Gulf_of_Aden':'Ocean', 'Arabian_Sea':'Ocean', 'East_Indian_Ocean':'Ocean'}}, 'East_Indian_Ocean':{'type':'Sea', 'borders':{'Arabian_Sea':'Ocean', 'West_Indian_Ocean':'Ocean', 'Bombay':'Coast', 'Delhi':'Coast'}}, 'Arabian_Sea':{'type':'Sea', 'borders':{'Gulf_of_Aden':'Sea', 'West_Indian_Ocean':'Ocean', 'Persian_Gulf':'Sea', 'East_Indian_Ocean':'Ocean', 'Bombay':'Coast', 'Karachi':'Coast', 'Shiraz':'Coast'}}, 'Persian_Gulf':{'type':'Sea', 'borders':{'Arabian_Sea':'Sea', 'Shiraz':'Coast', 'Abadan':'Coast', 'Iraq':'Coast'}}, 'Bombay':{'type':'land', 'alligence':'India', 'res':1, 'res-afr':1, 'pop':1, 'muster':2, 'borders':{'Arabian_Sea':'Coast', 'East_Indian_Ocean':'Coast', 'Karachi':'Plains', 'Delhi':'Plains'}}, 'Karachi':{'type':'land', 'alligence':'India', 'res':0, 'res-afr':0, 'pop':0, 'muster':0, 'borders':{'Arabian_Sea':'Coast', 'Bombay':'Plains', 'Delhi':'Plains', 'Kabul':'Mountains', 'Shiraz':'Mountains'}}, 'Delhi':{'type':'land', 'alligence':'India', 'res':1, 'res-afr':1, 'pop':2, 'muster':3, 'borders':{'East_Indian_Ocean':'Coast', 'Bombay':'Plains', 'Karachi':'Plains'}}, 'Kabul':{'type':'land', 'alligence':'Afghanistan', 'res':0, 'pop':0, 'muster':1, 'borders':{'Karachi':'Mountains', 'Shiraz':'Mountains', 'Tehran':'Mountains', 'Turkmenistan':'Mountains'}}, 'Shiraz':{'type':'land', 'alligence':'Persia', 'res':0, 'pop':0, 'muster':0, 'borders':{'Persian_Gulf':'Coast', 'Arabian_Sea':'Coast', 'Karachi':'Mountains', 'Kabul':'Mountains', 'Abadan':'Mountains', 'Tehran':'Mountains'}}, 'Tehran':{'type':'land', 'alligence':'Persia', 'res':0, 'pop':1, 'muster':2, 'borders':{'Shiraz':'Mountains', 'Abadan':'Mountains', 'Kabul':'Mountains', 'Tabriz':'Mountains', 'Turkmenistan':'Mountains', 'Southern_Caspian_Sea':'Coast'}}, 'Abadan':{'type':'land', 'alligence':'Persia', 'res':2, 'res-afr':2, 'pop':0, 'muster':0, 'borders':{'Persian_Gulf':'Coast', 'Shiraz':'Mountains', 'Iraq':'Plains', 'Tehran':'Mountains', 'Tabriz':'Mountains'}}, 'Tabriz':{'type':'land', 'alligence':'Persia', 'res':0, 'pop':0, 'muster':0, 'borders':{'Abadan':'Mountains', 'Tehran':'Mountains', 'Southern_Caspian_Sea':'Coast', 'Baku':'Mountains', 'Kars':'Mountains', 'Georgia':'Mountains'}}, 'Kars':{'type':'land', 'alligence':'Turkey', 'res':0, 'pop':0, 'muster':0, 'borders':{'Tabriz':'Mountains', 'Georgia':'Mountains', 'Eastern_Black_Sea':'Coast', 'Sinope':'Mountains', 'Adana':'Mountains'}}, 'Sinope':{'type':'land', 'alligence':'Turkey', 'res':0, 'pop':0, 'muster':0, 'borders':{'Kars':'Mountains', 'Adana':'Mountains', 'Ankara':'Mountains', 'Eastern_Black_Sea':'Coast'}}, 'Adana':{'type':'land', 'alligence':'Turkey', 'res':0, 'pop':0, 'muster':0, 'borders':{'Kars':'Mountains', 'Sinope':'Mountains', 'Damascus':'Plains', 'Eastern_Mediterranean':'Coast', 'Ankara':'Mountains', 'Izmir':'Mountains'}}, 'Ankara':{'type':'land', 'alligence':'Turkey', 'res':0, 'pop':1, 'muster':3, 'borders':{'Sinope':'Mountains', 'Adana':'Mountains', 'Izmir':'Mountains', 'Istanbul':'Strait', 'Western_Black_Sea':'Coast'}}, 'Izmir':{'type':'land', 'alligence':'Turkey', 'res':1, 'pop':0, 'muster':1, 'borders':{'Adana':'Mountains', 'Ankara':'Mountains', 'Eastern_Mediterranean':'Coast', 'Aegean_Sea':'Coast', 'Istanbul':'Strait'}}, 'Istanbul':{'type':'land', 'alligence':'Turkey', 'res':0, 'pop':1, 'muster':2, 'borders':{'Izmir':'Strait', 'Ankara':'Strait', 'Aegean_Sea':'Strait', 'Western_Black_Sea':'Strait', 'Sofia':'Strait', 'Athens':'Strait'}}, 'Southern_Caspian_Sea':{'type':'Sea', 'borders':{'Tehran':'Coast', 'Tabriz':'Coast', 'Turkmenistan':'Coast', 'Baku':'Coast', 'Northern_Caspian_Sea':'Sea'}}, 'Northern_Caspian_Sea':{'type':'Sea', 'borders':{'Southern_Caspian_Sea':'Sea', 'Turkmenistan':'Coast', 'Baku':'Coast', 'Kazakhstan':'Coast', 'Grozny':'Coast', 'Ufa':'Coast'}}, 'Eastern_Black_Sea':{'type':'Sea', 'borders':{'Kars':'Coast', 'Georgia':'Coast', 'Sinope':'Coast', 'Western_Black_Sea':'Sea', 'Sevastopol':'Strait', 'Kuban':'Coast'}}, 'Western_Black_Sea':{'type':'Sea', 'borders':{'Istanbul':'Strait', 'Eastern_Black_Sea':'Sea', 'Ankara':'Coast', 'Sevastopol':'Strait', 'Odessa':'Coast', 'Bucharest':'coast', 'Sofia':'coast'}}, 'Sea_of_Azov':{'type':'Sea', 'borders':{'Sevastopol':'Strait', 'Kuban':'Coast', 'Kharkov':'Coast'}}, 'Murmansk':{'type':'land', 'alligence':'USSR', 'res':0, 'pop':0, 'muster':0, 'borders':{'Archangel':'Forest', 'Leningrad':'Forest', 'White_Sea':'Coast', 'Barents_Sea':'Coast', 'Helsinki':'Forest', 'Petsamo':'Forest'}}, 'Archangel':{'type':'land', 'alligence':'USSR', 'res':0, 'pop':0, 'muster':0, 'borders':{'Vologda':'Forest', 'Leningrad':'Forest', 'Murmansk':'Forest', 'White_Sea':'Coast'}}, 'Vologda':{'type':'land', 'alligence':'USSR', 'res':0, 'pop':0, 'muster':0, 'borders':{'Moscow':'Forest', 'Gorky':'Forest', 'Leningrad':'Forest', 'Archangel':'Forest'}}, 'Gorky':{'type':'land', 'alligence':'USSR', 'res':0, 'pop':0, 'muster':0, 'borders':{'Moscow':'River', 'Penza':'River', 'Perm':'Forest', 'Vologda':'Forest'}}, 'Perm':{'type':'land', 'alligence':'USSR', 'res':0, 'pop':0, 'muster':0, 'borders':{'Penza':'River', 'Ufa':'Plains', 'Urals':'Mountains', 'Gorky':'Forest'}}, 'Urals':{'type':'land', 'alligence':'USSR', 'res':1, 'pop':1, 'muster':2, 'borders':{'Kazakhstan':'Mountains', 'Western_Siberia':'Plains', 'Ufa':'Mountains', 'Perm':'Mountains'}}, 'Western_Siberia':{'type':'land', 'alligence':'USSR', 'res':1, 'pop':0, 'muster':0, 'borders':{'Kazakhstan':'Plains', 'Urals':'Plains'}}, 'Leningrad':{'type':'land', 'alligence':'USSR', 'res':0, 'pop':2, 'muster':3, 'borders':{'Bryansk':'Forest', 'Belorussia':'Forest', 'Moscow':'Forest', 'Vologda':'Forest', 'Archangel':'Forest', 'Murmansk':'Forest', 'Helsinki':'Forest', 'Gulf_of_Bothnia':'Coast', 'Riga':'Forest'}}, 'Moscow':{'type':'land', 'alligence':'USSR', 'res':0, 'pop':3, 'muster':3, 'borders':{'Voronezh':'Plains', 'Penza':'Plains', 'Bryansk':'Forest', 'Leningrad':'Forest', 'Gorky':'River', 'Vologda':'Forest'}}, 'Penza':{'type':'land', 'alligence':'USSR', 'res':0, 'pop':0, 'muster':0, 'borders':{'Voronezh':'Forest', 'Ufa':'River', 'Moscow':'Plains', 'Gorky':'River', 'Perm':'River'}}, 'Ufa':{'type':'land', 'alligence':'USSR', 'res':1, 'pop':0, 'muster':0, 'borders':{'Grozny':'River', 'Stalingrad':'River', 'Northern_Caspian_Sea':'Coast', 'Kazakhstan':'Plains', 'Voronezh':'River', 'Penza':'River', 'Perm':'Plains', 'Urals':'Mountains'}}, 'Kazakhstan':{'type':'land', 'alligence':'USSR', 'res':0, 'pop':0, 'muster':0, 'borders':{'Turkmenistan':'Plains', 'Northern_Caspian_Sea':'Coast', 'Ufa':'Plains', 'Western_Siberia':'Plains', 'Urals':'Mountains'}}, 'Belorussia':{'type':'land', 'alligence':'USSR', 'res':0, 'pop':0, 'muster':0, 'borders':{'Bryansk':'Plains', 'Leningrad':'Forest', 'Riga':'Plains', 'Vilna':'Plains'}}, 'Bryansk':{'type':'land', 'alligence':'USSR', 'res':0, 'pop':0, 'muster':0, 'borders':{'Kharkov':'Plains', 'Voronezh':'Plains', 'Belorussia':'Plains', 'Moscow':'Forest', 'Kiev':'River', 'Leningrad':'Forest'}}, 'Voronezh':{'type':'land', 'alligence':'USSR', 'res':0, 'pop':0, 'muster':0, 'borders':{'Stalingrad':'Plains', 'Kharkov':'River', 'Bryansk':'Plains', 'Ufa':'River', 'Moscow':'Plains', 'Penza':'Forest'}}, 'Stalingrad':{'type':'land', 'alligence':'USSR', 'res':0, 'pop':1, 'muster':2, 'borders':{'Kuban':'Plains', 'Grozny':'Plains', 'Ufa':'River', 'Voronezh':'Plains', 'Kharkov':'River'}}, 'Grozny':{'type':'land', 'alligence':'USSR', 'res':0, 'pop':0, 'muster':0, 'borders':{'Baku':'Mountains', 'Northern_Caspian_Sea':'Coast', 'Georgia':'Mountains', 'Kuban':'Plains', 'Stalingrad':'Plains', 'Ufa':'River'}}, 'Turkmenistan':{'type':'land', 'alligence':'USSR', 'res':0, 'pop':0, 'muster':0, 'borders':{'Kabul':'Mountains', 'Tehran':'Mountains', 'Southern_Caspian_Sea':'Coast', 'Northern_Caspian_Sea':'Coast', 'Kazakhstan':'Plains'}}, 'Kuban':{'type':'land', 'alligence':'USSR', 'res':0, 'pop':0, 'muster':0, 'borders':{'Georgia':'Mountains', 'Grozny':'Plains', 'Eastern_Black_Sea':'Coast', 'Sea_of_Azov':'Coast', 'Sevastopol':'Strait', 'Kharkov':'River', 'Stalingrad':'Plains'}}, 'Georgia':{'type':'land', 'alligence':'USSR', 'res':0, 'pop':0, 'muster':0, 'borders':{'Baku':'Plains', 'Tabriz':'Mountains', 'Grozny':'Mountains', 'Kuban':'Mountains', 'Kars':'Mountains', 'Eastern_Black_Sea':'Coast'}}, 'Baku':{'type':'land', 'alligence':'USSR', 'res':3, 'res-afr':1, 'pop':2, 'muster':3, 'borders':{'Tabriz':'Mountains', 'Southern_Caspian_Sea':'Coast', 'Georgia':'Plains', 'Northern_Caspian_Sea':'Coast', 'Grozny':'Mountains'}}, 'Kiev':{'type':'land', 'alligence':'USSR', 'res':1, 'pop':1, 'muster':2, 'borders':{'Odessa':'Plains', 'Kharkov':'River', 'Bryansk':'River', 'Lvov':'Plains'}}, 'Kharkov':{'type':'land', 'alligence':'USSR', 'res':1, 'pop':1, 'muster':2, 'borders':{'Sea_of_Azov':'Coast', 'Sevastopol':'Strait', 'Odessa':'River', 'Kiev':'River', 'Kuban':'River', 'Stalingrad':'River', 'Voronezh':'River', 'Bryansk':'Plains'}}, 'Odessa':{'type':'land', 'alligence':'USSR', 'res':2, 'pop':1, 'muster':2, 'borders':{'Kharkov':'River', 'Western_Black_Sea':'Coast', 'Sevastopol':'Strait', 'Kiev':'Plains', 'Lvov':'Plains', 'Bucharest':'River'}}, 'Sevastopol':{'type':'land', 'alligence':'USSR', 'res':0, 'pop':0, 'muster':0, 'borders':{'Western_Black_Sea':'Strait', 'Eastern_Black_Sea':'Strait', 'Sea_of_Azov':'Strait', 'Kuban':'Strait', 'Kharkov':'Strait', 'Odessa':'Strait'}}}}))\n",
       "        });\n",
       "        "
      ]
     },
     "metadata": {},
     "output_type": "display_data"
    }
   ],
   "source": [
    "render_dict(G)"
   ]
  },
  {
   "cell_type": "code",
   "execution_count": 13,
   "metadata": {},
   "outputs": [
    {
     "data": {
      "text/plain": [
       "xdict_keys('Ottawa', 'New_York', 'Washington', 'Irminger_Sea', 'Irish_Sea', 'Bay_of_Biscay', 'Azores', 'Mid_Atlantic_Ocean')"
      ]
     },
     "execution_count": 13,
     "metadata": {},
     "output_type": "execute_result"
    }
   ],
   "source": [
    "G.tiles.North_Atlantic_Ocean.borders.keys()"
   ]
  },
  {
   "cell_type": "code",
   "execution_count": 6,
   "metadata": {
    "scrolled": true
   },
   "outputs": [
    {
     "data": {
      "text/html": [
       "<div id=\"6e12b9b8-a4c8-41fe-bc37-6d4e267d3d23\" style=\"height: 600px; width:100%;\"></div>"
      ]
     },
     "metadata": {},
     "output_type": "display_data"
    },
    {
     "data": {
      "application/javascript": [
       "\n",
       "        require([\"https://rawgit.com/caldwell/renderjson/master/renderjson.js\"], function() {\n",
       "          renderjson.set_show_to_level(1)\n",
       "          document.getElementById('6e12b9b8-a4c8-41fe-bc37-6d4e267d3d23').appendChild(renderjson({'Fortress':{'priority':1, 'type':'G', 'move':0, 'A':2, 'N':3, 'G':4, 'S':3}, 'AirForce':{'rebase':1, 'priority':2, 'type':'A', 'move':2, 'A':3, 'N':1, 'G':1, 'S':1}, 'Carrier':{'rebase':1, 'doubleHit':1, 'priority':3, 'type':'N', 'move':3, 'A':2, 'N':2, 'G':1, 'S':2}, 'Submarine':{'rebase':1, 'priority':4, 'type':'S', 'move':2, 'A':0, 'N':1, 'G':0, 'S':1}, 'Fleet':{'rebase':1, 'priority':5, 'type':'N', 'move':3, 'A':1, 'N':3, 'G':1, 'S':2}, 'Tank':{'priority':6, 'type':'G', 'move':3, 'A':0, 'N':0, 'G':2, 'S':0}, 'Infantry':{'priority':7, 'type':'G', 'move':2, 'A':1, 'N':1, 'G':3, 'S':0}, 'Convoy':{'priority':8, 'doubleHit':1, 'type':'G', 'move':2, 'A':0, 'N':0, 'G':0, 'S':0}}))\n",
       "        });\n",
       "        "
      ]
     },
     "metadata": {},
     "output_type": "display_data"
    }
   ],
   "source": [
    "units = load('config/units.yml')\n",
    "render_dict(units)"
   ]
  },
  {
   "cell_type": "code",
   "execution_count": 3,
   "metadata": {
    "scrolled": true
   },
   "outputs": [
    {
     "data": {
      "text/html": [
       "<div id=\"d2419b81-f713-4070-ab80-f2d9018e2d37\" style=\"height: 600px; width:100%;\"></div>"
      ]
     },
     "metadata": {},
     "output_type": "display_data"
    },
    {
     "data": {
      "application/javascript": [
       "\n",
       "        require([\"https://rawgit.com/caldwell/renderjson/master/renderjson.js\"], function() {\n",
       "          renderjson.set_show_to_level(1)\n",
       "          document.getElementById('d2419b81-f713-4070-ab80-f2d9018e2d37').appendChild(renderjson({'messages': {'incoming': {'select': \"['player', 'obj_id']\", 'info': \"['player', 'obj_id']\", 'play_card': \"['player', 'obj_id']\", 'save': \"['player']\"}, 'outgoing': {'create': \"['obj_id', 'type', 'properties']\", 'destroy': \"['obj_id', 'type', 'properties']\", 'move': \"['obj_id', 'pos']\", 'stat': '[]', 'message': \"['content']\"}}, 'asset_types': {'border': {'obj_id': '--int--', 'type': \"['Plains', 'Forest', 'Mountains', 'Coast', 'Strait', 'Ocean']\"}, 'tile': {'obj_id': '--int--', 'type': \"['Land', 'Sea', 'Ocean']\", 'owner': '--nations--'}, 'unit': {'obj_id': '--int--', 'tile': '--tiles--', 'type': '--unit_types--', 'owner': \"['Britain', 'France', 'USA', 'Germany', 'Italy', 'USSR', 'Independent']\", 'cv': '--int--'}, 'action_card': {'obj_id': '--int--', 'faction': \"['West', 'Axis', 'USSR']\", 'wild_card': \"['none', 'Guarantee', 'Intimidation', 'Foreign_Aid']\", 'played': '[True, False]', 'active_diplomacy': '--independent_nations--', 'passive_diplomacy': '--independent_nations--', 'command_value': '--int--', 'command_priority': '--letter--'}, 'investment_card': {'obj_id': '--int--', 'faction': \"['West', 'Axis', 'USSR']\", 'intelligence': '--espionage--', 'factory_value': '--int--', 'active_technology': '--technologies--', 'passive_technology': '--technologies--', 'science_year': '--int--', 'science_techs': '--list_of_techs--'}, 'influence': {'obj_id': '--int--', 'faction': \"['West', 'Axis', 'USSR']\", 'nation': '--independent_nations--'}}}))\n",
       "        });\n",
       "        "
      ]
     },
     "metadata": {},
     "output_type": "display_data"
    }
   ],
   "source": [
    "io = load('config/interface.yml')\n",
    "render_dict(io)"
   ]
  },
  {
   "cell_type": "code",
   "execution_count": null,
   "metadata": {},
   "outputs": [],
   "source": []
  },
  {
   "cell_type": "code",
   "execution_count": null,
   "metadata": {},
   "outputs": [],
   "source": []
  },
  {
   "cell_type": "code",
   "execution_count": 5,
   "metadata": {},
   "outputs": [],
   "source": [
    "\n",
    "nations = collate({v['alligence'] for k,v in G.nodes.items() if 'alligence' in v})\n",
    "teams = collate({\n",
    "    'West': {'UK', 'India', 'Middle East', 'Canada', \n",
    "             'France', 'French North Africa', },\n",
    "    'Axis': {'Germany', 'Italy'},\n",
    "    'USSR': {'USSR'},\n",
    "    'USA': {'USA'},\n",
    "})\n",
    "_nonindependent = xset()\n",
    "for v in teams.values():\n",
    "    _nonindependent.update(v)\n",
    "teams['Independent'] = xset({n for n in nations if n not in _nonindependent})"
   ]
  },
  {
   "cell_type": "code",
   "execution_count": 8,
   "metadata": {},
   "outputs": [
    {
     "data": {
      "text/plain": [
       "xset()"
      ]
     },
     "execution_count": 8,
     "metadata": {},
     "output_type": "execute_result"
    }
   ],
   "source": [
    "nations"
   ]
  },
  {
   "cell_type": "code",
   "execution_count": 7,
   "metadata": {},
   "outputs": [
    {
     "data": {
      "text/plain": [
       "{'Canada',\n",
       " 'France',\n",
       " 'French North Africa',\n",
       " 'Germany',\n",
       " 'India',\n",
       " 'Italy',\n",
       " 'Middle East',\n",
       " 'UK',\n",
       " 'USA',\n",
       " 'USSR'}"
      ]
     },
     "execution_count": 7,
     "metadata": {},
     "output_type": "execute_result"
    }
   ],
   "source": [
    "_nonindependent"
   ]
  },
  {
   "cell_type": "code",
   "execution_count": 6,
   "metadata": {},
   "outputs": [
    {
     "data": {
      "text/plain": [
       "xset()"
      ]
     },
     "execution_count": 6,
     "metadata": {},
     "output_type": "execute_result"
    }
   ],
   "source": [
    "teams['Independent']"
   ]
  },
  {
   "cell_type": "code",
   "execution_count": 9,
   "metadata": {},
   "outputs": [
    {
     "data": {
      "text/plain": [
       "{'Axis': {'members': {'Germany': {'type': 'Great Power',\n",
       "    'HomeCapital': 'Berlin',\n",
       "    'SubCapitals': ['Ruhr']},\n",
       "   'Italy': {'type': 'Major Power',\n",
       "    'HomeCapital': 'Rome',\n",
       "    'Colonies': ['Lybia']}},\n",
       "  'MainCapital': 'Berlin',\n",
       "  'SubCapitals': ['Ruhr', 'Rome'],\n",
       "  'Handlimit': 7,\n",
       "  'FactoryCost': [5, 4, 3],\n",
       "  'EmergencyCommand': 4,\n",
       "  'setup': {'action_cards': 14,\n",
       "   'cadres': {'Germany': {'Berlin': 6,\n",
       "     'Ruhr': 4,\n",
       "     'Munich': 2,\n",
       "     'Konigsberg': 2},\n",
       "    'Italy': {'Rome': 4, 'Milan': 2, 'Tripoli': 2}}}},\n",
       " 'USSR': {'members': {'USSR': {'type': 'Great Power',\n",
       "    'HomeCapital': 'Moscow',\n",
       "    'SubCaptials': ['Leningrad', 'Baku']}},\n",
       "  'MainCapital': 'Moscow',\n",
       "  'SubCapitals': ['Leningrad', 'Baku'],\n",
       "  'Handlimit': 6,\n",
       "  'FactoryCost': [7, 5, 3],\n",
       "  'EmergencyCommand': 2,\n",
       "  'enable_Winter': True,\n",
       "  'setup': {'action_cards': 6,\n",
       "   'cadres': {'USSR': {'Moscow': 3,\n",
       "     'Leningrad': 2,\n",
       "     'Baku': 2,\n",
       "     'Kiev': 1,\n",
       "     'Kharkov': 1,\n",
       "     'Odessa': 1,\n",
       "     'Stalingrad': 1,\n",
       "     'Urals': 1}}}},\n",
       " 'West': {'members': {'Britain': {'type': 'Great Power',\n",
       "    'HomeCapital': 'London',\n",
       "    'SubCapitals': ['Delhi'],\n",
       "    'Colonies': ['Canada', 'Gibraltar', 'Malta', 'Middle East', 'India']},\n",
       "   'France': {'type': 'Major Power',\n",
       "    'HomeCapital': 'Paris',\n",
       "    'Colonies': ['French North Africa', 'Syria']},\n",
       "   'USA': {'type': 'Major Power', 'HomeCapital': 'Washington'}},\n",
       "  'MainCapital': 'London',\n",
       "  'SubCapitals': ['Delhi', 'Paris', 'Washington'],\n",
       "  'Handlimit': 8,\n",
       "  'FactoryCost': [6, 5, 4, 3],\n",
       "  'EmergencyCommand': 2,\n",
       "  'enable_USA': True,\n",
       "  'setup': {'action_cards': 8,\n",
       "   'units': [{'alligence': 'Britain',\n",
       "     'tile': 'London',\n",
       "     'type': 'Fleet',\n",
       "     'cv': 4},\n",
       "    {'alligence': 'Britain', 'tile': 'Gibraltar', 'type': 'Fortress', 'cv': 1},\n",
       "    {'alligence': 'Britain', 'tile': 'Karachi', 'type': 'Fortress', 'cv': 1},\n",
       "    {'alligence': 'France', 'tile': 'Lorraine', 'type': 'Fortress', 'cv': 3}],\n",
       "   'cadres': {'Britain': {'London': 3,\n",
       "     'Delhi': 2,\n",
       "     'Glasgow': 1,\n",
       "     'Bombay': 1,\n",
       "     'Suez': 1},\n",
       "    'France': {'Paris': 2, 'Marseilles': 1, 'Algiers': 1}}}}}"
      ]
     },
     "execution_count": 9,
     "metadata": {},
     "output_type": "execute_result"
    }
   ],
   "source": [
    "players_info = load(open('config/nation_setup.yml', 'r'))\n",
    "players_info"
   ]
  },
  {
   "cell_type": "code",
   "execution_count": 10,
   "metadata": {},
   "outputs": [
    {
     "ename": "NameError",
     "evalue": "name 'collate' is not defined",
     "output_type": "error",
     "traceback": [
      "\u001b[0;31m---------------------------------------------------------------------------\u001b[0m",
      "\u001b[0;31mNameError\u001b[0m                                 Traceback (most recent call last)",
      "\u001b[0;32m<ipython-input-10-26e9f33e2981>\u001b[0m in \u001b[0;36m<module>\u001b[0;34m()\u001b[0m\n\u001b[0;32m----> 1\u001b[0;31m \u001b[0minfo\u001b[0m \u001b[0;34m=\u001b[0m \u001b[0mcollate\u001b[0m\u001b[0;34m(\u001b[0m\u001b[0mplayers_info\u001b[0m\u001b[0;34m)\u001b[0m\u001b[0;34m\u001b[0m\u001b[0;34m\u001b[0m\u001b[0m\n\u001b[0m",
      "\u001b[0;31mNameError\u001b[0m: name 'collate' is not defined"
     ]
    }
   ],
   "source": [
    "info = collate(players_info)"
   ]
  },
  {
   "cell_type": "code",
   "execution_count": null,
   "metadata": {},
   "outputs": [],
   "source": []
  },
  {
   "cell_type": "code",
   "execution_count": null,
   "metadata": {},
   "outputs": [],
   "source": []
  },
  {
   "cell_type": "code",
   "execution_count": 14,
   "metadata": {
    "collapsed": true
   },
   "outputs": [],
   "source": [
    "class Fixed_Object(object):\n",
    "    def __init__(self):\n",
    "        pass\n",
    "    \n",
    "    def __eq__(self, other):\n",
    "        \n",
    "        for k in other.__dict__.keys():\n",
    "            if k not in self.__dict__:\n",
    "                return False\n",
    "        \n",
    "        for k, v in self.__dict__.items():\n",
    "            if k not in other.__dict__ or self.__dict__[k] != other.__dict__[k]:\n",
    "                return False\n",
    "        \n",
    "        return True\n",
    "    \n",
    "    def __neq__(self, other):\n",
    "        for k in other.__dict__.keys():\n",
    "            if k not in self.__dict__:\n",
    "                return True\n",
    "        \n",
    "        for k, v in self.__dict__.items():\n",
    "            if k not in other.__dict__ or self.__dict__[k] != other.__dict__[k]:\n",
    "                return True\n",
    "        \n",
    "        return False"
   ]
  },
  {
   "cell_type": "code",
   "execution_count": null,
   "metadata": {
    "collapsed": true
   },
   "outputs": [],
   "source": []
  },
  {
   "cell_type": "code",
   "execution_count": null,
   "metadata": {
    "collapsed": true
   },
   "outputs": [],
   "source": [
    "class Unit(FixedObject):\n",
    "    def __init__(self):\n",
    "        self.alligence = None\n",
    "        self.type = typ\n",
    "        self.pts = 1\n",
    "        self.tile = tile"
   ]
  },
  {
   "cell_type": "code",
   "execution_count": null,
   "metadata": {
    "collapsed": true
   },
   "outputs": [],
   "source": []
  },
  {
   "cell_type": "code",
   "execution_count": null,
   "metadata": {
    "collapsed": true
   },
   "outputs": [],
   "source": [
    "class Player(object):\n",
    "    def __init__(self, ):\n",
    "        super().__init__()\n",
    "        \n",
    "        self.owns = set()\n",
    "        self.units = set()\n",
    "        self.diplomacy = set()\n",
    "        self.cards = set()\n",
    "        \n",
    "class Independent_Nation(object):\n",
    "    def __init__(self):\n",
    "        self.name = None\n",
    "        self.influence = None\n",
    "        self.armed = False\n",
    "        self.satellite = False\n",
    "        \n",
    "class Tile(object):\n",
    "    def __init__(self, ):\n",
    "        self.name = None\n",
    "        self.alligence = None\n",
    "        self.units = set()\n",
    "\n",
    "class Card(object):\n",
    "    def __init__(self, ):\n",
    "        pass\n",
    "    \n",
    "class ActionCard(Card):\n",
    "    def __init__(self):\n",
    "        self.diplomacy = set()\n",
    "        self.special = False\n",
    "        self.command_value = None\n",
    "        self.command_priority = None\n",
    "        \n",
    "class FactoryCard(Card):\n",
    "    def __init__(self):\n",
    "        self.technologies = set()\n",
    "        self.factory_value = None\n",
    "        self.espionage = False\n",
    "\n",
    "class Units(object):\n",
    "    def __init__(self, ):\n",
    "        pass"
   ]
  },
  {
   "cell_type": "code",
   "execution_count": null,
   "metadata": {
    "collapsed": true
   },
   "outputs": [],
   "source": []
  },
  {
   "cell_type": "code",
   "execution_count": 8,
   "metadata": {},
   "outputs": [],
   "source": [
    "class Manager(object):\n",
    "    def __init__(self):\n",
    "        self.activate_player = None"
   ]
  },
  {
   "cell_type": "code",
   "execution_count": 9,
   "metadata": {},
   "outputs": [],
   "source": [
    "# engine - functional\n",
    "\n",
    "def setup()"
   ]
  },
  {
   "cell_type": "code",
   "execution_count": null,
   "metadata": {},
   "outputs": [],
   "source": []
  }
 ],
 "metadata": {
  "kernelspec": {
   "display_name": "Python 3",
   "language": "python",
   "name": "python3"
  },
  "language_info": {
   "codemirror_mode": {
    "name": "ipython",
    "version": 3
   },
   "file_extension": ".py",
   "mimetype": "text/x-python",
   "name": "python",
   "nbconvert_exporter": "python",
   "pygments_lexer": "ipython3",
   "version": "3.6.6"
  }
 },
 "nbformat": 4,
 "nbformat_minor": 2
}
