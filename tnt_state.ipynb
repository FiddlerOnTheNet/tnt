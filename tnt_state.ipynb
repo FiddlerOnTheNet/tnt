{
 "cells": [
  {
   "cell_type": "code",
   "execution_count": 1,
   "metadata": {},
   "outputs": [],
   "source": [
    "import sys, os, time\n",
    "import numpy as np\n",
    "%load_ext autoreload\n",
    "%autoreload 2\n",
    "%matplotlib inline\n",
    "#%matplotlib tk\n",
    "import matplotlib.pyplot as plt\n",
    "import networkx as nx\n",
    "import tnt_util as util\n",
    "from tnt_util import xdict, xset, collate, load, render_dict, get_object\n",
    "from tnt_setup import create_gamestate\n",
    "from tnt_cards import create_card_decks, draw_cards\n",
    "from collections import namedtuple"
   ]
  },
  {
   "cell_type": "code",
   "execution_count": 2,
   "metadata": {},
   "outputs": [
    {
     "data": {
      "text/plain": [
       "{'test':'asdf', 'b':10, 'x':[3, 3]}"
      ]
     },
     "execution_count": 2,
     "metadata": {},
     "output_type": "execute_result"
    }
   ],
   "source": [
    "a = xdict()\n",
    "a.test = 'asdf'\n",
    "a.b = 10\n",
    "a.x = [3,3]\n",
    "a"
   ]
  },
  {
   "cell_type": "code",
   "execution_count": 3,
   "metadata": {},
   "outputs": [
    {
     "data": {
      "text/plain": [
       "xdict_keys('tiles', 'players', 'action_cards', 'investment_cards')"
      ]
     },
     "execution_count": 3,
     "metadata": {},
     "output_type": "execute_result"
    }
   ],
   "source": [
    "np.random.seed(10)\n",
    "G = create_gamestate()\n",
    "G.keys()"
   ]
  },
  {
   "cell_type": "code",
   "execution_count": 4,
   "metadata": {
    "scrolled": true
   },
   "outputs": [
    {
     "data": {
      "text/html": [
       "<div id=\"2552bab6-bd78-4b30-9ff7-a3ce0c255ee9\" style=\"height: 600px; width:100%;\"></div>"
      ]
     },
     "metadata": {},
     "output_type": "display_data"
    },
    {
     "data": {
      "application/javascript": [
       "\n",
       "        require([\"https://rawgit.com/caldwell/renderjson/master/renderjson.js\"], function() {\n",
       "          renderjson.set_show_to_level(1)\n",
       "          document.getElementById('2552bab6-bd78-4b30-9ff7-a3ce0c255ee9').appendChild(renderjson({'tiles': {'Ottawa': {'type': 'land', 'alligence': 'Canada', 'res': '1', 'pop': '0', 'muster': '1', 'borders': {'North_Atlantic_Ocean': 'Coast', 'New_York': 'Forest'}}, 'New_York': {'type': 'land', 'alligence': 'USA', 'res': '2', 'pop': '1', 'muster': '2', 'borders': {'Ottawa': 'Forest', 'North_Atlantic_Ocean': 'Coast', 'Washington': 'Plains'}}, 'Washington': {'type': 'land', 'alligence': 'USA', 'res': '2', 'pop': '2', 'muster': '3', 'borders': {'New_York': 'Plains', 'North_Atlantic_Ocean': 'Coast'}}, 'Irish_Sea': {'type': 'Sea', 'borders': {'Irminger_Sea': 'Sea', 'North_Atlantic_Ocean': 'Ocean', 'Bay_of_Biscay': 'Sea', 'Norwegian_Sea': 'Sea', 'English_Channel': 'Sea', 'London': 'Coast', 'Glasgow': 'Coast', 'Dublin': 'Coast', 'Iceland': 'Coast'}}, 'North_Atlantic_Ocean': {'type': 'Ocean', 'borders': {'Ottawa': 'Coast', 'New_York': 'Coast', 'Washington': 'Coast', 'Irminger_Sea': 'Ocean', 'Irish_Sea': 'Ocean', 'Bay_of_Biscay': 'Ocean', 'Azores': 'Strait', 'Mid_Atlantic_Ocean': 'Ocean'}}, 'Mid_Atlantic_Ocean': {'type': 'Ocean', 'borders': {'North_Atlantic_Ocean': 'Ocean', 'Azores': 'Strait', 'South_Atlantic_Ocean': 'Ocean', 'Rio_de_Janeiro': 'Coast', 'Madeira_Sea': 'Ocean', 'Dakar': 'Coast', 'Morocco': 'Coast'}}, 'South_Atlantic_Ocean': {'type': 'Ocean', 'borders': {'Mid_Atlantic_Ocean': 'Ocean', 'Rio_de_Janeiro': 'Coast', 'Dakar': 'Coast'}}, 'Rio_de_Janeiro': {'type': 'land', 'alligence': 'Latin_America', 'res': '2', 'pop': '0', 'muster': '1', 'borders': {'South_Atlantic_Ocean': 'Coast', 'Mid_Atlantic_Ocean': 'Coast'}}, 'Dakar': {'type': 'land', 'alligence': 'French_North_Africa', 'res': '0', 'pop': '0', 'muster': '0', 'borders': {'South_Atlantic_Ocean': 'Coast', 'Mid_Atlantic_Ocean': 'Coast', 'Morocco': 'Plains'}}, 'Morocco': {'type': 'land', 'alligence': 'France', 'res': '0', 'pop': '0', 'muster': '0', 'borders': {'Mid_Atlantic_Ocean': 'Coast', 'Dakar': 'Plains', 'Madeira_Sea': 'Coast', 'Gibraltar': 'Strait', 'Algiers': 'Mountains'}}, 'Algiers': {'type': 'land', 'alligence': 'French_North_Africa', 'res': '0', 'pop': '1', 'muster': '2', 'borders': {'Gibraltar': 'Strait', 'Morocco': 'Mountains', 'Tunisia': 'Mountains', 'Western_Mediterranean': 'Coast'}}, 'Tunisia': {'type': 'land', 'alligence': 'French_North_Africa', 'res': '0', 'pop': '0', 'muster': '0', 'borders': {'Algiers': 'Mountains', 'Western_Mediterranean': 'Coast', 'Sfax': 'Mountains', 'Malta': 'Strait'}}, 'Sfax': {'type': 'land', 'alligence': 'French_North_Africa', 'res': '0', 'pop': '0', 'muster': '0', 'borders': {'Tunisia': 'Mountains', 'Tripoli': 'Mountains', 'Malta': 'Strait'}}, 'Gibraltar': {'type': 'land', 'alligence': 'Gibraltar', 'res': '0', 'pop': '0', 'muster': '1', 'borders': {'Madeira_Sea': 'Strait', 'Morocco': 'Strait', 'Algiers': 'Strait', 'Madrid': 'Strait', 'Western_Mediterranean': 'Strait', 'Barcelona': 'Strait'}}, 'Madeira_Sea': {'type': 'Sea', 'borders': {'Mid_Atlantic_Ocean': 'Ocean', 'Bay_of_Biscay': 'Sea', 'Azores': 'Strait', 'Morocco': 'Coast', 'Gibraltar': 'Strait', 'Lisbon': 'Coast', 'Leon': 'Coast'}}, 'Lisbon': {'type': 'land', 'alligence': 'Portugal', 'res': '1', 'pop': '0', 'muster': '1', 'borders': {'Madrid': 'Plains', 'Madeira_Sea': 'Coast', 'Leon': 'Plains'}}, 'Madrid': {'type': 'land', 'alligence': 'Spain', 'res': '0', 'pop': '1', 'muster': '3', 'borders': {'Gibraltar': 'Strait', 'Lisbon': 'Plains', 'Leon': 'Coast', 'Barcelona': 'Plains'}}, 'Leon': {'type': 'land', 'alligence': 'Spain', 'res': '0', 'pop': '0', 'muster': '0', 'borders': {'Lisbon': 'Plains', 'Madeira_Sea': 'Coast', 'Bay_of_Biscay': 'Coast', 'Madrid': 'Coast', 'Barcelona': 'Plains', 'Gascony': 'Mountains'}}, 'Barcelona': {'type': 'land', 'alligence': 'Spain', 'res': '0', 'pop': '1', 'muster': '0', 'borders': {'Gibraltar': 'Strait', 'Madrid': 'Plains', 'Leon': 'Plains', 'Western_Mediterranean': 'Coast', 'Gascony': 'Mountains', 'Marseille': 'Mountains'}}, 'Azores': {'type': 'land', 'alligence': 'Portugal', 'res': '0', 'pop': '0', 'muster': '0', 'borders': {'North_Atlantic_Ocean': 'Strait', 'Mid_Atlantic_Ocean': 'Strait', 'Madeira_Sea': 'Strait', 'Bay_of_Biscay': 'Strait'}}, 'Bay_of_Biscay': {'type': 'Sea', 'borders': {'North_Atlantic_Ocean': 'Ocean', 'Madeira_Sea': 'Sea', 'Azores': 'Strait', 'Irish_Sea': 'Sea', 'English_Channel': 'Sea', 'Leon': 'Coast', 'Paris': 'coast', 'Gascony': 'coast'}}, 'Dublin': {'type': 'land', 'alligence': 'Ireland', 'res': '0', 'pop': '0', 'muster': '1', 'borders': {'Irish_Sea': 'Coast'}}, 'Irminger_Sea': {'type': 'Sea', 'borders': {'North_Atlantic_Ocean': 'Ocean', 'Irish_Sea': 'Sea', 'Iceland': 'Coast', 'Greenland_Sea': 'Sea'}}, 'Iceland': {'type': 'land', 'alligence': 'Denmark', 'res': '0', 'pop': '0', 'muster': '0', 'borders': {'Irminger_Sea': 'Coast', 'Greenland_Sea': 'Coast', 'Norwegian_Sea': 'Coast', 'Irish_Sea': 'Coast'}}, 'Greenland_Sea': {'type': 'Sea', 'borders': {'Irminger_Sea': 'Sea', 'Norwegian_Sea': 'Sea', 'Nordkapp_Sea': 'Sea', 'Iceland': 'Coast'}}, 'Norwegian_Sea': {'type': 'Sea', 'borders': {'Greenland_Sea': 'Sea', 'Irish_Sea': 'Sea', 'Nordkapp_Sea': 'Sea', 'Oslo': 'Coast', 'North_Sea': 'Sea', 'Glasgow': 'Coast', 'Iceland': 'Coast'}}, 'Nordkapp_Sea': {'type': 'Sea', 'borders': {'Barents_Sea': 'Sea', 'Narvik': 'Coast', 'Oslo': 'Coast', 'Norwegian_Sea': 'Sea', 'Greenland_Sea': 'Sea'}}, 'North_Sea': {'type': 'Sea', 'borders': {'Copenhagen': 'Strait', 'Oslo': 'Coast', 'Ruhr': 'Coast', 'Norwegian_Sea': 'Sea', 'Amsterdam': 'Sea', 'Glasgow': 'Coast', 'London': 'Coast', 'English_Channel': 'Sea', 'Paris': 'coast'}}, 'English_Channel': {'type': 'Sea', 'borders': {'Irish_Sea': 'Sea', 'Bay_of_Biscay': 'Sea', 'North_Sea': 'Sea', 'London': 'Coast', 'Paris': 'Coast'}}, 'Glasgow': {'type': 'land', 'alligence': 'Britain', 'res': '1', 'pop': '1', 'muster': '2', 'borders': {'Norwegian_Sea': 'Coast', 'North_Sea': 'Coast', 'London': 'Mountains', 'Irish_Sea': 'Coast'}}, 'London': {'type': 'land', 'alligence': 'Britain', 'res': '1', 'pop': '3', 'muster': '3', 'borders': {'North_Sea': 'Coast', 'English_Channel': 'Coast', 'Irish_Sea': 'Coast', 'Glasgow': 'Mountains'}}, 'Paris': {'type': 'land', 'alligence': 'France', 'res': '0', 'pop': '2', 'muster': '3', 'borders': {'English_Channel': 'Coast', 'Bay_of_Biscay': 'coast', 'Gascony': 'Plains', 'Lorraine': 'Plains', 'Amsterdam': 'Plains', 'North_Sea': 'coast'}}, 'Lorraine': {'type': 'land', 'alligence': 'France', 'res': '2', 'pop': '0', 'muster': '0', 'borders': {'Munich': 'River', 'Paris': 'Plains', 'Amsterdam': 'Forest', 'Gascony': 'Plains', 'Marseille': 'Plains'}}, 'Gascony': {'type': 'land', 'alligence': 'France', 'res': '0', 'pop': '0', 'muster': '0', 'borders': {'Leon': 'Mountains', 'Barcelona': 'Mountains', 'Bay_of_Biscay': 'coast', 'Paris': 'Plains', 'Lorraine': 'Plains', 'Marseille': 'Plains'}}, 'Marseille': {'type': 'land', 'alligence': 'France', 'res': '0', 'pop': '1', 'muster': '2', 'borders': {'Barcelona': 'Mountains', 'Western_Mediterranean': 'Coast', 'Gascony': 'Plains', 'Lorraine': 'Plains', 'Milan': 'Mountains'}}, 'Western_Mediterranean': {'type': 'Sea', 'borders': {'Gibraltar': 'Strait', 'Algiers': 'Coast', 'Barcelona': 'Coast', 'Tunisia': 'Coast', 'Sardinia': 'Coast', 'Tyrrhenian_Sea': 'Sea', 'Milan': 'Coast', 'Marseille': 'Coast'}}, 'Sardinia': {'type': 'land', 'alligence': 'Italy', 'res': '0', 'pop': '0', 'muster': '0', 'borders': {'Western_Mediterranean': 'Coast', 'Tyrrhenian_Sea': 'Coast'}}, 'Tyrrhenian_Sea': {'type': 'Sea', 'borders': {'Western_Mediterranean': 'Sea', 'Sardinia': 'Coast', 'Malta': 'Strait', 'Sicily': 'Strait', 'Rome': 'Coast', 'Milan': 'Coast'}}, 'Malta': {'type': 'land', 'alligence': 'Malta', 'res': '0', 'pop': '0', 'muster': '1', 'borders': {'Tunisia': 'Strait', 'Sfax': 'Strait', 'Tyrrhenian_Sea': 'Strait', 'Central_Mediterranean': 'Strait', 'Sicily': 'Strait'}}, 'Sicily': {'type': 'land', 'alligence': 'Italy', 'res': '0', 'pop': '0', 'muster': '0', 'borders': {'Malta': 'Strait', 'Tyrrhenian_Sea': 'Strait', 'Central_Mediterranean': 'Strait', 'Rome': 'Strait', 'Taranto': 'Strait'}}, 'Central_Mediterranean': {'type': 'Sea', 'borders': {'Malta': 'Strait', 'Sicily': 'Strait', 'Taranto': 'Coast', 'Adriatic_Sea': 'Sea', 'Tripoli': 'Coast', 'Cyrenaica': 'Coast', 'Albania': 'Coast', 'Eastern_Mediterranean': 'Sea', 'Aegean_Sea': 'Sea', 'Athens': 'Coast', 'Crete': 'Coast'}}, 'Adriatic_Sea': {'type': 'Sea', 'borders': {'Central_Mediterranean': 'Sea', 'Venice': 'Sea', 'Taranto': 'Sea', 'Croatia': 'Coast', 'Albania': 'Coast'}}, 'Milan': {'type': 'land', 'alligence': 'Italy', 'res': '1', 'pop': '1', 'muster': '2', 'borders': {'Tyrrhenian_Sea': 'Coast', 'Rome': 'Mountains', 'Western_Mediterranean': 'Coast', 'Venice': 'Plains', 'Marseille': 'Mountains'}}, 'Rome': {'type': 'land', 'alligence': 'Italy', 'res': '0', 'pop': '2', 'muster': '3', 'borders': {'Sicily': 'Strait', 'Tyrrhenian_Sea': 'Coast', 'Milan': 'Mountains', 'Venice': 'Mountains', 'Taranto': 'Mountains'}}, 'Venice': {'type': 'land', 'alligence': 'Italy', 'res': '1', 'pop': '0', 'muster': '0', 'borders': {'Milan': 'Plains', 'Rome': 'Mountains', 'Taranto': 'Mountains', 'Adriatic_Sea': 'Sea', 'Vienna': 'Mountains', 'Croatia': 'Mountains'}}, 'Taranto': {'type': 'land', 'alligence': 'Italy', 'res': '0', 'pop': '0', 'muster': '0', 'borders': {'Sicily': 'Strait', 'Rome': 'Mountains', 'Venice': 'Mountains', 'Central_Mediterranean': 'Coast', 'Adriatic_Sea': 'Sea'}}, 'Tripoli': {'type': 'land', 'alligence': 'Libya', 'res': '0', 'pop': '1', 'muster': '2', 'borders': {'Sfax': 'Mountains', 'Central_Mediterranean': 'Coast', 'Cyrenaica': 'Plains'}}, 'Cyrenaica': {'type': 'land', 'alligence': 'Libya', 'res': '0', 'pop': '0', 'muster': '0', 'borders': {'Central_Mediterranean': 'Coast', 'Tripoli': 'Plains', 'Eastern_Mediterranean': 'Coast', 'Egypt': 'Plains'}}, 'Amsterdam': {'type': 'land', 'alligence': 'Low_Countries', 'res': '0', 'pop': '1', 'muster': '2', 'borders': {'Ruhr': 'River', 'Munich': 'River', 'North_Sea': 'Sea', 'Paris': 'Plains', 'Lorraine': 'Forest'}}, 'Vienna': {'type': 'land', 'alligence': 'Austria', 'res': '0', 'pop': '1', 'muster': '2', 'borders': {'Prague': 'Plains', 'Munich': 'Plains', 'Venice': 'Mountains', 'Croatia': 'Mountains', 'Budapest': 'Plains'}}, 'Munich': {'type': 'land', 'alligence': 'Germany', 'res': '0', 'pop': '1', 'muster': '2', 'borders': {'Berlin': 'Plains', 'Ruhr': 'Plains', 'Prague': 'Forest', 'Vienna': 'Plains', 'Amsterdam': 'River', 'Lorraine': 'River'}}, 'Ruhr': {'type': 'land', 'alligence': 'Germany', 'res': '3', 'pop': '2', 'muster': '3', 'borders': {'Copenhagen': 'Strait', 'Baltic_Sea': 'Coast', 'North_Sea': 'Coast', 'Berlin': 'Plains', 'Munich': 'Plains', 'Amsterdam': 'River'}}, 'Berlin': {'type': 'land', 'alligence': 'Germany', 'res': '1', 'pop': '3', 'muster': '3', 'borders': {'Baltic_Sea': 'Coast', 'Warsaw': 'River', 'Ruhr': 'Plains', 'Prague': 'Forest', 'Munich': 'Plains'}}, 'Copenhagen': {'type': 'land', 'alligence': 'Denmark', 'res': '1', 'pop': '0', 'muster': '1', 'borders': {'Stockholm': 'Strait', 'Baltic_Sea': 'Strait', 'Oslo': 'Strait', 'North_Sea': 'Strait', 'Ruhr': 'Strait'}}, 'Oslo': {'type': 'land', 'alligence': 'Norway', 'res': '1', 'pop': '0', 'muster': '1', 'borders': {'Gallivare': 'Mountains', 'Stockholm': 'Forest', 'Narvik': 'Mountains', 'Nordkapp_Sea': 'Coast', 'Norwegian_Sea': 'Coast', 'Copenhagen': 'Strait', 'North_Sea': 'Coast'}}, 'Narvik': {'type': 'land', 'alligence': 'Norway', 'res': '0', 'pop': '0', 'muster': '0', 'borders': {'Petsamo': 'Mountains', 'Barents_Sea': 'Coast', 'Gallivare': 'Mountains', 'Oslo': 'Mountains', 'Nordkapp_Sea': 'Coast'}}, 'Gallivare': {'type': 'land', 'alligence': 'Sweden', 'res': '1', 'pop': '0', 'muster': '0', 'borders': {'Helsinki': 'Forest', 'Petsamo': 'Forest', 'Narvik': 'Mountains', 'Oslo': 'Mountains', 'Stockholm': 'Forest', 'Gulf_of_Bothnia': 'Coast'}}, 'Stockholm': {'type': 'land', 'alligence': 'Sweden', 'res': '1', 'pop': '1', 'muster': '2', 'borders': {'Gallivare': 'Forest', 'Gulf_of_Bothnia': 'Coast', 'Baltic_Sea': 'Coast', 'Oslo': 'Forest', 'Copenhagen': 'Strait'}}, 'Petsamo': {'type': 'land', 'alligence': 'Finland', 'res': '1', 'pop': '0', 'muster': '0', 'borders': {'Murmansk': 'Forest', 'Helsinki': 'Forest', 'Narvik': 'Mountains', 'Gallivare': 'Forest'}}, 'Helsinki': {'type': 'land', 'alligence': 'Finland', 'res': '0', 'pop': '0', 'muster': '1', 'borders': {'Leningrad': 'Forest', 'Murmansk': 'Forest', 'Petsamo': 'Forest', 'Gulf_of_Bothnia': 'Coast', 'Gallivare': 'Forest'}}, 'Barents_Sea': {'type': 'Sea', 'borders': {'Murmansk': 'Coast', 'White_Sea': 'Sea', 'Narvik': 'Coast', 'Nordkapp_Sea': 'Sea'}}, 'White_Sea': {'type': 'Sea', 'borders': {'Archangel': 'Coast', 'Murmansk': 'Coast', 'Barents_Sea': 'Sea'}}, 'Gulf_of_Bothnia': {'type': 'Sea', 'borders': {'Helsinki': 'Coast', 'Leningrad': 'Coast', 'Gallivare': 'Coast', 'Stockholm': 'Coast', 'Riga': 'Coast', 'Baltic_Sea': 'Sea'}}, 'Baltic_Sea': {'type': 'Sea', 'borders': {'Gulf_of_Bothnia': 'Sea', 'Riga': 'Coast', 'Stockholm': 'Coast', 'Konigsberg': 'Coast', 'Warsaw': 'Coast', 'Copenhagen': 'Strait', 'Berlin': 'Coast', 'Ruhr': 'Coast'}}, 'Riga': {'type': 'land', 'alligence': 'Baltic_States', 'res': '0', 'pop': '0', 'muster': '1', 'borders': {'Leningrad': 'Forest', 'Gulf_of_Bothnia': 'Coast', 'Baltic_Sea': 'Coast', 'Belorussia': 'Plains', 'Vilna': 'Plains', 'Konigsberg': 'Plains'}}, 'Konigsberg': {'type': 'land', 'alligence': 'Germany', 'res': '0', 'pop': '1', 'muster': '2', 'borders': {'Riga': 'Plains', 'Vilna': 'Forest', 'Baltic_Sea': 'Coast', 'Warsaw': 'River'}}, 'Warsaw': {'type': 'land', 'alligence': 'Poland', 'res': '1', 'pop': '1', 'muster': '3', 'borders': {'Baltic_Sea': 'Coast', 'Konigsberg': 'River', 'Vilna': 'River', 'Lvov': 'River', 'Berlin': 'River', 'Prague': 'Forest'}}, 'Vilna': {'type': 'land', 'alligence': 'Poland', 'res': '0', 'pop': '0', 'muster': '1', 'borders': {'Belorussia': 'Plains', 'Riga': 'Plains', 'Konigsberg': 'Forest', 'Lvov': 'Plains', 'Warsaw': 'River'}}, 'Lvov': {'type': 'land', 'alligence': 'Poland', 'res': '0', 'pop': '1', 'muster': '2', 'borders': {'Vilna': 'Plains', 'Kiev': 'Plains', 'Odessa': 'Plains', 'Warsaw': 'River', 'Prague': 'Mountains', 'Budapest': 'Mountains', 'Bucharest': 'River'}}, 'Prague': {'type': 'land', 'alligence': 'Czechoslovakia', 'res': '0', 'pop': '1', 'muster': '2', 'borders': {'Lvov': 'Mountains', 'Warsaw': 'Forest', 'Berlin': 'Forest', 'Munich': 'Forest', 'Budapest': 'Mountains', 'Vienna': 'Plains'}}, 'Budapest': {'type': 'land', 'alligence': 'Hungary', 'res': '1', 'pop': '1', 'muster': '2', 'borders': {'Lvov': 'Mountains', 'Prague': 'Mountains', 'Croatia': 'Plains', 'Belgrade': 'Plains', 'Vienna': 'Plains', 'Bucharest': 'Mountains'}}, 'Croatia': {'type': 'land', 'alligence': 'Yugoslavia', 'res': '1', 'pop': '0', 'muster': '0', 'borders': {'Adriatic_Sea': 'Coast', 'Vienna': 'Mountains', 'Venice': 'Mountains', 'Budapest': 'Plains', 'Belgrade': 'Forest', 'Albania': 'Mountains'}}, 'Belgrade': {'type': 'land', 'alligence': 'Yugoslavia', 'res': '0', 'pop': '0', 'muster': '1', 'borders': {'Croatia': 'Forest', 'Budapest': 'Plains', 'Albania': 'Mountains', 'Bucharest': 'River', 'Sofia': 'Mountains', 'Athens': 'Mountains'}}, 'Albania': {'type': 'land', 'alligence': 'Albania', 'res': '0', 'pop': '0', 'muster': '0', 'borders': {'Adriatic_Sea': 'Coast', 'Central_Mediterranean': 'Coast', 'Croatia': 'Mountains', 'Belgrade': 'Mountains', 'Athens': 'Mountains'}}, 'Athens': {'type': 'land', 'alligence': 'Greece', 'res': '1', 'pop': '0', 'muster': '1', 'borders': {'Central_Mediterranean': 'Coast', 'Istanbul': 'Strait', 'Sofia': 'Mountains', 'Belgrade': 'Mountains', 'Albania': 'Mountains', 'Aegean_Sea': 'coast'}}, 'Bucharest': {'type': 'land', 'alligence': 'Rumania', 'res': '2', 'pop': '1', 'muster': '2', 'borders': {'Lvov': 'River', 'Odessa': 'River', 'Budapest': 'Mountains', 'Belgrade': 'River', 'Sofia': 'River', 'Western_Black_Sea': 'coast'}}, 'Sofia': {'type': 'land', 'alligence': 'Bulgaria', 'res': '1', 'pop': '0', 'muster': '1', 'borders': {'Belgrade': 'Mountains', 'Bucharest': 'River', 'Western_Black_Sea': 'coast', 'Istanbul': 'Strait', 'Athens': 'Mountains'}}, 'Aegean_Sea': {'type': 'Sea', 'borders': {'Central_Mediterranean': 'Sea', 'Crete': 'Coast', 'Eastern_Mediterranean': 'Sea', 'Izmir': 'Coast', 'Istanbul': 'Strait', 'Athens': 'coast'}}, 'Crete': {'type': 'Sea', 'borders': {'Central_Mediterranean': 'Coast', 'Aegean_Sea': 'Coast', 'Eastern_Mediterranean': 'Coast'}}, 'Eastern_Mediterranean': {'type': 'Sea', 'borders': {'Central_Mediterranean': 'Sea', 'Cyrenaica': 'Coast', 'Aegean_Sea': 'Sea', 'Crete': 'Coast', 'Suez': 'Strait', 'Jordan': 'Coast', 'Damascus': 'Coast', 'Egypt': 'Coast', 'Adana': 'Coast', 'Izmir': 'Coast'}}, 'Egypt': {'type': 'land', 'alligence': 'Middle_East', 'res': '0', 'pop': '0', 'muster': '0', 'borders': {'Cyrenaica': 'Plains', 'Suez': 'Strait', 'Eastern_Mediterranean': 'Coast'}}, 'Suez': {'type': 'land', 'alligence': 'Middle_East', 'res': '0', 'pop': '1', 'muster': '2', 'borders': {'Egypt': 'Strait', 'Eastern_Mediterranean': 'Strait', 'Sudan': 'Strait', 'Jordan': 'Strait', 'Red_Sea': 'Strait'}}, 'Sudan': {'type': 'land', 'alligence': 'Middle_East', 'res': '0', 'pop': '0', 'muster': '0', 'borders': {'Suez': 'Strait', 'Red_Sea': 'Coast'}}, 'Jordan': {'type': 'land', 'alligence': 'Middle_East', 'res': '0', 'pop': '0', 'muster': '0', 'borders': {'Suez': 'Strait', 'Eastern_Mediterranean': 'Coast', 'Damascus': 'Plains', 'Iraq': 'Plains'}}, 'Iraq': {'type': 'land', 'alligence': 'Middle_East', 'res': '1', 'res_afr': '1', 'pop': '0', 'muster': '0', 'borders': {'Persian_Gulf': 'Coast', 'Damascus': 'Plains', 'Jordan': 'Plains', 'Abadan': 'Plains'}}, 'Damascus': {'type': 'land', 'alligence': 'Syria', 'res': '0', 'pop': '0', 'muster': '1', 'borders': {'Eastern_Mediterranean': 'Coast', 'Jordan': 'Plains', 'Iraq': 'Plains', 'Adana': 'Plains'}}, 'Red_Sea': {'type': 'Sea', 'borders': {'Suez': 'Strait', 'Sudan': 'Coast', 'Gulf_of_Aden': 'Sea'}}, 'Gulf_of_Aden': {'type': 'Sea', 'borders': {'Red_Sea': 'Sea', 'Arabian_Sea': 'Sea', 'West_Indian_Ocean': 'Ocean'}}, 'West_Indian_Ocean': {'type': 'Sea', 'borders': {'Gulf_of_Aden': 'Ocean', 'Arabian_Sea': 'Ocean', 'East_Indian_Ocean': 'Ocean'}}, 'East_Indian_Ocean': {'type': 'Sea', 'borders': {'Arabian_Sea': 'Ocean', 'West_Indian_Ocean': 'Ocean', 'Bombay': 'Coast', 'Delhi': 'Coast'}}, 'Arabian_Sea': {'type': 'Sea', 'borders': {'Gulf_of_Aden': 'Sea', 'West_Indian_Ocean': 'Ocean', 'Persian_Gulf': 'Sea', 'East_Indian_Ocean': 'Ocean', 'Bombay': 'Coast', 'Karachi': 'Coast', 'Shiraz': 'Coast'}}, 'Persian_Gulf': {'type': 'Sea', 'borders': {'Arabian_Sea': 'Sea', 'Shiraz': 'Coast', 'Abadan': 'Coast', 'Iraq': 'Coast'}}, 'Bombay': {'type': 'land', 'alligence': 'India', 'res': '1', 'res_afr': '1', 'pop': '1', 'muster': '2', 'borders': {'Arabian_Sea': 'Coast', 'East_Indian_Ocean': 'Coast', 'Karachi': 'Plains', 'Delhi': 'Plains'}}, 'Karachi': {'type': 'land', 'alligence': 'India', 'res': '0', 'res_afr': '0', 'pop': '0', 'muster': '0', 'borders': {'Arabian_Sea': 'Coast', 'Bombay': 'Plains', 'Delhi': 'Plains', 'Kabul': 'Mountains', 'Shiraz': 'Mountains'}}, 'Delhi': {'type': 'land', 'alligence': 'India', 'res': '1', 'res_afr': '1', 'pop': '2', 'muster': '3', 'borders': {'East_Indian_Ocean': 'Coast', 'Bombay': 'Plains', 'Karachi': 'Plains'}}, 'Kabul': {'type': 'land', 'alligence': 'Afghanistan', 'res': '0', 'pop': '0', 'muster': '1', 'borders': {'Karachi': 'Mountains', 'Shiraz': 'Mountains', 'Tehran': 'Mountains', 'Turkmenistan': 'Mountains'}}, 'Shiraz': {'type': 'land', 'alligence': 'Persia', 'res': '0', 'pop': '0', 'muster': '0', 'borders': {'Persian_Gulf': 'Coast', 'Arabian_Sea': 'Coast', 'Karachi': 'Mountains', 'Kabul': 'Mountains', 'Abadan': 'Mountains', 'Tehran': 'Mountains'}}, 'Tehran': {'type': 'land', 'alligence': 'Persia', 'res': '0', 'pop': '1', 'muster': '2', 'borders': {'Shiraz': 'Mountains', 'Abadan': 'Mountains', 'Kabul': 'Mountains', 'Tabriz': 'Mountains', 'Turkmenistan': 'Mountains', 'Southern_Caspian_Sea': 'Coast'}}, 'Abadan': {'type': 'land', 'alligence': 'Persia', 'res': '2', 'res_afr': '2', 'pop': '0', 'muster': '0', 'borders': {'Persian_Gulf': 'Coast', 'Shiraz': 'Mountains', 'Iraq': 'Plains', 'Tehran': 'Mountains', 'Tabriz': 'Mountains'}}, 'Tabriz': {'type': 'land', 'alligence': 'Persia', 'res': '0', 'pop': '0', 'muster': '0', 'borders': {'Abadan': 'Mountains', 'Tehran': 'Mountains', 'Southern_Caspian_Sea': 'Coast', 'Baku': 'Mountains', 'Kars': 'Mountains', 'Georgia': 'Mountains'}}, 'Kars': {'type': 'land', 'alligence': 'Turkey', 'res': '0', 'pop': '0', 'muster': '0', 'borders': {'Tabriz': 'Mountains', 'Georgia': 'Mountains', 'Eastern_Black_Sea': 'Coast', 'Sinope': 'Mountains', 'Adana': 'Mountains'}}, 'Sinope': {'type': 'land', 'alligence': 'Turkey', 'res': '0', 'pop': '0', 'muster': '0', 'borders': {'Kars': 'Mountains', 'Adana': 'Mountains', 'Ankara': 'Mountains', 'Eastern_Black_Sea': 'Coast'}}, 'Adana': {'type': 'land', 'alligence': 'Turkey', 'res': '0', 'pop': '0', 'muster': '0', 'borders': {'Kars': 'Mountains', 'Sinope': 'Mountains', 'Damascus': 'Plains', 'Eastern_Mediterranean': 'Coast', 'Ankara': 'Mountains', 'Izmir': 'Mountains'}}, 'Ankara': {'type': 'land', 'alligence': 'Turkey', 'res': '0', 'pop': '1', 'muster': '3', 'borders': {'Sinope': 'Mountains', 'Adana': 'Mountains', 'Izmir': 'Mountains', 'Istanbul': 'Strait', 'Western_Black_Sea': 'Coast'}}, 'Izmir': {'type': 'land', 'alligence': 'Turkey', 'res': '1', 'pop': '0', 'muster': '1', 'borders': {'Adana': 'Mountains', 'Ankara': 'Mountains', 'Eastern_Mediterranean': 'Coast', 'Aegean_Sea': 'Coast', 'Istanbul': 'Strait'}}, 'Istanbul': {'type': 'land', 'alligence': 'Turkey', 'res': '0', 'pop': '1', 'muster': '2', 'borders': {'Izmir': 'Strait', 'Ankara': 'Strait', 'Aegean_Sea': 'Strait', 'Western_Black_Sea': 'Strait', 'Sofia': 'Strait', 'Athens': 'Strait'}}, 'Southern_Caspian_Sea': {'type': 'Sea', 'borders': {'Tehran': 'Coast', 'Tabriz': 'Coast', 'Turkmenistan': 'Coast', 'Baku': 'Coast', 'Northern_Caspian_Sea': 'Sea'}}, 'Northern_Caspian_Sea': {'type': 'Sea', 'borders': {'Southern_Caspian_Sea': 'Sea', 'Turkmenistan': 'Coast', 'Baku': 'Coast', 'Kazakhstan': 'Coast', 'Grozny': 'Coast', 'Ufa': 'Coast'}}, 'Eastern_Black_Sea': {'type': 'Sea', 'borders': {'Kars': 'Coast', 'Georgia': 'Coast', 'Sinope': 'Coast', 'Western_Black_Sea': 'Sea', 'Sevastopol': 'Strait', 'Kuban': 'Coast'}}, 'Western_Black_Sea': {'type': 'Sea', 'borders': {'Istanbul': 'Strait', 'Eastern_Black_Sea': 'Sea', 'Ankara': 'Coast', 'Sevastopol': 'Strait', 'Odessa': 'Coast', 'Bucharest': 'coast', 'Sofia': 'coast'}}, 'Sea_of_Azov': {'type': 'Sea', 'borders': {'Sevastopol': 'Strait', 'Kuban': 'Coast', 'Kharkov': 'Coast'}}, 'Murmansk': {'type': 'land', 'alligence': 'USSR', 'res': '0', 'pop': '0', 'muster': '0', 'borders': {'Archangel': 'Forest', 'Leningrad': 'Forest', 'White_Sea': 'Coast', 'Barents_Sea': 'Coast', 'Helsinki': 'Forest', 'Petsamo': 'Forest'}}, 'Archangel': {'type': 'land', 'alligence': 'USSR', 'res': '0', 'pop': '0', 'muster': '0', 'borders': {'Vologda': 'Forest', 'Leningrad': 'Forest', 'Murmansk': 'Forest', 'White_Sea': 'Coast'}}, 'Vologda': {'type': 'land', 'alligence': 'USSR', 'res': '0', 'pop': '0', 'muster': '0', 'borders': {'Moscow': 'Forest', 'Gorky': 'Forest', 'Leningrad': 'Forest', 'Archangel': 'Forest'}}, 'Gorky': {'type': 'land', 'alligence': 'USSR', 'res': '0', 'pop': '0', 'muster': '0', 'borders': {'Moscow': 'River', 'Penza': 'River', 'Perm': 'Forest', 'Vologda': 'Forest'}}, 'Perm': {'type': 'land', 'alligence': 'USSR', 'res': '0', 'pop': '0', 'muster': '0', 'borders': {'Penza': 'River', 'Ufa': 'Plains', 'Urals': 'Mountains', 'Gorky': 'Forest'}}, 'Urals': {'type': 'land', 'alligence': 'USSR', 'res': '1', 'pop': '1', 'muster': '2', 'borders': {'Kazakhstan': 'Mountains', 'Western_Siberia': 'Plains', 'Ufa': 'Mountains', 'Perm': 'Mountains'}}, 'Western_Siberia': {'type': 'land', 'alligence': 'USSR', 'res': '1', 'pop': '0', 'muster': '0', 'borders': {'Kazakhstan': 'Plains', 'Urals': 'Plains'}}, 'Leningrad': {'type': 'land', 'alligence': 'USSR', 'res': '0', 'pop': '2', 'muster': '3', 'borders': {'Bryansk': 'Forest', 'Belorussia': 'Forest', 'Moscow': 'Forest', 'Vologda': 'Forest', 'Archangel': 'Forest', 'Murmansk': 'Forest', 'Helsinki': 'Forest', 'Gulf_of_Bothnia': 'Coast', 'Riga': 'Forest'}}, 'Moscow': {'type': 'land', 'alligence': 'USSR', 'res': '0', 'pop': '3', 'muster': '3', 'borders': {'Voronezh': 'Plains', 'Penza': 'Plains', 'Bryansk': 'Forest', 'Leningrad': 'Forest', 'Gorky': 'River', 'Vologda': 'Forest'}}, 'Penza': {'type': 'land', 'alligence': 'USSR', 'res': '0', 'pop': '0', 'muster': '0', 'borders': {'Voronezh': 'Forest', 'Ufa': 'River', 'Moscow': 'Plains', 'Gorky': 'River', 'Perm': 'River'}}, 'Ufa': {'type': 'land', 'alligence': 'USSR', 'res': '1', 'pop': '0', 'muster': '0', 'borders': {'Grozny': 'River', 'Stalingrad': 'River', 'Northern_Caspian_Sea': 'Coast', 'Kazakhstan': 'Plains', 'Voronezh': 'River', 'Penza': 'River', 'Perm': 'Plains', 'Urals': 'Mountains'}}, 'Kazakhstan': {'type': 'land', 'alligence': 'USSR', 'res': '0', 'pop': '0', 'muster': '0', 'borders': {'Turkmenistan': 'Plains', 'Northern_Caspian_Sea': 'Coast', 'Ufa': 'Plains', 'Western_Siberia': 'Plains', 'Urals': 'Mountains'}}, 'Belorussia': {'type': 'land', 'alligence': 'USSR', 'res': '0', 'pop': '0', 'muster': '0', 'borders': {'Bryansk': 'Plains', 'Leningrad': 'Forest', 'Riga': 'Plains', 'Vilna': 'Plains'}}, 'Bryansk': {'type': 'land', 'alligence': 'USSR', 'res': '0', 'pop': '0', 'muster': '0', 'borders': {'Kharkov': 'Plains', 'Voronezh': 'Plains', 'Belorussia': 'Plains', 'Moscow': 'Forest', 'Kiev': 'River', 'Leningrad': 'Forest'}}, 'Voronezh': {'type': 'land', 'alligence': 'USSR', 'res': '0', 'pop': '0', 'muster': '0', 'borders': {'Stalingrad': 'Plains', 'Kharkov': 'River', 'Bryansk': 'Plains', 'Ufa': 'River', 'Moscow': 'Plains', 'Penza': 'Forest'}}, 'Stalingrad': {'type': 'land', 'alligence': 'USSR', 'res': '0', 'pop': '1', 'muster': '2', 'borders': {'Kuban': 'Plains', 'Grozny': 'Plains', 'Ufa': 'River', 'Voronezh': 'Plains', 'Kharkov': 'River'}}, 'Grozny': {'type': 'land', 'alligence': 'USSR', 'res': '0', 'pop': '0', 'muster': '0', 'borders': {'Baku': 'Mountains', 'Northern_Caspian_Sea': 'Coast', 'Georgia': 'Mountains', 'Kuban': 'Plains', 'Stalingrad': 'Plains', 'Ufa': 'River'}}, 'Turkmenistan': {'type': 'land', 'alligence': 'USSR', 'res': '0', 'pop': '0', 'muster': '0', 'borders': {'Kabul': 'Mountains', 'Tehran': 'Mountains', 'Southern_Caspian_Sea': 'Coast', 'Northern_Caspian_Sea': 'Coast', 'Kazakhstan': 'Plains'}}, 'Kuban': {'type': 'land', 'alligence': 'USSR', 'res': '0', 'pop': '0', 'muster': '0', 'borders': {'Georgia': 'Mountains', 'Grozny': 'Plains', 'Eastern_Black_Sea': 'Coast', 'Sea_of_Azov': 'Coast', 'Sevastopol': 'Strait', 'Kharkov': 'River', 'Stalingrad': 'Plains'}}, 'Georgia': {'type': 'land', 'alligence': 'USSR', 'res': '0', 'pop': '0', 'muster': '0', 'borders': {'Baku': 'Plains', 'Tabriz': 'Mountains', 'Grozny': 'Mountains', 'Kuban': 'Mountains', 'Kars': 'Mountains', 'Eastern_Black_Sea': 'Coast'}}, 'Baku': {'type': 'land', 'alligence': 'USSR', 'res': '3', 'res_afr': '1', 'pop': '2', 'muster': '3', 'borders': {'Tabriz': 'Mountains', 'Southern_Caspian_Sea': 'Coast', 'Georgia': 'Plains', 'Northern_Caspian_Sea': 'Coast', 'Grozny': 'Mountains'}}, 'Kiev': {'type': 'land', 'alligence': 'USSR', 'res': '1', 'pop': '1', 'muster': '2', 'borders': {'Odessa': 'Plains', 'Kharkov': 'River', 'Bryansk': 'River', 'Lvov': 'Plains'}}, 'Kharkov': {'type': 'land', 'alligence': 'USSR', 'res': '1', 'pop': '1', 'muster': '2', 'borders': {'Sea_of_Azov': 'Coast', 'Sevastopol': 'Strait', 'Odessa': 'River', 'Kiev': 'River', 'Kuban': 'River', 'Stalingrad': 'River', 'Voronezh': 'River', 'Bryansk': 'Plains'}}, 'Odessa': {'type': 'land', 'alligence': 'USSR', 'res': '2', 'pop': '1', 'muster': '2', 'borders': {'Kharkov': 'River', 'Western_Black_Sea': 'Coast', 'Sevastopol': 'Strait', 'Kiev': 'Plains', 'Lvov': 'Plains', 'Bucharest': 'River'}}, 'Sevastopol': {'type': 'land', 'alligence': 'USSR', 'res': '0', 'pop': '0', 'muster': '0', 'borders': {'Western_Black_Sea': 'Strait', 'Eastern_Black_Sea': 'Strait', 'Sea_of_Azov': 'Strait', 'Kuban': 'Strait', 'Kharkov': 'Strait', 'Odessa': 'Strait'}}}, 'players': {'Axis': {'rules': {'handlimit': '7', 'factory_all_costs': {'el_0': '5', 'el_1': '4', 'el_2': '3'}, 'factory_idx': '0', 'factory_cost': '5', 'emergency_command': '4', 'DoW': {'West': 'False', 'USSR': 'False'}}, 'cities': {'MainCapital': 'Berlin', 'SubCapitals': {'el_0': 'Ruhr', 'el_1': 'Rome'}}, 'members': {'Germany': {'el_0': 'Germany'}, 'Italy': {'el_0': 'Libya', 'el_1': 'Italy'}}, 'homeland': {'el_0': 'Berlin', 'el_1': 'Sardinia', 'el_2': 'Ruhr', 'el_3': 'Milan', 'el_4': 'Sicily', 'el_5': 'Rome', 'el_6': 'Konigsberg', 'el_7': 'Munich', 'el_8': 'Venice', 'el_9': 'Taranto'}, 'territory': {'el_0': 'Berlin', 'el_1': 'Sardinia', 'el_2': 'Ruhr', 'el_3': 'Cyrenaica', 'el_4': 'Milan', 'el_5': 'Sicily', 'el_6': 'Rome', 'el_7': 'Konigsberg', 'el_8': 'Tripoli', 'el_9': 'Munich', 'el_10': 'Venice', 'el_11': 'Taranto'}, 'tracks': {'pop': '11', 'res': '6', 'ind': '12'}}, 'USSR': {'rules': {'handlimit': '6', 'factory_all_costs': {'el_0': '7', 'el_1': '5', 'el_2': '3'}, 'factory_idx': '0', 'factory_cost': '7', 'emergency_command': '2', 'DoW': {'Axis': 'False', 'West': 'False'}}, 'cities': {'MainCapital': 'Moscow', 'SubCapitals': {'el_0': 'Leningrad', 'el_1': 'Baku'}}, 'members': {'USSR': {'el_0': 'USSR'}}, 'homeland': {'el_0': 'Kharkov', 'el_1': 'Gorky', 'el_2': 'Urals', 'el_3': 'Archangel', 'el_4': 'Kazakhstan', 'el_5': 'Sevastopol', 'el_6': 'Belorussia', 'el_7': 'Georgia', 'el_8': 'Penza', 'el_9': 'Leningrad', 'el_10': 'Murmansk', 'el_11': 'Vologda', 'el_12': 'Perm', 'el_13': 'Turkmenistan', 'el_14': 'Western_Siberia', 'el_15': 'Bryansk', 'el_16': 'Odessa', 'el_17': 'Kuban', 'el_18': 'Kiev', 'el_19': 'Voronezh', 'el_20': 'Moscow', 'el_21': 'Stalingrad', 'el_22': 'Ufa', 'el_23': 'Grozny', 'el_24': 'Baku'}, 'territory': {'el_0': 'Kharkov', 'el_1': 'Gorky', 'el_2': 'Urals', 'el_3': 'Archangel', 'el_4': 'Kazakhstan', 'el_5': 'Sevastopol', 'el_6': 'Belorussia', 'el_7': 'Georgia', 'el_8': 'Penza', 'el_9': 'Leningrad', 'el_10': 'Murmansk', 'el_11': 'Vologda', 'el_12': 'Perm', 'el_13': 'Turkmenistan', 'el_14': 'Western_Siberia', 'el_15': 'Bryansk', 'el_16': 'Odessa', 'el_17': 'Kuban', 'el_18': 'Kiev', 'el_19': 'Voronezh', 'el_20': 'Moscow', 'el_21': 'Stalingrad', 'el_22': 'Ufa', 'el_23': 'Grozny', 'el_24': 'Baku'}, 'tracks': {'pop': '12', 'res': '11', 'ind': '9'}}, 'West': {'rules': {'handlimit': '8', 'factory_all_costs': {'el_0': '6', 'el_1': '5', 'el_2': '4', 'el_3': '3'}, 'factory_idx': '0', 'factory_cost': '6', 'emergency_command': '2', 'DoW': {'Axis': 'False', 'USSR': 'False'}}, 'cities': {'MainCapital': 'London', 'SubCapitals': {'el_0': 'Delhi', 'el_1': 'Paris', 'el_2': 'Washington'}}, 'members': {'Britain': {'el_0': 'Middle_East', 'el_1': 'India', 'el_2': 'Malta', 'el_3': 'Gibraltar', 'el_4': 'Britain', 'el_5': 'Canada'}, 'France': {'el_0': 'French_North_Africa', 'el_1': 'France', 'el_2': 'Syria'}}, 'homeland': {'el_0': 'Marseille', 'el_1': 'Glasgow', 'el_2': 'London', 'el_3': 'Gascony', 'el_4': 'Paris', 'el_5': 'Morocco', 'el_6': 'Lorraine'}, 'territory': {'el_0': 'Suez', 'el_1': 'Glasgow', 'el_2': 'Gibraltar', 'el_3': 'Egypt', 'el_4': 'Morocco', 'el_5': 'Jordan', 'el_6': 'Damascus', 'el_7': 'Sudan', 'el_8': 'Sfax', 'el_9': 'Paris', 'el_10': 'Bombay', 'el_11': 'Tunisia', 'el_12': 'London', 'el_13': 'Malta', 'el_14': 'Dakar', 'el_15': 'Algiers', 'el_16': 'Lorraine', 'el_17': 'Delhi', 'el_18': 'Ottawa', 'el_19': 'Karachi', 'el_20': 'Gascony', 'el_21': 'Iraq', 'el_22': 'Marseille'}, 'tracks': {'pop': '12', 'res': '11', 'ind': '7'}}}, 'action_cards': {'deck': {'el_0': {'command_value': '5', 'command_priority': 'N', 'season': 'spring', 'top_diplomacy': 'Romania', 'bottom_diplomacy': 'Spain'}, 'el_1': {'command_value': '10', 'command_priority': 'Z', 'season': 'summer', 'top_diplomacy': 'USA', 'bottom_diplomacy': 'Hungary'}, 'el_2': {'command_value': '5', 'command_priority': 'B', 'season': 'spring', 'top_diplomacy': 'Finland', 'bottom_diplomacy': 'Greece'}, 'el_3': {'command_value': '6', 'command_priority': 'B', 'season': 'fall', 'top_diplomacy': 'Yugoslavia', 'bottom_diplomacy': 'Spain'}, 'el_4': {'wildcard': {'message': 'Remove_one_rival_influence_from_any_neutral_minor_listed_below', 'options': {'el_0': 'USA', 'el_1': 'Spain', 'el_2': 'Sweden', 'el_3': 'Poland', 'el_4': 'Turkey', 'el_5': 'Low_Countries'}, 'name': 'Isolationism'}, 'command_value': '7', 'command_priority': 'G', 'season': 'summer'}, 'el_5': {'wildcard': {'message': 'Add_1_friendly_(or_remove_one_rival)_influence_to_a_nation_listed_below,_next_to_your_faction', 'West': {'el_0': 'Poland', 'el_1': 'Czechoslovakia'}, 'Axis': {'el_0': 'Turkey', 'el_1': 'Hungary', 'el_2': 'Austria'}, 'USSR': {'el_0': 'Yugoslavia'}, 'name': 'Versailles'}, 'command_value': '7', 'command_priority': 'O', 'season': 'fall'}, 'el_6': {'command_value': '8', 'command_priority': 'M', 'season': 'summer', 'top_diplomacy': 'Persia', 'bottom_diplomacy': 'Hungary'}, 'el_7': {'wildcard': {'message': 'Decrease_friendly_IND_by_1_and_then_add_1_friendly_(or_remove_one_rival)_influence_to_any_neutral_minor.', 'name': 'Foreign_Aid'}, 'command_value': '9', 'command_priority': 'C', 'season': 'summer'}, 'el_8': {'wildcard': {'message': 'Remove_one_rival_influence_to_a_nation_listed_below,_next_to_a_rival_faction', 'West': {'el_0': 'Persia', 'el_1': 'Turkey', 'el_2': 'Bulgaria', 'el_3': 'Latin_America', 'el_4': 'Hungary', 'el_5': 'Austria'}, 'Axis': {'el_0': 'Yugoslavia', 'el_1': 'Czechoslovakia', 'el_2': 'USA', 'el_3': 'Romania', 'el_4': 'Low_Countries', 'el_5': 'Norway', 'el_6': 'Poland'}, 'USSR': {'el_0': 'Baltic_States', 'el_1': 'Sweden', 'el_2': 'Turkey', 'el_3': 'Poland', 'el_4': 'Finland', 'el_5': 'Romania', 'el_6': 'USA'}, 'name': 'Fear_and_Loathing'}, 'command_value': '8', 'command_priority': 'J', 'season': 'summer'}, 'el_9': {'command_value': '8', 'command_priority': 'E', 'season': 'fall', 'top_diplomacy': 'Austria', 'bottom_diplomacy': 'Czechoslovakia'}, 'el_10': {'command_value': '8', 'command_priority': 'C', 'season': 'fall', 'top_diplomacy': 'Portugal', 'bottom_diplomacy': 'Romania'}, 'el_11': {'command_value': '7', 'command_priority': 'S', 'season': 'summer', 'top_diplomacy': 'Finland', 'bottom_diplomacy': 'Yugoslavia'}, 'el_12': {'command_value': '7', 'command_priority': 'J', 'season': 'fall', 'top_diplomacy': 'Persia', 'bottom_diplomacy': 'Afghanistan'}, 'el_13': {'wildcard': {'message': 'Add_1_friendly_(or_remove_one_rival)_influence_to_a_nation_listed_below,_next_to_your_faction', 'West': {'el_0': 'Denmark', 'el_1': 'USA', 'el_2': 'Low_Countries'}, 'Axis': {'el_0': 'Spain', 'el_1': 'Bulgaria', 'el_2': 'Latin_America'}, 'USSR': {'el_0': 'Spain'}, 'name': 'Birds_of_a_Feather_2'}, 'command_value': '6', 'command_priority': 'G', 'season': 'fall'}, 'el_14': {'wildcard': {'message': 'Add_1_friendly_(or_remove_one_rival)_influence_to_a_nation_listed_below,_next_to_your_faction', 'West': {'el_0': 'Low_Countries', 'el_1': 'Romania', 'el_2': 'USA'}, 'Axis': {'el_0': 'Bulgaria', 'el_1': 'Hungary', 'el_2': 'Austria'}, 'USSR': {'el_0': 'Spain', 'el_1': 'Czechoslovakia'}, 'name': 'Brothers_in_Arms'}, 'command_value': '5', 'command_priority': 'L', 'season': 'spring'}, 'el_15': {'command_value': '7', 'command_priority': 'H', 'season': 'fall', 'top_diplomacy': 'Afghanistan', 'bottom_diplomacy': 'Denmark'}, 'el_16': {'command_value': '9', 'command_priority': 'N', 'season': 'summer', 'top_diplomacy': 'Austria', 'bottom_diplomacy': 'Spain'}, 'el_17': {'wildcard': {'message': \"Add_1_friendly_(or_remove_one_rival)_influence_to_any_neutral_minor_that_shares_a_border_with_a_rival's_homeland\", 'name': 'Guarantee'}, 'command_value': '6', 'command_priority': 'I', 'season': 'spring'}, 'el_18': {'wildcard': {'message': 'Add_1_friendly_(or_remove_one_rival)_influence_to_a_nation_listed_below,_next_to_your_faction', 'West': {'el_0': 'Norway', 'el_1': 'Romania', 'el_2': 'Low_Countries', 'el_3': 'Romania', 'el_4': 'USA'}, 'Axis': {'el_0': 'Sweden', 'el_1': 'Norway', 'el_2': 'Austria'}, 'USSR': {'el_0': 'Poland', 'el_1': 'Bulgaria', 'el_2': 'Yugoslavia'}, 'name': 'Ethnic_Ties'}, 'command_value': '8', 'command_priority': 'B', 'season': 'summer'}, 'el_19': {'wildcard': {'message': 'Remove_one_rival_influence_from_any_neutral_minor_listed_below', 'options': {'el_0': 'USA', 'el_1': 'Spain', 'el_2': 'Sweden', 'el_3': 'Poland', 'el_4': 'Turkey', 'el_5': 'Low_Countries'}, 'name': 'Isolationism'}, 'command_value': '7', 'command_priority': 'L', 'season': 'fall'}, 'el_20': {'command_value': '6', 'command_priority': 'K', 'season': 'fall', 'top_diplomacy': 'Hungary', 'bottom_diplomacy': 'Greece'}, 'el_21': {'command_value': '4', 'command_priority': 'P', 'season': 'spring', 'top_diplomacy': 'Denmark', 'bottom_diplomacy': 'Low_Countries'}, 'el_22': {'command_value': '5', 'command_priority': 'M', 'season': 'spring', 'top_diplomacy': 'Poland', 'bottom_diplomacy': 'Yugoslavia'}, 'el_23': {'command_value': '7', 'command_priority': 'F', 'season': 'fall', 'top_diplomacy': 'Greece', 'bottom_diplomacy': 'Norway'}, 'el_24': {'command_value': '6', 'command_priority': 'I', 'season': 'fall', 'top_diplomacy': 'Czechoslovakia', 'bottom_diplomacy': 'Latin_America'}, 'el_25': {'command_value': '9', 'command_priority': 'X', 'season': 'summer', 'top_diplomacy': 'Czechoslovakia', 'bottom_diplomacy': 'Romania'}, 'el_26': {'command_value': '6', 'command_priority': 'K', 'season': 'summer', 'top_diplomacy': 'Bulgaria', 'bottom_diplomacy': 'Greece'}, 'el_27': {'wildcard': {'message': 'Add_1_friendly_(or_remove_one_rival)_influence_to_a_nation_listed_below,_next_to_your_faction', 'West': {'el_0': 'Low_Countries', 'el_1': 'USA', 'el_2': 'Czechoslovakia'}, 'Axis': {'el_0': 'Bulgaria', 'el_1': 'Hungary', 'el_2': 'Austria'}, 'USSR': {'el_0': 'Spain', 'el_1': 'Yugoslavia'}, 'name': 'Ties_that_Bind'}, 'command_value': '6', 'command_priority': 'A', 'season': 'summer'}, 'el_28': {'command_value': '7', 'command_priority': 'T', 'season': 'summer', 'top_diplomacy': 'Low_Countries', 'bottom_diplomacy': 'Sweden'}, 'el_29': {'command_value': '7', 'command_priority': 'A', 'season': 'fall', 'top_diplomacy': 'Afghanistan', 'bottom_diplomacy': 'USA'}, 'el_30': {'wildcard': {'message': \"Remove_one_rival_influence_to_any_neutral_minor_that_shares_a_border_with_your_faction's_homeland\", 'name': 'Intimidation'}, 'command_value': '6', 'command_priority': 'U', 'season': 'summer'}, 'el_31': {'command_value': '4', 'command_priority': 'H', 'season': 'spring', 'top_diplomacy': 'Czechoslovakia', 'bottom_diplomacy': 'USA'}, 'el_32': {'command_value': '4', 'command_priority': 'G', 'season': 'spring', 'top_diplomacy': 'Baltic_States', 'bottom_diplomacy': 'Norway'}, 'el_33': {'command_value': '6', 'command_priority': 'I', 'season': 'summer', 'top_diplomacy': 'Austria', 'bottom_diplomacy': 'Norway'}, 'el_34': {'command_value': '4', 'command_priority': 'F', 'season': 'spring', 'top_diplomacy': 'Czechoslovakia', 'bottom_diplomacy': 'Baltic_States'}, 'el_35': {'command_value': '6', 'command_priority': 'A', 'season': 'spring', 'top_diplomacy': 'Latin_America', 'bottom_diplomacy': 'Turkey'}, 'el_36': {'command_value': '10', 'command_priority': 'Q', 'season': 'summer', 'top_diplomacy': 'Portugal', 'bottom_diplomacy': 'Romania'}, 'el_37': {'command_value': '6', 'command_priority': 'P', 'season': 'fall', 'top_diplomacy': 'Austria', 'bottom_diplomacy': 'Romania'}, 'el_38': {'command_value': '8', 'command_priority': 'D', 'season': 'summer', 'top_diplomacy': 'USA', 'bottom_diplomacy': 'Hungary'}, 'el_39': {'command_value': '4', 'command_priority': 'D', 'season': 'spring', 'top_diplomacy': 'Finland', 'bottom_diplomacy': 'Poland'}, 'el_40': {'command_value': '8', 'command_priority': 'V', 'season': 'summer', 'top_diplomacy': 'Poland', 'bottom_diplomacy': 'Denmark'}, 'el_41': {'command_value': '6', 'command_priority': 'F', 'season': 'summer', 'top_diplomacy': 'Yugoslavia', 'bottom_diplomacy': 'Spain'}, 'el_42': {'wildcard': {'message': 'Add_1_friendly_(or_remove_one_rival)_influence_to_a_nation_listed_below,_next_to_your_faction', 'West': {'el_0': 'Sweden', 'el_1': 'Denmark', 'el_2': 'Norway', 'el_3': 'USA'}, 'Axis': {'el_0': 'Baltic_States', 'el_1': 'Portugal', 'el_2': 'Poland', 'el_3': 'Spain'}, 'USSR': {'el_0': 'Spain'}, 'name': 'Birds_of_a_Feather_1'}, 'command_value': '4', 'command_priority': 'C', 'season': 'spring'}, 'el_43': {'command_value': '5', 'command_priority': 'O', 'season': 'spring', 'top_diplomacy': 'Low_Countries', 'bottom_diplomacy': 'Latin_America'}, 'el_44': {'command_value': '9', 'command_priority': 'E', 'season': 'summer', 'top_diplomacy': 'Finland', 'bottom_diplomacy': 'USA'}, 'el_45': {'command_value': '6', 'command_priority': 'N', 'season': 'fall', 'top_diplomacy': 'Austria', 'bottom_diplomacy': 'Czechoslovakia'}, 'el_46': {'command_value': '9', 'command_priority': 'R', 'season': 'summer', 'top_diplomacy': 'Sweden', 'bottom_diplomacy': 'Latin_America'}, 'el_47': {'command_value': '6', 'command_priority': 'E', 'season': 'spring', 'top_diplomacy': 'Austria', 'bottom_diplomacy': 'Bulgaria'}, 'el_48': {'command_value': '8', 'command_priority': 'Y', 'season': 'summer', 'top_diplomacy': 'Sweden', 'bottom_diplomacy': 'Latin_America'}, 'el_49': {'command_value': '7', 'command_priority': 'W', 'season': 'summer', 'top_diplomacy': 'Yugoslavia', 'bottom_diplomacy': 'Portugal'}, 'el_50': {'command_value': '9', 'command_priority': 'P', 'season': 'summer', 'top_diplomacy': 'Turkey', 'bottom_diplomacy': 'Greece'}, 'el_51': {'command_value': '10', 'command_priority': 'O', 'season': 'summer', 'top_diplomacy': 'Bulgaria', 'bottom_diplomacy': 'Low_Countries'}, 'el_52': {'command_value': '5', 'command_priority': 'K', 'season': 'spring', 'top_diplomacy': 'Yugoslavia', 'bottom_diplomacy': 'Turkey'}, 'el_53': {'command_value': '8', 'command_priority': 'M', 'season': 'fall', 'top_diplomacy': 'Bulgaria', 'bottom_diplomacy': 'Hungary'}, 'el_54': {'command_value': '7', 'command_priority': 'L', 'season': 'summer', 'top_diplomacy': 'Hungary', 'bottom_diplomacy': 'Greece'}}, 'discard_pile': {}}, 'investment_cards': {'deck': {'el_0': {'top_technology': {'effect': 'AFs_2A3_in_friendly_territory', 'name': 'Air_Defense_Radar'}, 'bottom_technology': {'effect': 'Breeder_Reactor_-_allows_step_3', 'name': 'Atomic_Research_2'}, 'factory_value': '3'}, 'el_1': {'top_technology': {'effect': '2_invaders_per_border', 'name': 'LSTs'}, 'bottom_technology': {'techs': {'el_0': 'Atomic_Research_1', 'el_1': 'Air_Defense_Radar', 'el_2': 'Naval_Radar', 'el_3': 'Sonar', 'el_4': 'Precision_Bombsights'}, 'name': '1939_Science'}, 'factory_value': '3'}, 'el_2': {'top_technology': {'effect': 'AFs_move_3', 'name': 'Heavy_Bombers'}, 'bottom_technology': {'effect': 'Fleet_S3', 'name': 'Sonar'}, 'factory_value': '3'}, 'el_3': {'top_technology': {'effect': 'Infantry_moves_3', 'name': 'Motorized_Infantry'}, 'bottom_technology': {'effect': 'Fleet_S3', 'name': 'Sonar'}, 'factory_value': '4'}, 'el_4': {'top_technology': {'effect': 'inspect_rival_hand', 'name': 'Code_Breaking'}, 'bottom_technology': {'effect': 'Fleet_S3', 'name': 'Sonar'}, 'factory_value': '4'}, 'el_5': {'top_technology': {'effect': 'AFs_FirstFire', 'name': 'Jets'}, 'bottom_technology': {'effect': 'Fleets_FirstFire', 'name': 'Naval_Radar'}, 'factory_value': '2'}, 'el_6': {'top_technology': {'effect': 'AFs_move_3', 'name': 'Heavy_Bombers'}, 'bottom_technology': {'effect': 'AFs_2A3_in_friendly_territory', 'name': 'Air_Defense_Radar'}, 'factory_value': '3'}, 'el_7': {'top_technology': {'effect': 'Breeder_Reactor_-_allows_step_3', 'name': 'Atomic_Research_2'}, 'bottom_technology': {'effect': 'inspect_secret_vault,_and_steal_tech_(achieve_a_tech_in_the_vault_by_pairing_with_one_of_your_cards)', 'name': 'Mole'}, 'factory_value': '2'}, 'el_8': {'top_technology': {'effect': 'Infantry_moves_3', 'name': 'Motorized_Infantry'}, 'bottom_technology': {'effect': 'blindly_steal_card', 'name': 'Spy_Rings'}, 'factory_value': '2'}, 'el_9': {'top_technology': {'effect': 'Implosion_trigger_-_wins_game', 'name': 'Atomic_Research_4'}, 'bottom_technology': {'effect': 'pair_with_revealed_tech_to_achieve_tech', 'name': 'Industrial_Espionage'}, 'factory_value': '2'}, 'el_10': {'top_technology': {'effect': 'Fleets_FirstFire', 'name': 'Naval_Radar'}, 'bottom_technology': {'effect': 'Fleet_S3', 'name': 'Sonar'}, 'factory_value': '2'}, 'el_11': {'top_technology': {'effect': 'blindly_steal_card', 'name': 'Spy_Rings'}, 'bottom_technology': {'effect': 'Fleets_FirstFire', 'name': 'Naval_Radar'}, 'factory_value': '3'}, 'el_12': {'top_technology': {'effect': 'Tanks_FirstFire', 'name': 'Heavy_Tanks'}, 'bottom_technology': {'effect': '2_invaders_per_border', 'name': 'LSTs'}, 'factory_value': '4'}, 'el_13': {'top_technology': {'effect': 'Plutonium_-_allows_step_4', 'name': 'Atomic_Research_3'}, 'bottom_technology': {'effect': 'AF_can_bomb_IND', 'name': 'Precision_Bombsight'}, 'factory_value': '4'}, 'el_14': {'top_technology': {'effect': 'Fleets_FirstFire', 'name': 'Naval_Radar'}, 'bottom_technology': {'effect': 'AFs_2A3_in_friendly_territory', 'name': 'Air_Defense_Radar'}, 'factory_value': '1'}, 'el_15': {'top_technology': {'effect': 'Tanks_FirstFire', 'name': 'Heavy_Tanks'}, 'bottom_technology': {'effect': 'AFs_2A3_in_friendly_territory', 'name': 'Air_Defense_Radar'}, 'factory_value': '1'}, 'el_16': {'top_technology': {'effect': 'AFs_2A3_in_friendly_territory', 'name': 'Air_Defense_Radar'}, 'bottom_technology': {'techs': {'el_0': 'Atomic_Research_4', 'el_1': 'LSTs', 'el_2': 'Heavy_Tanks', 'el_3': 'Jets', 'el_4': 'Heavy_Bombers'}, 'name': '1945_Science'}, 'factory_value': '3'}, 'el_17': {'top_technology': {'effect': 'AFs_FirstFire', 'name': 'Jets'}, 'bottom_technology': {'effect': 'reverse_Intel_card_effect', 'name': 'Double_Agent'}, 'factory_value': '1'}, 'el_18': {'top_technology': {'effect': 'Infantry_moves_3', 'name': 'Motorized_Infantry'}, 'bottom_technology': {'effect': 'Fleets_FirstFire', 'name': 'Naval_Radar'}, 'factory_value': '3'}, 'el_19': {'top_technology': {'techs': {'el_0': 'Atomic_Research_2', 'el_1': 'Sonar', 'el_2': 'Motorized_Infantry', 'el_3': 'Heavy_Bombers', 'el_4': 'Air_Defense_Radar'}, 'name': '1943_Science'}, 'bottom_technology': {'effect': '2_invaders_per_border', 'name': 'LSTs'}, 'factory_value': '2'}, 'el_20': {'top_technology': {'effect': 'Fleets_FirstFire', 'name': 'Naval_Radar'}, 'bottom_technology': {'effect': 'Infantry_FirstFire', 'name': 'Rocket_Artillery'}, 'factory_value': '1'}, 'el_21': {'top_technology': {'effect': 'Fleets_FirstFire', 'name': 'Naval_Radar'}, 'bottom_technology': {'effect': 'Atomic_Pile_-_allows_step_2', 'name': 'Atomic_Research_1'}, 'factory_value': '4'}, 'el_22': {'top_technology': {'effect': 'pair_with_revealed_tech_to_achieve_tech', 'name': 'Industrial_Espionage'}, 'bottom_technology': {'effect': 'AF_can_bomb_IND', 'name': 'Precision_Bombsight'}, 'factory_value': '3'}, 'el_23': {'top_technology': {'effect': 'pair_with_revealed_tech_to_achieve_tech', 'name': 'Industrial_Espionage'}, 'bottom_technology': {'effect': 'AF_can_bomb_IND', 'name': 'Precision_Bombsight'}, 'factory_value': '2'}, 'el_24': {'top_technology': {'effect': 'Breeder_Reactor_-_allows_step_3', 'name': 'Atomic_Research_2'}, 'bottom_technology': {'effect': 'Infantry_FirstFire', 'name': 'Rocket_Artillery'}, 'factory_value': '3'}, 'el_25': {'top_technology': {'effect': 'AF_can_bomb_IND', 'name': 'Precision_Bombsight'}, 'bottom_technology': {'effect': 'AFs_2A3_in_friendly_territory', 'name': 'Air_Defense_Radar'}, 'factory_value': '2'}, 'el_26': {'top_technology': {'effect': 'remove_all_rival_influence_from_1_neutral_minor', 'name': 'Coup'}, 'bottom_technology': {'effect': 'Fleet_S3', 'name': 'Sonar'}, 'factory_value': '3'}, 'el_27': {'top_technology': {'effect': 'Plutonium_-_allows_step_4', 'name': 'Atomic_Research_3'}, 'bottom_technology': {'effect': 'AFs_FirstFire', 'name': 'Jets'}, 'factory_value': '3'}, 'el_28': {'top_technology': {'effect': 'AFs_move_3', 'name': 'Heavy_Bombers'}, 'bottom_technology': {'effect': 'reduce_rival_influence_by_1', 'name': 'Sabotage'}, 'factory_value': '2'}, 'el_29': {'top_technology': {'effect': 'inspect_rival_units_on_one_tile', 'name': 'Agent'}, 'bottom_technology': {'effect': 'AF_can_bomb_IND', 'name': 'Precision_Bombsight'}, 'factory_value': '3'}, 'el_30': {'top_technology': {'effect': 'Fleet_S3', 'name': 'Sonar'}, 'bottom_technology': {'effect': 'Atomic_Pile_-_allows_step_2', 'name': 'Atomic_Research_1'}, 'factory_value': '1'}, 'el_31': {'top_technology': {'effect': 'pair_with_revealed_tech_to_achieve_tech', 'name': 'Industrial_Espionage'}, 'bottom_technology': {'effect': 'Tanks_FirstFire', 'name': 'Heavy_Tanks'}, 'factory_value': '3'}, 'el_32': {'top_technology': {'effect': 'Plutonium_-_allows_step_4', 'name': 'Atomic_Research_3'}, 'bottom_technology': {'effect': 'Tanks_FirstFire', 'name': 'Heavy_Tanks'}, 'factory_value': '2'}, 'el_33': {'top_technology': {'effect': 'Tanks_FirstFire', 'name': 'Heavy_Tanks'}, 'bottom_technology': {'effect': 'Infantry_FirstFire', 'name': 'Rocket_Artillery'}, 'factory_value': '2'}, 'el_34': {'top_technology': {'effect': 'AFs_move_3', 'name': 'Heavy_Bombers'}, 'bottom_technology': {'effect': 'AF_can_bomb_IND', 'name': 'Precision_Bombsight'}, 'factory_value': '1'}, 'el_35': {'top_technology': {'effect': 'Infantry_moves_3', 'name': 'Motorized_Infantry'}, 'bottom_technology': {'effect': 'Atomic_Pile_-_allows_step_2', 'name': 'Atomic_Research_1'}, 'factory_value': '1'}, 'el_36': {'top_technology': {'effect': 'AFs_FirstFire', 'name': 'Jets'}, 'bottom_technology': {'effect': 'Fleets_FirstFire', 'name': 'Naval_Radar'}, 'factory_value': '3'}, 'el_37': {'top_technology': {'effect': 'Implosion_trigger_-_wins_game', 'name': 'Atomic_Research_4'}, 'bottom_technology': {'effect': 'AFs_move_3', 'name': 'Heavy_Bombers'}, 'factory_value': '1'}, 'el_38': {'top_technology': {'effect': 'inspect_rival_hand', 'name': 'Code_Breaking'}, 'bottom_technology': {'effect': 'Tanks_FirstFire', 'name': 'Heavy_Tanks'}, 'factory_value': '3'}, 'el_39': {'top_technology': {'effect': 'Tanks_FirstFire', 'name': 'Heavy_Tanks'}, 'bottom_technology': {'effect': '2_invaders_per_border', 'name': 'LSTs'}, 'factory_value': '3'}, 'el_40': {'top_technology': {'effect': 'Fleet_S3', 'name': 'Sonar'}, 'bottom_technology': {'effect': '2_invaders_per_border', 'name': 'LSTs'}, 'factory_value': '2'}, 'el_41': {'top_technology': {'effect': 'Fleets_FirstFire', 'name': 'Naval_Radar'}, 'bottom_technology': {'effect': 'AFs_2A3_in_friendly_territory', 'name': 'Air_Defense_Radar'}, 'factory_value': '2'}, 'el_42': {'top_technology': {'effect': 'Atomic_Pile_-_allows_step_2', 'name': 'Atomic_Research_1'}, 'bottom_technology': {'effect': 'Infantry_FirstFire', 'name': 'Rocket_Artillery'}, 'factory_value': '4'}, 'el_43': {'top_technology': {'effect': 'AFs_2A3_in_friendly_territory', 'name': 'Air_Defense_Radar'}, 'bottom_technology': {'effect': 'Fleet_S3', 'name': 'Sonar'}, 'factory_value': '4'}, 'el_44': {'top_technology': {'effect': 'Infantry_moves_3', 'name': 'Motorized_Infantry'}, 'bottom_technology': {'techs': {'el_0': 'Atomic_Research_3', 'el_1': 'LSTs', 'el_2': 'Naval_Radar', 'el_3': 'Rocket_Artillery', 'el_4': 'Jets'}, 'name': '1944_Science'}, 'factory_value': '2'}, 'el_45': {'top_technology': {'effect': 'Infantry_FirstFire', 'name': 'Rocket_Artillery'}, 'bottom_technology': {'effect': '2_invaders_per_border', 'name': 'LSTs'}, 'factory_value': '3'}, 'el_46': {'top_technology': {'techs': {'el_0': 'Motorized_Infantry', 'el_1': 'Precision_Bombsights', 'el_2': 'Rocket_Artillery', 'el_3': 'Heavy_Tanks', 'el_4': 'Motorized_Infantry'}, 'name': '1941_Science'}, 'bottom_technology': {'effect': '2_invaders_per_border', 'name': 'LSTs'}, 'factory_value': '2'}, 'el_47': {'top_technology': {'effect': 'Fleet_S3', 'name': 'Sonar'}, 'bottom_technology': {'effect': 'Infantry_FirstFire', 'name': 'Rocket_Artillery'}, 'factory_value': '2'}, 'el_48': {'top_technology': {'effect': 'Tanks_FirstFire', 'name': 'Heavy_Tanks'}, 'bottom_technology': {'effect': 'AF_can_bomb_IND', 'name': 'Precision_Bombsight'}, 'factory_value': '3'}, 'el_49': {'top_technology': {'effect': 'inspect_rival_units_on_one_tile', 'name': 'Agent'}, 'bottom_technology': {'effect': 'pair_with_revealed_tech_to_achieve_tech', 'name': 'Industrial_Espionage'}, 'factory_value': '3'}, 'el_50': {'top_technology': {'effect': 'AF_can_bomb_IND', 'name': 'Precision_Bombsight'}, 'bottom_technology': {'effect': 'Fleet_S3', 'name': 'Sonar'}, 'factory_value': '1'}, 'el_51': {'top_technology': {'effect': 'Infantry_moves_3', 'name': 'Motorized_Infantry'}, 'bottom_technology': {'effect': 'AFs_2A3_in_friendly_territory', 'name': 'Air_Defense_Radar'}, 'factory_value': '1'}, 'el_52': {'top_technology': {'effect': 'Fleet_S3', 'name': 'Sonar'}, 'bottom_technology': {'effect': 'Atomic_Pile_-_allows_step_2', 'name': 'Atomic_Research_1'}, 'factory_value': '3'}, 'el_53': {'top_technology': {'effect': 'AFs_move_3', 'name': 'Heavy_Bombers'}, 'bottom_technology': {'effect': 'AF_can_bomb_IND', 'name': 'Precision_Bombsight'}, 'factory_value': '3'}, 'el_54': {'top_technology': {'effect': 'Infantry_moves_3', 'name': 'Motorized_Infantry'}, 'bottom_technology': {'effect': 'AFs_move_3', 'name': 'Heavy_Bombers'}, 'factory_value': '3'}}, 'discard_pile': {}}}))\n",
       "        });\n",
       "        "
      ]
     },
     "metadata": {},
     "output_type": "display_data"
    }
   ],
   "source": [
    "render_dict(G)"
   ]
  },
  {
   "cell_type": "code",
   "execution_count": 11,
   "metadata": {},
   "outputs": [
    {
     "name": "stdout",
     "output_type": "stream",
     "text": [
      "10 45\n"
     ]
    },
    {
     "data": {
      "text/plain": [
       "[{'wildcard':{'message':'Remove_one_rival_influence_from_any_neutral_minor_listed_below', 'options':['USA', 'Spain', 'Sweden', 'Poland', 'Turkey', 'Low_Countries'], 'name':'Isolationism'}, 'command_value':7, 'command_priority':'L', 'season':'fall'},\n",
       " {'wildcard':{'message':'Remove_one_rival_influence_from_any_neutral_minor_listed_below', 'options':['USA', 'Spain', 'Sweden', 'Poland', 'Turkey', 'Low_Countries'], 'name':'Isolationism'}, 'command_value':7, 'command_priority':'G', 'season':'summer'},\n",
       " {'command_value':4, 'command_priority':'F', 'season':'spring', 'top_diplomacy':'Czechoslovakia', 'bottom_diplomacy':'Baltic_States'},\n",
       " {'command_value':6, 'command_priority':'F', 'season':'summer', 'top_diplomacy':'Yugoslavia', 'bottom_diplomacy':'Spain'},\n",
       " {'command_value':10, 'command_priority':'Q', 'season':'summer', 'top_diplomacy':'Portugal', 'bottom_diplomacy':'Romania'},\n",
       " {'command_value':5, 'command_priority':'M', 'season':'spring', 'top_diplomacy':'Poland', 'bottom_diplomacy':'Yugoslavia'},\n",
       " {'command_value':6, 'command_priority':'E', 'season':'spring', 'top_diplomacy':'Austria', 'bottom_diplomacy':'Bulgaria'},\n",
       " {'command_value':7, 'command_priority':'W', 'season':'summer', 'top_diplomacy':'Yugoslavia', 'bottom_diplomacy':'Portugal'},\n",
       " {'command_value':7, 'command_priority':'T', 'season':'summer', 'top_diplomacy':'Low_Countries', 'bottom_diplomacy':'Sweden'},\n",
       " {'command_value':4, 'command_priority':'G', 'season':'spring', 'top_diplomacy':'Baltic_States', 'bottom_diplomacy':'Norway'}]"
      ]
     },
     "execution_count": 11,
     "metadata": {},
     "output_type": "execute_result"
    }
   ],
   "source": [
    "cards, shuffled = draw_cards(G.action_cards, 10)\n",
    "G.action_cards.discard_pile.extend(cards)\n",
    "print(len(G.action_cards.discard_pile), len(G.action_cards.deck))\n",
    "cards"
   ]
  },
  {
   "cell_type": "code",
   "execution_count": 35,
   "metadata": {},
   "outputs": [],
   "source": []
  },
  {
   "cell_type": "code",
   "execution_count": 37,
   "metadata": {},
   "outputs": [
    {
     "data": {
      "text/plain": [
       "(True, 50)"
      ]
     },
     "execution_count": 37,
     "metadata": {},
     "output_type": "execute_result"
    }
   ],
   "source": [
    "cards, shuffled = draw_cards(G.action_cards, 50)\n",
    "shuffled, len(cards)"
   ]
  },
  {
   "cell_type": "code",
   "execution_count": null,
   "metadata": {},
   "outputs": [],
   "source": []
  },
  {
   "cell_type": "code",
   "execution_count": 18,
   "metadata": {},
   "outputs": [
    {
     "data": {
      "text/plain": [
       "xdict_keys('Axis', 'USSR', 'West')"
      ]
     },
     "execution_count": 18,
     "metadata": {},
     "output_type": "execute_result"
    }
   ],
   "source": [
    "player_setup = load('config/faction_setup.yml')\n",
    "player_setup.keys()"
   ]
  },
  {
   "cell_type": "code",
   "execution_count": null,
   "metadata": {},
   "outputs": [],
   "source": []
  },
  {
   "cell_type": "code",
   "execution_count": null,
   "metadata": {},
   "outputs": [],
   "source": []
  },
  {
   "cell_type": "code",
   "execution_count": null,
   "metadata": {},
   "outputs": [],
   "source": []
  },
  {
   "cell_type": "code",
   "execution_count": 5,
   "metadata": {
    "collapsed": true
   },
   "outputs": [],
   "source": [
    "\n",
    "nations = collate({v['alligence'] for k,v in G.nodes.items() if 'alligence' in v})\n",
    "teams = collate({\n",
    "    'West': {'UK', 'India', 'Middle East', 'Canada', \n",
    "             'France', 'French North Africa', },\n",
    "    'Axis': {'Germany', 'Italy'},\n",
    "    'USSR': {'USSR'},\n",
    "    'USA': {'USA'},\n",
    "})\n",
    "_nonindependent = xset()\n",
    "for v in teams.values():\n",
    "    _nonindependent.update(v)\n",
    "teams['Independent'] = xset({n for n in nations if n not in _nonindependent})"
   ]
  },
  {
   "cell_type": "code",
   "execution_count": 8,
   "metadata": {},
   "outputs": [
    {
     "data": {
      "text/plain": [
       "xset()"
      ]
     },
     "execution_count": 8,
     "metadata": {},
     "output_type": "execute_result"
    }
   ],
   "source": [
    "nations"
   ]
  },
  {
   "cell_type": "code",
   "execution_count": 7,
   "metadata": {},
   "outputs": [
    {
     "data": {
      "text/plain": [
       "{'Canada',\n",
       " 'France',\n",
       " 'French North Africa',\n",
       " 'Germany',\n",
       " 'India',\n",
       " 'Italy',\n",
       " 'Middle East',\n",
       " 'UK',\n",
       " 'USA',\n",
       " 'USSR'}"
      ]
     },
     "execution_count": 7,
     "metadata": {},
     "output_type": "execute_result"
    }
   ],
   "source": [
    "_nonindependent"
   ]
  },
  {
   "cell_type": "code",
   "execution_count": 6,
   "metadata": {},
   "outputs": [
    {
     "data": {
      "text/plain": [
       "xset()"
      ]
     },
     "execution_count": 6,
     "metadata": {},
     "output_type": "execute_result"
    }
   ],
   "source": [
    "teams['Independent']"
   ]
  },
  {
   "cell_type": "code",
   "execution_count": 9,
   "metadata": {},
   "outputs": [
    {
     "data": {
      "text/plain": [
       "{'Axis': {'members': {'Germany': {'type': 'Great Power',\n",
       "    'HomeCapital': 'Berlin',\n",
       "    'SubCapitals': ['Ruhr']},\n",
       "   'Italy': {'type': 'Major Power',\n",
       "    'HomeCapital': 'Rome',\n",
       "    'Colonies': ['Lybia']}},\n",
       "  'MainCapital': 'Berlin',\n",
       "  'SubCapitals': ['Ruhr', 'Rome'],\n",
       "  'Handlimit': 7,\n",
       "  'FactoryCost': [5, 4, 3],\n",
       "  'EmergencyCommand': 4,\n",
       "  'setup': {'action_cards': 14,\n",
       "   'cadres': {'Germany': {'Berlin': 6,\n",
       "     'Ruhr': 4,\n",
       "     'Munich': 2,\n",
       "     'Konigsberg': 2},\n",
       "    'Italy': {'Rome': 4, 'Milan': 2, 'Tripoli': 2}}}},\n",
       " 'USSR': {'members': {'USSR': {'type': 'Great Power',\n",
       "    'HomeCapital': 'Moscow',\n",
       "    'SubCaptials': ['Leningrad', 'Baku']}},\n",
       "  'MainCapital': 'Moscow',\n",
       "  'SubCapitals': ['Leningrad', 'Baku'],\n",
       "  'Handlimit': 6,\n",
       "  'FactoryCost': [7, 5, 3],\n",
       "  'EmergencyCommand': 2,\n",
       "  'enable_Winter': True,\n",
       "  'setup': {'action_cards': 6,\n",
       "   'cadres': {'USSR': {'Moscow': 3,\n",
       "     'Leningrad': 2,\n",
       "     'Baku': 2,\n",
       "     'Kiev': 1,\n",
       "     'Kharkov': 1,\n",
       "     'Odessa': 1,\n",
       "     'Stalingrad': 1,\n",
       "     'Urals': 1}}}},\n",
       " 'West': {'members': {'Britain': {'type': 'Great Power',\n",
       "    'HomeCapital': 'London',\n",
       "    'SubCapitals': ['Delhi'],\n",
       "    'Colonies': ['Canada', 'Gibraltar', 'Malta', 'Middle East', 'India']},\n",
       "   'France': {'type': 'Major Power',\n",
       "    'HomeCapital': 'Paris',\n",
       "    'Colonies': ['French North Africa', 'Syria']},\n",
       "   'USA': {'type': 'Major Power', 'HomeCapital': 'Washington'}},\n",
       "  'MainCapital': 'London',\n",
       "  'SubCapitals': ['Delhi', 'Paris', 'Washington'],\n",
       "  'Handlimit': 8,\n",
       "  'FactoryCost': [6, 5, 4, 3],\n",
       "  'EmergencyCommand': 2,\n",
       "  'enable_USA': True,\n",
       "  'setup': {'action_cards': 8,\n",
       "   'units': [{'alligence': 'Britain',\n",
       "     'tile': 'London',\n",
       "     'type': 'Fleet',\n",
       "     'cv': 4},\n",
       "    {'alligence': 'Britain', 'tile': 'Gibraltar', 'type': 'Fortress', 'cv': 1},\n",
       "    {'alligence': 'Britain', 'tile': 'Karachi', 'type': 'Fortress', 'cv': 1},\n",
       "    {'alligence': 'France', 'tile': 'Lorraine', 'type': 'Fortress', 'cv': 3}],\n",
       "   'cadres': {'Britain': {'London': 3,\n",
       "     'Delhi': 2,\n",
       "     'Glasgow': 1,\n",
       "     'Bombay': 1,\n",
       "     'Suez': 1},\n",
       "    'France': {'Paris': 2, 'Marseilles': 1, 'Algiers': 1}}}}}"
      ]
     },
     "execution_count": 9,
     "metadata": {},
     "output_type": "execute_result"
    }
   ],
   "source": [
    "players_info = load(open('config/nation_setup.yml', 'r'))\n",
    "players_info"
   ]
  },
  {
   "cell_type": "code",
   "execution_count": 10,
   "metadata": {},
   "outputs": [
    {
     "ename": "NameError",
     "evalue": "name 'collate' is not defined",
     "output_type": "error",
     "traceback": [
      "\u001b[0;31m---------------------------------------------------------------------------\u001b[0m",
      "\u001b[0;31mNameError\u001b[0m                                 Traceback (most recent call last)",
      "\u001b[0;32m<ipython-input-10-26e9f33e2981>\u001b[0m in \u001b[0;36m<module>\u001b[0;34m()\u001b[0m\n\u001b[0;32m----> 1\u001b[0;31m \u001b[0minfo\u001b[0m \u001b[0;34m=\u001b[0m \u001b[0mcollate\u001b[0m\u001b[0;34m(\u001b[0m\u001b[0mplayers_info\u001b[0m\u001b[0;34m)\u001b[0m\u001b[0;34m\u001b[0m\u001b[0;34m\u001b[0m\u001b[0m\n\u001b[0m",
      "\u001b[0;31mNameError\u001b[0m: name 'collate' is not defined"
     ]
    }
   ],
   "source": [
    "info = collate(players_info)"
   ]
  },
  {
   "cell_type": "code",
   "execution_count": null,
   "metadata": {
    "collapsed": true
   },
   "outputs": [],
   "source": []
  },
  {
   "cell_type": "code",
   "execution_count": null,
   "metadata": {
    "collapsed": true
   },
   "outputs": [],
   "source": []
  },
  {
   "cell_type": "code",
   "execution_count": 14,
   "metadata": {
    "collapsed": true
   },
   "outputs": [],
   "source": [
    "class Fixed_Object(object):\n",
    "    def __init__(self):\n",
    "        pass\n",
    "    \n",
    "    def __eq__(self, other):\n",
    "        \n",
    "        for k in other.__dict__.keys():\n",
    "            if k not in self.__dict__:\n",
    "                return False\n",
    "        \n",
    "        for k, v in self.__dict__.items():\n",
    "            if k not in other.__dict__ or self.__dict__[k] != other.__dict__[k]:\n",
    "                return False\n",
    "        \n",
    "        return True\n",
    "    \n",
    "    def __neq__(self, other):\n",
    "        for k in other.__dict__.keys():\n",
    "            if k not in self.__dict__:\n",
    "                return True\n",
    "        \n",
    "        for k, v in self.__dict__.items():\n",
    "            if k not in other.__dict__ or self.__dict__[k] != other.__dict__[k]:\n",
    "                return True\n",
    "        \n",
    "        return False"
   ]
  },
  {
   "cell_type": "code",
   "execution_count": null,
   "metadata": {
    "collapsed": true
   },
   "outputs": [],
   "source": []
  },
  {
   "cell_type": "code",
   "execution_count": null,
   "metadata": {
    "collapsed": true
   },
   "outputs": [],
   "source": [
    "class Unit(FixedObject):\n",
    "    def __init__(self):\n",
    "        self.alligence = None\n",
    "        self.type = typ\n",
    "        self.pts = 1\n",
    "        self.tile = tile"
   ]
  },
  {
   "cell_type": "code",
   "execution_count": null,
   "metadata": {
    "collapsed": true
   },
   "outputs": [],
   "source": []
  },
  {
   "cell_type": "code",
   "execution_count": null,
   "metadata": {
    "collapsed": true
   },
   "outputs": [],
   "source": [
    "class Player(object):\n",
    "    def __init__(self, ):\n",
    "        super().__init__()\n",
    "        \n",
    "        self.owns = set()\n",
    "        self.units = set()\n",
    "        self.diplomacy = set()\n",
    "        self.cards = set()\n",
    "        \n",
    "class Independent_Nation(object):\n",
    "    def __init__(self):\n",
    "        self.name = None\n",
    "        self.influence = None\n",
    "        self.armed = False\n",
    "        self.satellite = False\n",
    "        \n",
    "class Tile(object):\n",
    "    def __init__(self, ):\n",
    "        self.name = None\n",
    "        self.alligence = None\n",
    "        self.units = set()\n",
    "\n",
    "class Card(object):\n",
    "    def __init__(self, ):\n",
    "        pass\n",
    "    \n",
    "class ActionCard(Card):\n",
    "    def __init__(self):\n",
    "        self.diplomacy = set()\n",
    "        self.special = False\n",
    "        self.command_value = None\n",
    "        self.command_priority = None\n",
    "        \n",
    "class FactoryCard(Card):\n",
    "    def __init__(self):\n",
    "        self.technologies = set()\n",
    "        self.factory_value = None\n",
    "        self.espionage = False\n",
    "\n",
    "class Units(object):\n",
    "    def __init__(self, ):\n",
    "        pass"
   ]
  },
  {
   "cell_type": "code",
   "execution_count": null,
   "metadata": {
    "collapsed": true
   },
   "outputs": [],
   "source": []
  },
  {
   "cell_type": "code",
   "execution_count": 8,
   "metadata": {
    "collapsed": true
   },
   "outputs": [],
   "source": [
    "class Manager(object):\n",
    "    def __init__(self):\n",
    "        self.activate_player = None"
   ]
  },
  {
   "cell_type": "code",
   "execution_count": 9,
   "metadata": {
    "collapsed": true
   },
   "outputs": [],
   "source": [
    "# engine - functional\n",
    "\n",
    "def setup()"
   ]
  },
  {
   "cell_type": "code",
   "execution_count": null,
   "metadata": {
    "collapsed": true
   },
   "outputs": [],
   "source": []
  }
 ],
 "metadata": {
  "kernelspec": {
   "display_name": "Python 3",
   "language": "python",
   "name": "python3"
  },
  "language_info": {
   "codemirror_mode": {
    "name": "ipython",
    "version": 3
   },
   "file_extension": ".py",
   "mimetype": "text/x-python",
   "name": "python",
   "nbconvert_exporter": "python",
   "pygments_lexer": "ipython3",
   "version": "3.7.2"
  }
 },
 "nbformat": 4,
 "nbformat_minor": 2
}
