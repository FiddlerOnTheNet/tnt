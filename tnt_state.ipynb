{
 "cells": [
  {
   "cell_type": "code",
   "execution_count": 2,
   "metadata": {
    "collapsed": true
   },
   "outputs": [],
   "source": [
    "import sys, os, time\n",
    "import numpy as np\n",
    "%load_ext autoreload\n",
    "%autoreload 2\n",
    "%matplotlib inline\n",
    "#%matplotlib tk\n",
    "import matplotlib.pyplot as plt\n",
    "from yaml import load, dump\n",
    "import networkx as nx\n",
    "import tnt_util as util\n",
    "from collections import namedtuple"
   ]
  },
  {
   "cell_type": "code",
   "execution_count": 3,
   "metadata": {
    "collapsed": true
   },
   "outputs": [],
   "source": [
    "G = util.load_map()"
   ]
  },
  {
   "cell_type": "code",
   "execution_count": 4,
   "metadata": {
    "collapsed": true
   },
   "outputs": [],
   "source": [
    "units = load(open('config/units.yml', 'r'))\n",
    "nations = {v['alligence'] for k,v in G.nodes.items() if 'alligence' in v}\n",
    "teams = {\n",
    "    'West': {'UK', 'India', 'Middle East', 'Canada', \n",
    "             'France', 'French North Africa', },\n",
    "    'Axis': {'Germany', 'Italy'},\n",
    "    'USSR': {'USSR'},\n",
    "    'USA': {'USA'},\n",
    "}\n",
    "_nonlindependent = set()\n",
    "for v in teams.values():\n",
    "    _nonlindependent.update(v)\n",
    "teams['Independent'] = {n for n in nations if n not in _nonlindependent}"
   ]
  },
  {
   "cell_type": "code",
   "execution_count": 5,
   "metadata": {},
   "outputs": [
    {
     "data": {
      "text/plain": [
       "{'Afghanistan',\n",
       " 'Albania',\n",
       " 'Austria',\n",
       " 'Baltic States',\n",
       " 'Britain',\n",
       " 'Bulgaria',\n",
       " 'Czechoslovakia',\n",
       " 'Denmark',\n",
       " 'Finland',\n",
       " 'Gibraltar',\n",
       " 'Greece',\n",
       " 'Hungary',\n",
       " 'Ireland',\n",
       " 'Latin America',\n",
       " 'Libya',\n",
       " 'Low Countries',\n",
       " 'Malta',\n",
       " 'Norway',\n",
       " 'Persia',\n",
       " 'Poland',\n",
       " 'Portugal',\n",
       " 'Rumania',\n",
       " 'Spain',\n",
       " 'Sweden',\n",
       " 'Syria',\n",
       " 'Turkey',\n",
       " 'Yugoslavia'}"
      ]
     },
     "execution_count": 5,
     "metadata": {},
     "output_type": "execute_result"
    }
   ],
   "source": [
    "teams['Independent']"
   ]
  },
  {
   "cell_type": "code",
   "execution_count": 6,
   "metadata": {},
   "outputs": [
    {
     "data": {
      "text/plain": [
       "(36,\n",
       " {'Afghanistan',\n",
       "  'Albania',\n",
       "  'Austria',\n",
       "  'Baltic States',\n",
       "  'Britain',\n",
       "  'Bulgaria',\n",
       "  'Canada',\n",
       "  'Czechoslovakia',\n",
       "  'Denmark',\n",
       "  'Finland',\n",
       "  'France',\n",
       "  'French North Africa',\n",
       "  'Germany',\n",
       "  'Gibraltar',\n",
       "  'Greece',\n",
       "  'Hungary',\n",
       "  'India',\n",
       "  'Ireland',\n",
       "  'Italy',\n",
       "  'Latin America',\n",
       "  'Libya',\n",
       "  'Low Countries',\n",
       "  'Malta',\n",
       "  'Middle East',\n",
       "  'Norway',\n",
       "  'Persia',\n",
       "  'Poland',\n",
       "  'Portugal',\n",
       "  'Rumania',\n",
       "  'Spain',\n",
       "  'Sweden',\n",
       "  'Syria',\n",
       "  'Turkey',\n",
       "  'USA',\n",
       "  'USSR',\n",
       "  'Yugoslavia'})"
      ]
     },
     "execution_count": 6,
     "metadata": {},
     "output_type": "execute_result"
    }
   ],
   "source": [
    "len(nations), nations"
   ]
  },
  {
   "cell_type": "code",
   "execution_count": 7,
   "metadata": {},
   "outputs": [
    {
     "data": {
      "text/plain": [
       "38"
      ]
     },
     "execution_count": 7,
     "metadata": {},
     "output_type": "execute_result"
    }
   ],
   "source": [
    "tile_types = nations.copy()\n",
    "tile_types.add('Ocean')\n",
    "tile_types.add('Sea')\n",
    "len(tile_types)"
   ]
  },
  {
   "cell_type": "code",
   "execution_count": 8,
   "metadata": {},
   "outputs": [
    {
     "data": {
      "text/plain": [
       "{'Austria': [211, 169, 109],\n",
       " 'Italy': [164, 162, 141],\n",
       " 'Latin America': [198, 179, 139],\n",
       " 'USA': [145, 186, 130],\n",
       " 'Ireland': [217, 184, 143],\n",
       " 'Afghanistan': [187, 168, 128],\n",
       " 'Portugal': [234, 201, 156],\n",
       " 'Ocean': [191, 227, 243],\n",
       " 'Persia': [223, 191, 150],\n",
       " 'USSR': [233, 138, 134],\n",
       " 'Czechoslovakia': [196, 174, 135],\n",
       " 'India': [155, 202, 228],\n",
       " 'Norway': [189, 170, 130],\n",
       " 'Spain': [225, 205, 118],\n",
       " 'Hungary': [223, 190, 149],\n",
       " 'Poland': [227, 207, 121],\n",
       " 'Rumania': [206, 164, 104],\n",
       " 'Baltic States': [226, 193, 152],\n",
       " 'Finland': [218, 176, 116],\n",
       " 'Britain': [86, 182, 222],\n",
       " 'Low Countries': [233, 174, 104],\n",
       " 'Middle East': [154, 201, 227],\n",
       " 'Canada': [72, 168, 208],\n",
       " 'Sweden': [216, 183, 142],\n",
       " 'Syria': [187, 221, 223],\n",
       " 'Turkey': [227, 206, 123],\n",
       " 'Germany': [174, 174, 176],\n",
       " 'Libya': [199, 197, 182],\n",
       " 'Albania': [231, 199, 158],\n",
       " 'French North Africa': [181, 215, 217],\n",
       " 'Greece': [214, 172, 112],\n",
       " 'Bulgaria': [224, 192, 151],\n",
       " 'Yugoslavia': [186, 167, 127],\n",
       " 'France': [121, 200, 205],\n",
       " 'Sea': [207, 229, 240],\n",
       " 'Denmark': [185, 152, 99]}"
      ]
     },
     "execution_count": 8,
     "metadata": {},
     "output_type": "execute_result"
    }
   ],
   "source": [
    "rgbs = load(open('config/tile_rgbs.yml', 'r'))\n",
    "rgbs"
   ]
  },
  {
   "cell_type": "code",
   "execution_count": 6,
   "metadata": {},
   "outputs": [
    {
     "data": {
      "text/plain": [
       "{'type': 'land', 'alligence': 'Austria', 'res': 0, 'pop': 1, 'muster': 2}"
      ]
     },
     "execution_count": 6,
     "metadata": {},
     "output_type": "execute_result"
    }
   ],
   "source": [
    "G.nodes['Vienna']"
   ]
  },
  {
   "cell_type": "code",
   "execution_count": 7,
   "metadata": {},
   "outputs": [
    {
     "data": {
      "text/plain": [
       "{'type': 'land', 'alligence': 'Canada', 'res': 1, 'pop': 0, 'muster': 1}"
      ]
     },
     "execution_count": 7,
     "metadata": {},
     "output_type": "execute_result"
    }
   ],
   "source": [
    "G.nodes['Ottawa']"
   ]
  },
  {
   "cell_type": "code",
   "execution_count": 11,
   "metadata": {},
   "outputs": [
    {
     "data": {
      "text/plain": [
       "{'Axis': {'members': {'Germany': {'type': 'Great Power',\n",
       "    'HomeCapital': 'Berlin',\n",
       "    'SubCapitals': ['Ruhr']},\n",
       "   'Italy': {'type': 'Major Power',\n",
       "    'HomeCapital': 'Rome',\n",
       "    'Colonies': ['Lybia']}},\n",
       "  'MainCapital': 'Berlin',\n",
       "  'SubCapitals': ['Ruhr', 'Rome'],\n",
       "  'setup': {'action_cards': 14,\n",
       "   'cadres': {'Germany': {'Berlin': 6,\n",
       "     'Ruhr': 4,\n",
       "     'Munich': 2,\n",
       "     'Konigsberg': 2},\n",
       "    'Italy': {'Rome': 4, 'Milan': 2, 'Tripoli': 2}}},\n",
       "  'unit_count': {'Germany': {'Infantry': 16,\n",
       "    'Fortress': 8,\n",
       "    'Tank': 8,\n",
       "    'AirForce': 8,\n",
       "    'Fleet': 6,\n",
       "    'Carrier': 2,\n",
       "    'Submarine': 8},\n",
       "   'Italy': {'Infantry': 6,\n",
       "    'Fortress': 2,\n",
       "    'Tank': 2,\n",
       "    'AirForce': 3,\n",
       "    'Fleet': 4,\n",
       "    'Carrier': 1,\n",
       "    'Submarine': 2}}},\n",
       " 'USSR': {'members': {'USSR': {'type': 'Great Power',\n",
       "    'HomeCapital': 'Moscow',\n",
       "    'SubCaptials': ['Leningrad', 'Baku']}},\n",
       "  'MainCapital': 'Moscow',\n",
       "  'SubCapitals': ['Leningrad', 'Baku'],\n",
       "  'setup': {'action_cards': 6,\n",
       "   'units': {'USSR': {'tile': 'Moscow', 'type': 'Infantry', 'cv': 3}},\n",
       "   'cadres': {'USSR': {'Moscow': 3,\n",
       "     'Leningrad': 2,\n",
       "     'Baku': 2,\n",
       "     'Kiev': 1,\n",
       "     'Kharkov': 1,\n",
       "     'Odessa': 1,\n",
       "     'Stalingrad': 1,\n",
       "     'Urals': 1}}},\n",
       "  'unit_count': {'USSR': {'Infantry': 16,\n",
       "    'Fortress': 6,\n",
       "    'Tank': 8,\n",
       "    'AirForce': 6,\n",
       "    'Fleet': 4,\n",
       "    'Carrier': 2,\n",
       "    'Submarine': 2}}},\n",
       " 'West': {'members': {'Britain': {'type': 'Great Power',\n",
       "    'HomeCapital': 'London',\n",
       "    'SubCapitals': ['Delhi'],\n",
       "    'Colonies': ['Canada', 'Gibraltar', 'Malta', 'Middle East', 'India']},\n",
       "   'France': {'type': 'Major Power',\n",
       "    'HomeCapital': 'Paris',\n",
       "    'Colonies': ['French North Africa', 'Syria']},\n",
       "   'USA': {'type': 'Major Power', 'HomeCapital': 'Washington'}},\n",
       "  'MainCapital': 'London',\n",
       "  'SubCapitals': ['Delhi', 'Paris', 'Washington'],\n",
       "  'setup': {'action_cards': 8,\n",
       "   'units': {'Britain': {'tile': 'London', 'type': 'Fleet', 'cv': 4},\n",
       "    'France': {'tile': 'Lorraine', 'type': 'Fortress', 'cv': 3}},\n",
       "   'cadres': {'Britain': {'London': 3,\n",
       "     'Delhi': 2,\n",
       "     'Glasgow': 1,\n",
       "     'Bombay': 1,\n",
       "     'Suez': 1},\n",
       "    'France': {'Paris': 2, 'Marseilles': 1, 'Algiers': 1}}},\n",
       "  'unit_count': {'Britain': {'Infantry': 6,\n",
       "    'Fortress': 6,\n",
       "    'Tank': 3,\n",
       "    'AirForce': 4,\n",
       "    'Fleet': 6,\n",
       "    'Carrier': 2,\n",
       "    'Submarine': 3},\n",
       "   'France': {'Infantry': 6,\n",
       "    'Fortress': 3,\n",
       "    'Tank': 2,\n",
       "    'AirForce': 3,\n",
       "    'Fleet': 4,\n",
       "    'Carrier': 1,\n",
       "    'Submarine': 1},\n",
       "   'USA': {'Infantry': 4,\n",
       "    'Fortress': 2,\n",
       "    'Tank': 4,\n",
       "    'AirForce': 4,\n",
       "    'Fleet': 4,\n",
       "    'Carrier': 1,\n",
       "    'Submarine': 1}}}}"
      ]
     },
     "execution_count": 11,
     "metadata": {},
     "output_type": "execute_result"
    }
   ],
   "source": [
    "players_info = load(open('config/nation_setup.yml', 'r'))\n",
    "players_info"
   ]
  },
  {
   "cell_type": "code",
   "execution_count": 14,
   "metadata": {
    "collapsed": true
   },
   "outputs": [],
   "source": [
    "class Fixed_Object(object):\n",
    "    def __init__(self):\n",
    "        pass\n",
    "    \n",
    "    def __eq__(self, other):\n",
    "        \n",
    "        for k in other.__dict__.keys():\n",
    "            if k not in self.__dict__:\n",
    "                return False\n",
    "        \n",
    "        for k, v in self.__dict__.items():\n",
    "            if k not in other.__dict__ or self.__dict__[k] != other.__dict__[k]:\n",
    "                return False\n",
    "        \n",
    "        return True\n",
    "    \n",
    "    def __neq__(self, other):\n",
    "        for k in other.__dict__.keys():\n",
    "            if k not in self.__dict__:\n",
    "                return True\n",
    "        \n",
    "        for k, v in self.__dict__.items():\n",
    "            if k not in other.__dict__ or self.__dict__[k] != other.__dict__[k]:\n",
    "                return True\n",
    "        \n",
    "        return False"
   ]
  },
  {
   "cell_type": "code",
   "execution_count": null,
   "metadata": {
    "collapsed": true
   },
   "outputs": [],
   "source": []
  },
  {
   "cell_type": "code",
   "execution_count": null,
   "metadata": {
    "collapsed": true
   },
   "outputs": [],
   "source": [
    "class Unit(FixedObject):\n",
    "    def __init__(self, team, typ, tile, ):\n",
    "        self.team = team\n",
    "        self.type = typ\n",
    "        self.pts = 1\n",
    "        self.tile = tile"
   ]
  },
  {
   "cell_type": "code",
   "execution_count": null,
   "metadata": {
    "collapsed": true
   },
   "outputs": [],
   "source": []
  },
  {
   "cell_type": "code",
   "execution_count": null,
   "metadata": {
    "collapsed": true
   },
   "outputs": [],
   "source": [
    "class Player(object):\n",
    "    def __init__(self, ):\n",
    "        super().__init__()\n",
    "        \n",
    "        self.owns = set()\n",
    "        self.units = set()\n",
    "        self.diplomacy = set()\n",
    "        self.cards = set()\n",
    "        \n",
    "class Tile(object):\n",
    "    def __init__(self, ):\n",
    "        pass\n",
    "\n",
    "class Card(object):\n",
    "    def __init__(self, ):\n",
    "        pass\n",
    "\n",
    "class Units(object):\n",
    "    def __init__(self, ):\n",
    "        pass"
   ]
  },
  {
   "cell_type": "code",
   "execution_count": null,
   "metadata": {
    "collapsed": true
   },
   "outputs": [],
   "source": []
  },
  {
   "cell_type": "code",
   "execution_count": null,
   "metadata": {
    "collapsed": true
   },
   "outputs": [],
   "source": [
    "class Manager(object):\n",
    "    def __init__(self):\n",
    "        self.activate_player = None\n",
    "        \n",
    "    \n",
    "class Engine(object):\n",
    "    def __init__(self):\n",
    "        pass\n",
    "    \n"
   ]
  },
  {
   "cell_type": "code",
   "execution_count": null,
   "metadata": {
    "collapsed": true
   },
   "outputs": [],
   "source": []
  }
 ],
 "metadata": {
  "kernelspec": {
   "display_name": "Python 3",
   "language": "python",
   "name": "python3"
  },
  "language_info": {
   "codemirror_mode": {
    "name": "ipython",
    "version": 3
   },
   "file_extension": ".py",
   "mimetype": "text/x-python",
   "name": "python",
   "nbconvert_exporter": "python",
   "pygments_lexer": "ipython3",
   "version": "3.6.4"
  }
 },
 "nbformat": 4,
 "nbformat_minor": 2
}
