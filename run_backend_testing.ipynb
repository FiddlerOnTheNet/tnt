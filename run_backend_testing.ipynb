{
 "cells": [
  {
   "cell_type": "code",
   "execution_count": 1,
   "metadata": {},
   "outputs": [],
   "source": [
    "import sys, os, time\n",
    "import numpy as np\n",
    "%load_ext autoreload\n",
    "%autoreload 2\n",
    "%matplotlib inline\n",
    "#%matplotlib tk\n",
    "import matplotlib.pyplot as plt\n",
    "import tnt_util as util\n",
    "from tnt_util import adict, idict, xset, collate, load, render_dict, save, Logger, seq_iterate\n",
    "from tnt_setup import init_gamestate, setup_phase\n",
    "from tnt_cards import load_card_decks, draw_cards\n",
    "from collections import namedtuple\n",
    "import random\n",
    "from itertools import chain, product\n",
    "from tnt_units import load_unit_rules\n",
    "import tnt_setup as setup\n",
    "\n",
    "from flask_app import *"
   ]
  },
  {
   "cell_type": "code",
   "execution_count": 2,
   "metadata": {},
   "outputs": [
    {
     "data": {
      "text/plain": [
       "'Backend active: use \"init\" to init game'"
      ]
     },
     "execution_count": 2,
     "metadata": {},
     "output_type": "execute_result"
    }
   ],
   "source": [
    "ping()"
   ]
  },
  {
   "cell_type": "code",
   "execution_count": 3,
   "metadata": {},
   "outputs": [
    {
     "name": "stdout",
     "output_type": "stream",
     "text": [
      "Beginning phase: Setup\n",
      "Game saved\n"
     ]
    }
   ],
   "source": [
    "out = format_msg_to_python(init_game(debug=False, player='Axis'))"
   ]
  },
  {
   "cell_type": "code",
   "execution_count": 4,
   "metadata": {},
   "outputs": [
    {
     "name": "stdout",
     "output_type": "stream",
     "text": [
      "Game loaded\n"
     ]
    }
   ],
   "source": [
    "path = 'saves/setup_complete.json'\n",
    "load(path)"
   ]
  },
  {
   "cell_type": "code",
   "execution_count": 5,
   "metadata": {},
   "outputs": [],
   "source": [
    "G = get_G()\n",
    "fixed = adict()"
   ]
  },
  {
   "cell_type": "code",
   "execution_count": 6,
   "metadata": {},
   "outputs": [],
   "source": [
    "for player in G.game.turn_order:\n",
    "    fixed[player] = [('investment_card',)]*4 + [('action_card',)]"
   ]
  },
  {
   "cell_type": "code",
   "execution_count": 7,
   "metadata": {},
   "outputs": [
    {
     "name": "stdout",
     "output_type": "stream",
     "text": [
      "['USSR', 'West', 'Axis']\n"
     ]
    }
   ],
   "source": [
    "try:\n",
    "    players = G.game.turn_order\n",
    "except KeyError:\n",
    "    players = ['Axis', 'USSR', 'West']\n",
    "print(players)"
   ]
  },
  {
   "cell_type": "code",
   "execution_count": 8,
   "metadata": {},
   "outputs": [
    {
     "name": "stdout",
     "output_type": "stream",
     "text": [
      "West draws 8 action cards (now holding 8 cards)\n",
      "Beginning phase: New_Year\n",
      "Game saved\n",
      "Start of 1936\n",
      "Axis draws a peace dividend\n",
      "USSR draws a peace dividend\n",
      "- you receive 0 victory points\n",
      "West draws a peace dividend\n",
      "Turn order: USSR, West, Axis\n",
      "Beginning phase: Production\n",
      "Game saved\n",
      "USSR may spend 9 production points\n",
      "Game loaded\n",
      "\n",
      "-- from fixed chose ('action_card',)\n",
      "USSR spends 1 production on drawing an action card (8 production remaining)\n",
      "\n",
      "-- from fixed chose ('investment_card',)\n",
      "USSR spends 1 production on drawing an investment card (7 production remaining)\n",
      "\n",
      "-- from fixed chose ('investment_card',)\n",
      "USSR spends 1 production on drawing an investment card (6 production remaining)\n",
      "\n",
      "-- from fixed chose ('investment_card',)\n",
      "USSR spends 1 production on drawing an investment card (5 production remaining)\n",
      "\n",
      "-- from fixed chose ('investment_card',)\n",
      "USSR spends 1 production on drawing an investment card (4 production remaining)\n",
      "\n",
      "-- from 140 chose ('USSR', 'Voronezh', 'Tank')\n",
      "USSR spends 1 production on building a new cadre in Voronezh (3 production remaining)\n",
      "\n",
      "-- from 140 chose ('USSR', 'Urals', 'Fortress')\n",
      "USSR spends 1 production on building a new cadre in Urals (2 production remaining)\n",
      "\n",
      "-- from 139 chose ('USSR', 'Kuban', 'Tank')\n",
      "USSR spends 1 production on building a new cadre in Kuban (1 production remaining)\n",
      "\n",
      "-- from 139 chose (147,)\n",
      "USSR spends 1 production on upgrading a unit in Moscow (0 production remaining)\n",
      "USSR draws 1 action cards (now holding 7 cards)\n",
      "USSR draws 4 investment cards (now holding 11 cards)\n",
      "USSR is done with production\n",
      "West may spend 7 production points\n",
      "\n",
      "-- USSR is waiting for {'West'}\n",
      "Game loaded\n",
      "USSR spends 1 production on drawing an action card (8 production remaining)\n",
      "USSR spends 1 production on drawing an investment card (7 production remaining)\n",
      "USSR spends 1 production on drawing an investment card (6 production remaining)\n",
      "USSR spends 1 production on drawing an investment card (5 production remaining)\n",
      "USSR spends 1 production on drawing an investment card (4 production remaining)\n",
      "USSR spends 1 production on building a new cadre in Voronezh (3 production remaining)\n",
      "USSR spends 1 production on building a new cadre in Urals (2 production remaining)\n",
      "USSR spends 1 production on building a new cadre in Kuban (1 production remaining)\n",
      "USSR spends 1 production on upgrading a unit in Moscow (0 production remaining)\n",
      "USSR draws 1 action cards (now holding 7 cards)\n",
      "USSR draws 4 investment cards (now holding 11 cards)\n",
      "USSR is done with production\n",
      "West may spend 7 production points\n",
      "\n",
      "-- from fixed chose ('action_card',)\n",
      "West spends 1 production on drawing an action card (6 production remaining)\n",
      "\n",
      "-- from fixed chose ('investment_card',)\n",
      "West spends 1 production on drawing an investment card (5 production remaining)\n",
      "\n",
      "-- from fixed chose ('investment_card',)\n",
      "West spends 1 production on drawing an investment card (4 production remaining)\n",
      "\n",
      "-- from fixed chose ('investment_card',)\n",
      "West spends 1 production on drawing an investment card (3 production remaining)\n",
      "\n",
      "-- from fixed chose ('investment_card',)\n",
      "West spends 1 production on drawing an investment card (2 production remaining)\n",
      "\n",
      "-- from 63 chose ('Britain', 'Bombay', 'Fortress')\n",
      "West spends 1 production on building a new cadre in Bombay (1 production remaining)\n",
      "\n",
      "-- from 62 chose ('Britain', 'Sudan', 'Fortress')\n",
      "West spends 1 production on building a new cadre in Sudan (0 production remaining)\n",
      "West draws 1 action cards (now holding 9 cards)\n",
      "West draws 4 investment cards (now holding 13 cards)\n",
      "West is done with production\n",
      "Axis may spend 11 production points\n",
      "\n",
      "-- West is waiting for {'Axis'}\n",
      "USSR draws 6 action cards (now holding 6 cards)\n",
      "West draws 8 action cards (now holding 8 cards)\n",
      "Beginning phase: New_Year\n",
      "Game saved\n",
      "Start of 1936\n",
      "Axis draws a peace dividend\n",
      "- you receive 0 victory points\n",
      "USSR draws a peace dividend\n",
      "West draws a peace dividend\n",
      "Turn order: USSR, West, Axis\n",
      "Beginning phase: Production\n",
      "Game saved\n",
      "USSR may spend 9 production points\n",
      "Game loaded\n",
      "USSR spends 1 production on drawing an action card (8 production remaining)\n",
      "USSR spends 1 production on drawing an investment card (7 production remaining)\n",
      "USSR spends 1 production on drawing an investment card (6 production remaining)\n",
      "USSR spends 1 production on drawing an investment card (5 production remaining)\n",
      "USSR spends 1 production on drawing an investment card (4 production remaining)\n",
      "USSR spends 1 production on building a new cadre in Voronezh (3 production remaining)\n",
      "USSR spends 1 production on building a new cadre in Urals (2 production remaining)\n",
      "USSR spends 1 production on building a new cadre in Kuban (1 production remaining)\n",
      "USSR spends 1 production on upgrading a unit in Moscow (0 production remaining)\n",
      "USSR draws 1 action cards (now holding 7 cards)\n",
      "USSR draws 4 investment cards (now holding 11 cards)\n",
      "USSR is done with production\n",
      "West may spend 7 production points\n",
      "West spends 1 production on drawing an action card (6 production remaining)\n",
      "West spends 1 production on drawing an investment card (5 production remaining)\n",
      "West spends 1 production on drawing an investment card (4 production remaining)\n",
      "West spends 1 production on drawing an investment card (3 production remaining)\n",
      "West spends 1 production on drawing an investment card (2 production remaining)\n",
      "West spends 1 production on building a new cadre in Bombay (1 production remaining)\n",
      "West spends 1 production on building a new cadre in Sudan (0 production remaining)\n",
      "West draws 1 action cards (now holding 9 cards)\n",
      "West draws 4 investment cards (now holding 13 cards)\n",
      "West is done with production\n",
      "Axis may spend 11 production points\n",
      "\n",
      "-- from fixed chose ('action_card',)\n",
      "Axis spends 1 production on drawing an action card (10 production remaining)\n",
      "\n",
      "-- from fixed chose ('investment_card',)\n",
      "Axis spends 1 production on drawing an investment card (9 production remaining)\n",
      "\n",
      "-- from fixed chose ('investment_card',)\n",
      "Axis spends 1 production on drawing an investment card (8 production remaining)\n",
      "\n",
      "-- from fixed chose ('investment_card',)\n",
      "Axis spends 1 production on drawing an investment card (7 production remaining)\n",
      "\n",
      "-- from fixed chose ('investment_card',)\n",
      "Axis spends 1 production on drawing an investment card (6 production remaining)\n",
      "\n",
      "-- from 84 chose ('investment_card',)\n",
      "Axis spends 1 production on drawing an investment card (5 production remaining)\n",
      "\n",
      "-- from 84 chose ('Germany', 'Konigsberg', 'Fortress')\n",
      "Axis spends 1 production on building a new cadre in Konigsberg (4 production remaining)\n",
      "\n",
      "-- from 83 chose ('Germany', 'Ruhr', 'Fleet')\n",
      "Axis spends 1 production on building a new cadre in Ruhr (3 production remaining)\n",
      "\n",
      "-- from 83 chose ('Germany', 'Konigsberg', 'Submarine')\n",
      "Axis spends 1 production on building a new cadre in Konigsberg (2 production remaining)\n",
      "\n",
      "-- from 83 chose ('Italy', 'Sicily', 'Infantry')\n",
      "Axis spends 1 production on building a new cadre in Sicily (1 production remaining)\n",
      "\n",
      "-- from 83 chose ('Germany', 'Ruhr', 'Fortress')\n",
      "Traceback (most recent call last):\n",
      "  File \"/mnt/c/Users/anwan/OneDrive - UW/Khan/Other/tnt/passive_backend.py\", line 188, in step\n",
      "    all_actions = phase(G, player, action)\n",
      "  File \"/mnt/c/Users/anwan/OneDrive - UW/Khan/Other/tnt/production.py\", line 174, in production_phase\n",
      "    raise PhaseComplete # phase is done\n",
      "tnt_util.PhaseComplete\n",
      "\n",
      "During handling of the above exception, another exception occurred:\n",
      "\n",
      "Traceback (most recent call last):\n",
      "  File \"/mnt/c/Users/anwan/OneDrive - UW/Khan/Other/tnt/passive_backend.py\", line 190, in step\n",
      "    all_actions = next_phase()\n",
      "  File \"/mnt/c/Users/anwan/OneDrive - UW/Khan/Other/tnt/passive_backend.py\", line 165, in next_phase\n",
      "    out = phase_fn(G)\n",
      "  File \"/mnt/c/Users/anwan/OneDrive - UW/Khan/Other/tnt/government.py\", line 605, in government_pre_phase\n",
      "    return encode_government_actions(G)\n",
      "  File \"/mnt/c/Users/anwan/OneDrive - UW/Khan/Other/tnt/government.py\", line 562, in encode_government_actions\n",
      "    options.update(check_intelligence(G, active_player, invest_cards))\n",
      "  File \"/mnt/c/Users/anwan/OneDrive - UW/Khan/Other/tnt/government.py\", line 211, in check_intelligence\n",
      "    opts = get_intel_options(G, card, *G.players[player].stats.rivals)\n",
      "  File \"/mnt/c/Users/anwan/OneDrive - UW/Khan/Other/tnt/government.py\", line 181, in get_intel_options\n",
      "    topts = xset(G.objects.table[uid].tile for uid in G.players[target].units)\n",
      "  File \"/mnt/c/Users/anwan/OneDrive - UW/Khan/Other/tnt/structures/sets.py\", line 7, in __init__\n",
      "    super().__init__(*args, **kwargs)\n",
      "  File \"/mnt/c/Users/anwan/OneDrive - UW/Khan/Other/tnt/government.py\", line 181, in <genexpr>\n",
      "    topts = xset(G.objects.table[uid].tile for uid in G.players[target].units)\n",
      "  File \"/mnt/c/Users/anwan/OneDrive - UW/Khan/Other/tnt/structures/object_registry.py\", line 51, in __eq__\n",
      "    return self._id == other._id\n",
      "AttributeError: 'int' object has no attribute '_id'\n",
      "\n"
     ]
    }
   ],
   "source": [
    "for player in players:\n",
    "    while True:\n",
    "        out = format_msg_to_python(get_status(player))\n",
    "\n",
    "        if 'error' in out:\n",
    "            print(out.error)\n",
    "            break\n",
    "\n",
    "        if 'log' in out:\n",
    "            print(out.log)\n",
    "\n",
    "        if 'waiting_for' in out:\n",
    "            print('-- {} is waiting for {}'.format(player, out.waiting_for))\n",
    "            break\n",
    "\n",
    "        if player in fixed and len(fixed[player]):\n",
    "            action = fixed[player].pop()\n",
    "            print('-- from {} chose {}'.format('fixed', action))\n",
    "        else:\n",
    "            actions = list(util.decode_actions(out.actions))\n",
    "            action = random.choice(actions)\n",
    "            print('-- from {} chose {}'.format(len(actions), action))\n",
    "        \n",
    "        out = format_msg_to_python(take_action(player, action))\n",
    "        "
   ]
  },
  {
   "cell_type": "code",
   "execution_count": null,
   "metadata": {},
   "outputs": [],
   "source": [
    "G = get_G()\n",
    "render_dict(G)"
   ]
  },
  {
   "cell_type": "code",
   "execution_count": 7,
   "metadata": {},
   "outputs": [
    {
     "name": "stdout",
     "output_type": "stream",
     "text": [
      "Game saved\n"
     ]
    },
    {
     "data": {
      "text/plain": [
       "'saves/setup_complete.json'"
      ]
     },
     "execution_count": 7,
     "metadata": {},
     "output_type": "execute_result"
    }
   ],
   "source": [
    "# path = save('setup_complete.json')\n",
    "# path"
   ]
  },
  {
   "cell_type": "code",
   "execution_count": 8,
   "metadata": {},
   "outputs": [],
   "source": [
    "player = 'West'"
   ]
  },
  {
   "cell_type": "code",
   "execution_count": null,
   "metadata": {},
   "outputs": [],
   "source": [
    "player = 'USSR'"
   ]
  },
  {
   "cell_type": "code",
   "execution_count": null,
   "metadata": {},
   "outputs": [],
   "source": [
    "player = 'Axis'"
   ]
  },
  {
   "cell_type": "code",
   "execution_count": null,
   "metadata": {},
   "outputs": [],
   "source": [
    "player"
   ]
  },
  {
   "cell_type": "code",
   "execution_count": null,
   "metadata": {},
   "outputs": [],
   "source": [
    "out = format_msg_to_python(get_status(player))"
   ]
  },
  {
   "cell_type": "code",
   "execution_count": null,
   "metadata": {},
   "outputs": [],
   "source": [
    "if 'log' in out:\n",
    "    print(out.log)\n",
    "if 'error' in out:\n",
    "    print(out.error)"
   ]
  },
  {
   "cell_type": "code",
   "execution_count": null,
   "metadata": {},
   "outputs": [],
   "source": [
    "render_dict(out)"
   ]
  },
  {
   "cell_type": "code",
   "execution_count": null,
   "metadata": {},
   "outputs": [],
   "source": [
    "actions = list(util.decode_actions(out.actions))\n",
    "actions"
   ]
  },
  {
   "cell_type": "code",
   "execution_count": null,
   "metadata": {},
   "outputs": [],
   "source": [
    "render_dict(adict({ID:G.objects.table[ID] for ID in G.players[player].hand}))"
   ]
  },
  {
   "cell_type": "code",
   "execution_count": null,
   "metadata": {},
   "outputs": [],
   "source": [
    "# action = random.choice(actions)\n",
    "# action\n",
    "action = ('factory_upgrade',)"
   ]
  },
  {
   "cell_type": "code",
   "execution_count": null,
   "metadata": {},
   "outputs": [],
   "source": [
    "action = ('pass',)"
   ]
  },
  {
   "cell_type": "code",
   "execution_count": null,
   "metadata": {},
   "outputs": [],
   "source": [
    "action = ('action_8', 'Austria')"
   ]
  },
  {
   "cell_type": "code",
   "execution_count": null,
   "metadata": {},
   "outputs": [],
   "source": [
    "action = ('cancel',)"
   ]
  },
  {
   "cell_type": "code",
   "execution_count": null,
   "metadata": {},
   "outputs": [],
   "source": [
    "out = format_msg_to_python(take_action(player, action))"
   ]
  },
  {
   "cell_type": "code",
   "execution_count": null,
   "metadata": {},
   "outputs": [],
   "source": []
  },
  {
   "cell_type": "code",
   "execution_count": null,
   "metadata": {},
   "outputs": [],
   "source": []
  },
  {
   "cell_type": "code",
   "execution_count": null,
   "metadata": {},
   "outputs": [],
   "source": []
  },
  {
   "cell_type": "code",
   "execution_count": null,
   "metadata": {},
   "outputs": [],
   "source": []
  }
 ],
 "metadata": {
  "kernelspec": {
   "display_name": "Python 3",
   "language": "python",
   "name": "python3"
  },
  "language_info": {
   "codemirror_mode": {
    "name": "ipython",
    "version": 3
   },
   "file_extension": ".py",
   "mimetype": "text/x-python",
   "name": "python",
   "nbconvert_exporter": "python",
   "pygments_lexer": "ipython3",
   "version": "3.7.2"
  }
 },
 "nbformat": 4,
 "nbformat_minor": 2
}
